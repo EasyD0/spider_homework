{
 "cells": [
  {
   "cell_type": "code",
   "execution_count": null,
   "metadata": {},
   "outputs": [],
   "source": [
    "from article import Article\n",
    "from get_link import get_Link_of_kwds\n",
    "#import pandas as pd\n",
    "from input import input_info\n",
    "from concurrent.futures import ThreadPoolExecutor, as_completed\n",
    "import xlsxwriter"
   ]
  },
  {
   "cell_type": "code",
   "execution_count": null,
   "metadata": {
    "notebookRunGroups": {
     "groupValue": ""
    }
   },
   "outputs": [],
   "source": [
    "Target_Url,Excel_Path,Main_Name,Main_Article=input_info()\n",
    "ref_link_list=Main_Article.References_Link\n",
    "similar_link_list=Main_Article.Similar_Link"
   ]
  },
  {
   "cell_type": "code",
   "execution_count": null,
   "metadata": {},
   "outputs": [],
   "source": [
    "print(Main_Article)\n",
    "True==Main_Article.References_Link"
   ]
  },
  {
   "cell_type": "code",
   "execution_count": null,
   "metadata": {},
   "outputs": [],
   "source": [
    "Main_Article.get_reference_link()"
   ]
  },
  {
   "cell_type": "code",
   "execution_count": null,
   "metadata": {},
   "outputs": [],
   "source": [
    "from bs4 import BeautifulSoup\n",
    "bs_driver=BeautifulSoup(Main_Article.Html_Driver)\n",
    "View_Article=bs_driver.find_all(\"a\",{\"class\":'stats-reference-link-viewArticle'})\n",
    "print(Main_Article.Html_Driver)"
   ]
  },
  {
   "cell_type": "code",
   "execution_count": 5,
   "metadata": {},
   "outputs": [
    {
     "name": "stderr",
     "output_type": "stream",
     "text": [
      "C:\\Users\\Anable\\AppData\\Local\\Temp\\ipykernel_5056\\2880675267.py:16: UserWarning: Glyph 25628 (\\N{CJK UNIFIED IDEOGRAPH-641C}) missing from current font.\n",
      "  fig.savefig('./排名.svg')\n",
      "C:\\Users\\Anable\\AppData\\Local\\Temp\\ipykernel_5056\\2880675267.py:16: UserWarning: Glyph 32032 (\\N{CJK UNIFIED IDEOGRAPH-7D20}) missing from current font.\n",
      "  fig.savefig('./排名.svg')\n",
      "C:\\Users\\Anable\\AppData\\Local\\Temp\\ipykernel_5056\\2880675267.py:16: UserWarning: Glyph 32467 (\\N{CJK UNIFIED IDEOGRAPH-7ED3}) missing from current font.\n",
      "  fig.savefig('./排名.svg')\n",
      "C:\\Users\\Anable\\AppData\\Local\\Temp\\ipykernel_5056\\2880675267.py:16: UserWarning: Glyph 26524 (\\N{CJK UNIFIED IDEOGRAPH-679C}) missing from current font.\n",
      "  fig.savefig('./排名.svg')\n",
      "C:\\Users\\Anable\\AppData\\Local\\Temp\\ipykernel_5056\\2880675267.py:16: UserWarning: Glyph 30340 (\\N{CJK UNIFIED IDEOGRAPH-7684}) missing from current font.\n",
      "  fig.savefig('./排名.svg')\n",
      "C:\\Users\\Anable\\AppData\\Local\\Temp\\ipykernel_5056\\2880675267.py:16: UserWarning: Glyph 39034 (\\N{CJK UNIFIED IDEOGRAPH-987A}) missing from current font.\n",
      "  fig.savefig('./排名.svg')\n",
      "C:\\Users\\Anable\\AppData\\Local\\Temp\\ipykernel_5056\\2880675267.py:16: UserWarning: Glyph 24207 (\\N{CJK UNIFIED IDEOGRAPH-5E8F}) missing from current font.\n",
      "  fig.savefig('./排名.svg')\n",
      "C:\\Users\\Anable\\AppData\\Local\\Temp\\ipykernel_5056\\2880675267.py:16: UserWarning: Glyph 30456 (\\N{CJK UNIFIED IDEOGRAPH-76F8}) missing from current font.\n",
      "  fig.savefig('./排名.svg')\n",
      "C:\\Users\\Anable\\AppData\\Local\\Temp\\ipykernel_5056\\2880675267.py:16: UserWarning: Glyph 20284 (\\N{CJK UNIFIED IDEOGRAPH-4F3C}) missing from current font.\n",
      "  fig.savefig('./排名.svg')\n",
      "C:\\Users\\Anable\\AppData\\Local\\Temp\\ipykernel_5056\\2880675267.py:16: UserWarning: Glyph 24230 (\\N{CJK UNIFIED IDEOGRAPH-5EA6}) missing from current font.\n",
      "  fig.savefig('./排名.svg')\n",
      "C:\\Users\\Anable\\AppData\\Local\\Temp\\ipykernel_5056\\2880675267.py:16: UserWarning: Glyph 25490 (\\N{CJK UNIFIED IDEOGRAPH-6392}) missing from current font.\n",
      "  fig.savefig('./排名.svg')\n",
      "C:\\Users\\Anable\\AppData\\Local\\Temp\\ipykernel_5056\\2880675267.py:16: UserWarning: Glyph 21407 (\\N{CJK UNIFIED IDEOGRAPH-539F}) missing from current font.\n",
      "  fig.savefig('./排名.svg')\n",
      "C:\\Users\\Anable\\AppData\\Local\\Temp\\ipykernel_5056\\2880675267.py:16: UserWarning: Glyph 22987 (\\N{CJK UNIFIED IDEOGRAPH-59CB}) missing from current font.\n",
      "  fig.savefig('./排名.svg')\n",
      "C:\\Users\\Anable\\AppData\\Local\\Temp\\ipykernel_5056\\2880675267.py:17: UserWarning: Matplotlib is currently using module://matplotlib_inline.backend_inline, which is a non-GUI backend, so cannot show the figure.\n",
      "  fig.show()\n",
      "d:\\Anaconda3\\lib\\site-packages\\IPython\\core\\pylabtools.py:151: UserWarning: Glyph 25628 (\\N{CJK UNIFIED IDEOGRAPH-641C}) missing from current font.\n",
      "  fig.canvas.print_figure(bytes_io, **kw)\n",
      "d:\\Anaconda3\\lib\\site-packages\\IPython\\core\\pylabtools.py:151: UserWarning: Glyph 32032 (\\N{CJK UNIFIED IDEOGRAPH-7D20}) missing from current font.\n",
      "  fig.canvas.print_figure(bytes_io, **kw)\n",
      "d:\\Anaconda3\\lib\\site-packages\\IPython\\core\\pylabtools.py:151: UserWarning: Glyph 32467 (\\N{CJK UNIFIED IDEOGRAPH-7ED3}) missing from current font.\n",
      "  fig.canvas.print_figure(bytes_io, **kw)\n",
      "d:\\Anaconda3\\lib\\site-packages\\IPython\\core\\pylabtools.py:151: UserWarning: Glyph 26524 (\\N{CJK UNIFIED IDEOGRAPH-679C}) missing from current font.\n",
      "  fig.canvas.print_figure(bytes_io, **kw)\n",
      "d:\\Anaconda3\\lib\\site-packages\\IPython\\core\\pylabtools.py:151: UserWarning: Glyph 30340 (\\N{CJK UNIFIED IDEOGRAPH-7684}) missing from current font.\n",
      "  fig.canvas.print_figure(bytes_io, **kw)\n",
      "d:\\Anaconda3\\lib\\site-packages\\IPython\\core\\pylabtools.py:151: UserWarning: Glyph 39034 (\\N{CJK UNIFIED IDEOGRAPH-987A}) missing from current font.\n",
      "  fig.canvas.print_figure(bytes_io, **kw)\n",
      "d:\\Anaconda3\\lib\\site-packages\\IPython\\core\\pylabtools.py:151: UserWarning: Glyph 24207 (\\N{CJK UNIFIED IDEOGRAPH-5E8F}) missing from current font.\n",
      "  fig.canvas.print_figure(bytes_io, **kw)\n",
      "d:\\Anaconda3\\lib\\site-packages\\IPython\\core\\pylabtools.py:151: UserWarning: Glyph 30456 (\\N{CJK UNIFIED IDEOGRAPH-76F8}) missing from current font.\n",
      "  fig.canvas.print_figure(bytes_io, **kw)\n",
      "d:\\Anaconda3\\lib\\site-packages\\IPython\\core\\pylabtools.py:151: UserWarning: Glyph 20284 (\\N{CJK UNIFIED IDEOGRAPH-4F3C}) missing from current font.\n",
      "  fig.canvas.print_figure(bytes_io, **kw)\n",
      "d:\\Anaconda3\\lib\\site-packages\\IPython\\core\\pylabtools.py:151: UserWarning: Glyph 24230 (\\N{CJK UNIFIED IDEOGRAPH-5EA6}) missing from current font.\n",
      "  fig.canvas.print_figure(bytes_io, **kw)\n",
      "d:\\Anaconda3\\lib\\site-packages\\IPython\\core\\pylabtools.py:151: UserWarning: Glyph 25490 (\\N{CJK UNIFIED IDEOGRAPH-6392}) missing from current font.\n",
      "  fig.canvas.print_figure(bytes_io, **kw)\n",
      "d:\\Anaconda3\\lib\\site-packages\\IPython\\core\\pylabtools.py:151: UserWarning: Glyph 21407 (\\N{CJK UNIFIED IDEOGRAPH-539F}) missing from current font.\n",
      "  fig.canvas.print_figure(bytes_io, **kw)\n",
      "d:\\Anaconda3\\lib\\site-packages\\IPython\\core\\pylabtools.py:151: UserWarning: Glyph 22987 (\\N{CJK UNIFIED IDEOGRAPH-59CB}) missing from current font.\n",
      "  fig.canvas.print_figure(bytes_io, **kw)\n"
     ]
    },
    {
     "data": {
      "image/png": "[encoded data removed]",
      "text/plain": [
       "<Figure size 648x432 with 1 Axes>"
      ]
     },
     "metadata": {
      "needs_background": "light"
     },
     "output_type": "display_data"
    }
   ],
   "source": [
    "import numpy as np\n",
    "import matplotlib.pyplot as plt\n",
    "\n",
    "score_ranking=[2, 4, 5, 7, 9, 6, 8, 3, 1]\n",
    "\n",
    "fig=plt.figure(figsize=(9,6))\n",
    "fig.subplots_adjust(right=0.7)\n",
    "ax=fig.subplots()\n",
    "\n",
    "handle1=ax.plot(np.array(range(len(score_ranking))),np.array(score_ranking),c='r',label='相似度排序')\n",
    "handle2=ax.plot(np.array(range(len(score_ranking))),np.array(range(len(score_ranking))),c='b',label='原始排序')\n",
    "ax.set_xlabel('搜素结果的顺序')\n",
    "ax.set_ylabel('相似度')\n",
    "handle_list=[handle1[0], handle2[0]]\n",
    "ax.legend(handles=handle_list,loc='upper left',bbox_to_anchor=(1.0, 1))\n",
    "fig.savefig('./排名.svg')\n",
    "fig.show()"
   ]
  }
 ],
 "metadata": {
  "kernelspec": {
   "display_name": "spider",
   "language": "python",
   "name": "python3"
  },
  "language_info": {
   "codemirror_mode": {
    "name": "ipython",
    "version": 3
   },
   "file_extension": ".py",
   "mimetype": "text/x-python",
   "name": "python",
   "nbconvert_exporter": "python",
   "pygments_lexer": "ipython3",
   "version": "3.9.12"
  },
  "orig_nbformat": 4
 },
 "nbformat": 4,
 "nbformat_minor": 2
}
