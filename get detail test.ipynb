{
 "cells": [
  {
   "cell_type": "code",
   "execution_count": 1,
   "metadata": {},
   "outputs": [
    {
     "name": "stderr",
     "output_type": "stream",
     "text": [
      "Using Hong Kong server backend.\n"
     ]
    }
   ],
   "source": [
    "import time\n",
    "from selenium import webdriver\n",
    "#from selenium.webdriver.support.ui import WebDriverWait\n",
    "from bs4 import BeautifulSoup\n",
    "from urllib.request import urlopen\n",
    "import re\n",
    "import translators as ts\n",
    "import json\n"
   ]
  },
  {
   "cell_type": "code",
   "execution_count": 2,
   "metadata": {},
   "outputs": [
    {
     "name": "stderr",
     "output_type": "stream",
     "text": [
      "C:\\Users\\Anable\\AppData\\Local\\Temp\\ipykernel_33988\\2132066624.py:8: DeprecationWarning: executable_path has been deprecated, please pass in a Service object\n",
      "  driver = webdriver.Chrome(executable_path=\".\\\\chromedriver.exe\")\n"
     ]
    }
   ],
   "source": [
    "url=\"https://ieeexplore.ieee.org/document/9411225\"\n",
    "url=\"https://ieeexplore.ieee.org/document/7809977\" #会议\n",
    "url=\"https://ieeexplore.ieee.org/document/5165285\" #TWC\n",
    "url='https://ieeexplore.ieee.org/document/8524609'\n",
    "html=urlopen(url)\n",
    "html_byte=html.read()\n",
    "\n",
    "driver = driver = webdriver.Chrome(executable_path=\".\\\\chromedriver.exe\",options=webdriver.ChromeOptions().add_argument(\"--headless\"))# type: ignore\n",
    "driver.get(url)\n",
    "time.sleep(5)\n",
    "html = driver.page_source\n",
    "driver.quit()\n",
    "\n",
    "bs=BeautifulSoup(html_byte)\n",
    "bs_driver=BeautifulSoup(html,'lxml' )"
   ]
  },
  {
   "cell_type": "code",
   "execution_count": 44,
   "metadata": {},
   "outputs": [],
   "source": [
    "f=open(\".\\\\html\\\\get detail test.html\",\"wb\")\n",
    "f.write(html_byte)\n",
    "f.close()"
   ]
  },
  {
   "cell_type": "code",
   "execution_count": 45,
   "metadata": {},
   "outputs": [],
   "source": [
    "f=open(\".\\\\html\\\\get detail test2.html\",\"w\")\n",
    "f.write(html)\n",
    "f.close()\n"
   ]
  },
  {
   "attachments": {},
   "cell_type": "markdown",
   "metadata": {},
   "source": [
    "获取摘要和翻译"
   ]
  },
  {
   "cell_type": "code",
   "execution_count": 3,
   "metadata": {},
   "outputs": [
    {
     "name": "stdout",
     "output_type": "stream",
     "text": [
      "Chatbots appeared in large numbers at the beginning of the current decade. Interactive technology, often combined with artificial intelligence, has rapidly invaded and occupied the world of online chat. Chatbots are not just elements of virtual assistants, but are used by organizations and governments on websites, in applications, and instant messaging platforms to promote products, ideas or services. In this paper, the authors firstly present a theoretical and historical background, then discuss the issues of using chatbots as educational assistants, and finally describe the basic steps and challenges of programming a bot.\n",
      "聊天机器人在当前十年开始时大量出现。交互式技术通常与人工智能相结合，已迅速入侵并占据了在线聊天的世界。聊天机器人不仅是虚拟助手的要素，而且在网站，应用程序和即时消息平台上的组织和政府使用以促进产品，想法或服务。在本文中，作者首先提出了理论和历史背景，然后讨论使用聊天机器人作为教育助手的问题，最后描述了编程机器人的基本步骤和挑战。\n"
     ]
    }
   ],
   "source": [
    "abstract = bs.find('meta', {'property': 'twitter:description'})['content']#.replace('n','') # type: ignore\n",
    "print(abstract)\n",
    "\n",
    "abstract_translation=ts.google(abstract,from_language=\"en\",to_language='zh', host_url=\"https://translate.google.com/\")\n",
    "print(abstract_translation)"
   ]
  },
  {
   "attachments": {},
   "cell_type": "markdown",
   "metadata": {},
   "source": [
    "获取关键词"
   ]
  },
  {
   "cell_type": "code",
   "execution_count": 4,
   "metadata": {},
   "outputs": [
    {
     "name": "stdout",
     "output_type": "stream",
     "text": [
      "xplGlobal.document.metadata={\"userInfo\":{\"customerNameRaw\":\"SHENZHEN UNIVERSITY\",\"institutionName\":\"SHENZHEN UNIVERSITY\",\"institute\":true,\"member\":false,\"individual\":false,\"guest\":false,\"subscribedContent\":false,\"fileCabinetContent\":false,\"fileCabinetUser\":false,\"institutionalFileCabinetUser\":false,\"products\":\"IEL|VDE|NOKIA BELL LABS|\",\"instType\":\"Academic\",\"userIds\":[12631],\"showPatentCitations\":true,\"showGet802Link\":true,\"openUrlImgLoc\":\"/assets/img/btn.find-in-library.png\",\"openUrlLink\":\"NA\",\"showOpenUrlLink\":false,\"marketingInfoCaptured\":false,\"tracked\":false,\"ringGoldId\":\"47890\",\"desktop\":false,\"delegatedAdmin\":false,\"isInstitutionDashboardEnabled\":false,\"isInstitutionProfileEnabled\":false,\"isRoamingEnabled\":true,\"isDelegatedAdmin\":false,\"isMdl\":false,\"isCwg\":false,\"isIel\":true,\"isAcademic\":true},\"authors\":[{\"name\":\"Fei Wen\",\"affiliation\":[\"Department of Electronic Engineering, Shanghai Jiao Tong University, Shanghai, China\",\"Air Force Engineering University, Xian, China\"],\"firstName\":\"Fei\",\"lastName\":\"Wen\",\"id\":\"37085786582\"},{\"name\":\"Umer Javed\",\"affiliation\":[\"Department of Electronic Engineering, Shanghai Jiao Tong University, Shanghai, China\"],\"firstName\":\"Umer\",\"lastName\":\"Javed\",\"id\":\"38666977700\"},{\"name\":\"Yuan Yang\",\"affiliation\":[\"Air Force Engineering University, Xian, China\"],\"firstName\":\"Yuan\",\"lastName\":\"Yang\",\"id\":\"37085850257\"},{\"name\":\"Di He\",\"affiliation\":[\"Department of Electronic Engineering, Shanghai Jiao Tong University, Shanghai, China\"],\"firstName\":\"Di\",\"lastName\":\"He\",\"id\":\"37271921900\"},{\"name\":\"Yi Zhang\",\"affiliation\":[\"Huawei Technologies Co. Ltd., Shanghai, P.R. China\"],\"firstName\":\"Yi\",\"lastName\":\"Zhang\",\"id\":\"37086122334\"}],\"isbn\":[{\"format\":\"Electronic ISBN\",\"value\":\"978-1-5090-2879-5\",\"isbnType\":\"\"},{\"format\":\"Print on Demand(PoD) ISBN\",\"value\":\"978-1-5090-2880-1\",\"isbnType\":\"\"}],\"articleNumber\":\"7809977\",\"dbTime\":\"3 ms\",\"metrics\":{\"citationCountPaper\":1,\"citationCountPatent\":0,\"totalDownloads\":194},\"purchaseOptions\":{\"showOtherFormatPricingTab\":false,\"showPdfFormatPricingTab\":true,\"pdfPricingInfoAvailable\":true,\"otherPricingInfoAvailable\":false,\"mandatoryBundle\":false,\"optionalBundle\":false,\"displayTextWhenOtherFormatPricingNotAvailable\":\"The purchase and pricing options for this item are unavailable. Select items are only available as part of a subscription package. You may try again later or <a href='https://ieeexplore.ieee.org/xpl/contact' target='_blank'>contact us</a> for more information.\",\"pdfPricingInfo\":[{\"memberPrice\":\"$14.95\",\"nonMemberPrice\":\"$33.00\",\"partNumber\":\"7809977\",\"type\":\"PDF/HTML\"}]},\"getProgramTermsAccepted\":false,\"sections\":{\"abstract\":\"true\",\"authors\":\"true\",\"figures\":\"true\",\"multimedia\":\"false\",\"references\":\"true\",\"citedby\":\"true\",\"keywords\":\"true\",\"definitions\":\"false\",\"algorithm\":\"false\",\"dataset\":\"false\",\"cadmore\":\"false\",\"footnotes\":\"false\",\"disclaimer\":\"false\",\"relatedContent\":\"false\",\"metrics\":\"true\"},\"keywords\":[{\"type\":\"IEEE Keywords\",\"kwd\":[\"Multiple signal classification\",\"Covariance matrices\",\"Signal to noise ratio\",\"Direction-of-arrival estimation\",\"Signal processing algorithms\",\"Maximum likelihood estimation\",\"Array signal processing\"]},{\"type\":\"INSPEC: Controlled Indexing\",\"kwd\":[\"array signal processing\",\"covariance matrices\",\"direction-of-arrival estimation\",\"signal classification\"]},{\"type\":\"INSPEC: Non-Controlled Indexing\",\"kwd\":[\"subspace direction-of-arrival estimation improvement\",\"unknown nonuniform noise field\",\"subspace DOA estimation method\",\"array covariance matrix eigen-space\",\"signal-to-noise ratio\",\"SNR\",\"multiple signal classification\",\"root-MUSIC algorithm\",\"Cramer-Rao bound\"]},{\"type\":\"Author Keywords \",\"kwd\":[\"Array signal processing\",\"direction-of-arrival estimation\",\"minimum variance\",\"multiple signal classification\",\"nonuniform noise\"]}],\"pdfUrl\":\"/stamp/stamp.jsp?tp=&arnumber=7809977\",\"pubLink\":\"/xpl/conhome/7801397/proceeding\",\"abstract\":\"This paper improves the classic subspace DOA estimation methods to combat unknown nonuniform noise. Utilizing an approximate orthogonality between the signal subspace and a tailored eigen-space of the array covariance matrix in high signal-to-noise ratio (SNR) conditions, we modify the classic multiple signal classification (MUSIC) and root-MUSIC algorithms to be competent in unknown nonuniform noise. Compared to the MUSIC and root-MUSIC methods, the proposed methods are able to achieve significant better performance in unknown nonuniform noise environments. Simulation results show that the two proposed methods significantly outperform the MUSIC and root-MUSIC methods in the whole SNR range and approach the Cramer-Rao bound (CRB) at high SNR.\",\"formulaStrippedArticleTitle\":\"Improved subspace direction-of-arrival estimation in unknown nonuniform noise fields\",\"allowComments\":false,\"displayPublicationDate\":\"02-04 November 2016\",\"doi\":\"10.1109/UPINLBS.2016.7809977\",\"publicationYear\":\"2016\",\"displayPublicationTitle\":\"2016 Fourth International Conference on Ubiquitous Positioning, Indoor Navigation and Location Based Services (UPINLBS)\",\"publicationDate\":\"November 2016\",\"publicationTitle\":\"2016 Fourth International Conference on Ubiquitous Positioning, Indoor Navigation and Location Based Services (UPINLBS)\",\"issueLink\":\"/xpl/tocresult.jsp?isnumber=7809946&punumber=7801397\",\"dateOfInsertion\":\"09 January 2017\",\"pdfPath\":\"/iel7/7801397/7809946/07809977.pdf\",\"startPage\":\"230\",\"endPage\":\"233\",\"rightsLink\":\"http://s100.copyright.com/AppDispatchServlet?publisherName=ieee&publication=proceedings&title=Improved+subspace+direction-of-arrival+estimation+in+unknown+nonuniform+noise+fields&isbn=978-1-5090-2879-5&publicationDate=November+2016&author=Fei+Wen&ContentID=10.1109/UPINLBS.2016.7809977&orderBeanReset=true&startPage=230&endPage=233&proceedingName=2016+Fourth+International+Conference+on+Ubiquitous+Positioning%2C+Indoor+Navigation+and+Location+Based+Services+%28UPINLBS%29\",\"doiLink\":\"https://doi.org/10.1109/UPINLBS.2016.7809977\",\"articleCopyRight\":\"2016 IEEE\",\"isReadingRoomArticle\":false,\"isGetArticle\":false,\"isGetAddressInfoCaptured\":false,\"isMarketingOptIn\":false,\"pubTopics\":[{\"name\":\"Communication, Networking and Broadcast Technologies\"},{\"name\":\"Computing and Processing\"},{\"name\":\"Geoscience\"},{\"name\":\"Robotics and Control Systems\"},{\"name\":\"Signal Processing and Analysis\"},{\"name\":\"Transportation\"}],\"publisher\":\"IEEE\",\"isFreeDocument\":false,\"isDynamicHtml\":true,\"isNotDynamicOrStatic\":false,\"htmlAbstractLink\":\"/document/7809977/\",\"displayDocTitle\":\"Improved subspace direction-of-arrival estimation in unknown nonuniform noise fields\",\"isStandard\":false,\"xploreDocumentType\":\"Conference Publication\",\"isSMPTE\":false,\"isOUP\":false,\"isSAE\":false,\"isNow\":false,\"isCustomDenial\":false,\"isConference\":true,\"isProduct\":false,\"isSpringer\":false,\"htmlLink\":\"/document/7809977/\",\"persistentLink\":\"https://ieeexplore.ieee.org/servlet/opac?punumber=7801397\",\"isOpenAccess\":false,\"isEarlyAccess\":false,\"isJournal\":false,\"isBook\":false,\"isBookWithoutChapters\":false,\"isChapter\":false,\"isStaticHtml\":false,\"isEphemera\":false,\"accessionNumber\":\"16583779\",\"isPromo\":false,\"startPage\":\"230\",\"articleCopyRight\":\"2016 IEEE\",\"openAccessFlag\":\"F\",\"insertDate\":\"09 January 2017\",\"ephemeraFlag\":\"false\",\"title\":\"Improved subspace direction-of-arrival estimation in unknown nonuniform noise fields\",\"confLoc\":\"Shanghai, China\",\"accessionNumber\":\"16583779\",\"html_flag\":\"false\",\"ml_html_flag\":\"true\",\"sourcePdf\":\"UPINLBS_2016_paper_51.pdf\",\"displayPublicationDate\":\"02-04 November 2016\",\"mlTime\":\"PT0.063882S\",\"xplore-pub-id\":\"7801397\",\"pdfPath\":\"/iel7/7801397/7809946/07809977.pdf\",\"isNumber\":\"7809946\",\"rightsLinkFlag\":\"1\",\"contentType\":\"conferences\",\"publicationDate\":\"November 2016\",\"publicationNumber\":\"7801397\",\"citationCount\":\"1\",\"xplore-issue\":\"7809946\",\"articleId\":\"7809977\",\"publicationTitle\":\"2016 Fourth International Conference on Ubiquitous Positioning, Indoor Navigation and Location Based Services (UPINLBS)\",\"sections\":{\"abstract\":\"true\",\"authors\":\"true\",\"figures\":\"true\",\"multimedia\":\"false\",\"references\":\"true\",\"citedby\":\"true\",\"keywords\":\"true\",\"definitions\":\"false\",\"algorithm\":\"false\",\"dataset\":\"false\",\"cadmore\":\"false\",\"footnotes\":\"false\",\"disclaimer\":\"false\",\"relatedContent\":\"false\",\"metrics\":\"true\"},\"contentTypeDisplay\":\"Conferences\",\"publicationYear\":\"2016\",\"subType\":\"IEEE Conference\",\"_value\":\"IEEE\",\"lastupdate\":\"2023-05-13\",\"mediaPath\":\"/mediastore_new/IEEE/content/media/7801397/7809946/7809977\",\"endPage\":\"233\",\"displayPublicationTitle\":\"2016 Fourth International Conference on Ubiquitous Positioning, Indoor Navigation and Location Based Services (UPINLBS)\",\"doi\":\"10.1109/UPINLBS.2016.7809977\"};\n",
      "['Array signal processing', 'direction-of-arrival estimation', 'minimum variance', 'multiple signal classification', 'nonuniform noise']\n"
     ]
    }
   ],
   "source": [
    "temp=bs.find(\"body\",{\"class\",\"body-resp\"}).find('div', id=\"LayoutWrapper\").find('div', {\"class\",'col'}).find_all(\"script\", type=\"text/javascript\")\n",
    "\n",
    "for script_tag in temp:\n",
    "    if script_tag:\n",
    "        script_text=script_tag.string\n",
    "        if script_text:\n",
    "            match = re.search(r'xplGlobal\\.document\\.metadata\\s*=\\s*(\\{.*?\\};)', script_text, re.DOTALL) #正则表达式匹配\n",
    "            if match:\n",
    "                metadata_text = match.group()\n",
    "                print(metadata_text)\n",
    "                break\n",
    "        else:\n",
    "            continue\n",
    "    else:\n",
    "        continue\n",
    "\n",
    "keywords_string=re.search(r'\"keywords\":\\s*\\[.*?\\],\"', metadata_text, re.DOTALL).group()\n",
    "\n",
    "All_Keywords_list_string=re.search(r'\\[.*\\]', keywords_string, re.DOTALL)\n",
    "\n",
    "keywords_list=json.loads(All_Keywords_list_string.group())[3]['kwd']\n",
    "print(keywords_list)"
   ]
  },
  {
   "attachments": {},
   "cell_type": "markdown",
   "metadata": {},
   "source": [
    "获取参考文献"
   ]
  },
  {
   "cell_type": "code",
   "execution_count": 6,
   "metadata": {},
   "outputs": [
    {
     "name": "stdout",
     "output_type": "stream",
     "text": [
      "['https://ieeexplore.ieee.org/document/526899', 'https://ieeexplore.ieee.org/document/6747980', 'https://ieeexplore.ieee.org/document/1143830', 'https://ieeexplore.ieee.org/document/1164935', 'https://ieeexplore.ieee.org/document/398717', 'https://ieeexplore.ieee.org/document/1164776', 'https://ieeexplore.ieee.org/document/1573', 'https://ieeexplore.ieee.org/document/80789', 'https://ieeexplore.ieee.org/document/928686', 'https://ieeexplore.ieee.org/document/782181', 'https://ieeexplore.ieee.org/document/4545252', 'https://ieeexplore.ieee.org/document/382403', 'https://ieeexplore.ieee.org/document/267001', 'https://ieeexplore.ieee.org/document/45540', 'https://ieeexplore.ieee.org/document/388855', 'https://ieeexplore.ieee.org/document/6559349'] ['https://doi.org/10.1049/ip-f-2.1993.0002', 'https://doi.org/10.1016/j.sigpro.2009.03.033', 'https://doi.org/10.1016/j.sigpro.2014.03.002', 'https://doi.org/10.1016/j.aeue.2012.08.006']\n"
     ]
    }
   ],
   "source": [
    "View_Article=bs_driver.find_all(\"a\",{\"class\":'stats-reference-link-viewArticle'})\n",
    "CrossRef=bs_driver.find_all(\"a\",{\"class\":'stats-reference-link-crossRef'})\n",
    "View_Article_list=[]\n",
    "CrossRef_list=[]\n",
    "\n",
    "for article in View_Article:\n",
    "    if article:\n",
    "        View_Article_list.append(article.get(\"href\"))\n",
    "        \n",
    "View_Article_list=['https://ieeexplore.ieee.org'+link for link in View_Article_list]\n",
    "\n",
    "for article in CrossRef:\n",
    "    if article:\n",
    "        CrossRef_list.append(article.get(\"href\"))\n",
    "\n",
    "print(View_Article_list,CrossRef_list)"
   ]
  },
  {
   "attachments": {},
   "cell_type": "markdown",
   "metadata": {},
   "source": [
    "获取期刊名"
   ]
  },
  {
   "cell_type": "code",
   "execution_count": 46,
   "metadata": {},
   "outputs": [
    {
     "name": "stdout",
     "output_type": "stream",
     "text": [
      "2016 Fourth International Conference on Ubiquitous Positioning, Indoor Navigation and Location Based Services (UPINLBS)\n"
     ]
    },
    {
     "data": {
      "text/plain": [
       "\"impact_factor_list={'IEEE Transactions on Wireless Communications':10}\\nif Journal_Title in impact_factor_list:\\n    impact_factor=str(impact_factor_list[Journal_Title])\\nelse:\\n    impact_factor='null'\\n\\nprint(impact_factor)\""
      ]
     },
     "execution_count": 46,
     "metadata": {},
     "output_type": "execute_result"
    }
   ],
   "source": [
    "Journal_Title=bs_driver.find('strong', text='Published in: ').find_next_sibling().get_text()\n",
    "print(Journal_Title)\n",
    "\n",
    "'''impact_factor_list={'IEEE Transactions on Wireless Communications':10}\n",
    "if Journal_Title in impact_factor_list:\n",
    "    impact_factor=str(impact_factor_list[Journal_Title])\n",
    "else:\n",
    "    impact_factor='null'\n",
    "\n",
    "print(impact_factor)'''"
   ]
  },
  {
   "attachments": {},
   "cell_type": "markdown",
   "metadata": {},
   "source": [
    "获取DOI"
   ]
  },
  {
   "cell_type": "code",
   "execution_count": 35,
   "metadata": {},
   "outputs": [
    {
     "name": "stdout",
     "output_type": "stream",
     "text": [
      "https://doi.org/10.1109/TWC.2009.070566\n"
     ]
    }
   ],
   "source": [
    "doi=bs_driver.find('strong', text='DOI: ').find_next_sibling().get_text()\n",
    "Doi_link='https://doi.org/'+doi\n",
    "print(Doi_link)"
   ]
  },
  {
   "attachments": {},
   "cell_type": "markdown",
   "metadata": {},
   "source": [
    "获取影响因子"
   ]
  },
  {
   "cell_type": "code",
   "execution_count": 30,
   "metadata": {},
   "outputs": [
    {
     "name": "stdout",
     "output_type": "stream",
     "text": [
      "None\n",
      "None\n",
      "<a _ngcontent-ijv-c160=\"\" href=\"/browse/periodicals/title/\">Journals &amp; Magazines</a>\n"
     ]
    }
   ],
   "source": [
    "print(bs_driver.find(href='/browse/conferences/title/')) #会议 \n",
    "print(bs_driver.find({'href':'/browse/conferences/title/'}))   #TODO 为什么和上面输出不一样\n",
    "print(bs_driver.find(href=\"/browse/periodicals/title/\")) #期刊和杂志\n",
    "\n",
    "#print(bs_driver.find(text='Journals & Magazines').parent) #这是不行的,他们都有这个,无法区分\n"
   ]
  },
  {
   "cell_type": "code",
   "execution_count": 31,
   "metadata": {},
   "outputs": [
    {
     "name": "stdout",
     "output_type": "stream",
     "text": [
      "this is a Journals or Magazines paper\n",
      "https://ieeexplore.ieee.org/xpl/RecentIssue.jsp?punumber=7693\n"
     ]
    },
    {
     "name": "stderr",
     "output_type": "stream",
     "text": [
      "C:\\Users\\Anable\\AppData\\Local\\Temp\\ipykernel_3992\\1482078678.py:12: DeprecationWarning: executable_path has been deprecated, please pass in a Service object\n",
      "  driver = webdriver.Chrome(executable_path=\".\\\\chromedriver.exe\")\n"
     ]
    },
    {
     "name": "stdout",
     "output_type": "stream",
     "text": [
      "8.346\n"
     ]
    }
   ],
   "source": [
    "Journal_index=False\n",
    "\n",
    "if bs_driver.find(href=\"/browse/periodicals/title/\"):\n",
    "    \n",
    "    Journal_index=True \n",
    "    print('this is a Journals or Magazines paper')\n",
    "\n",
    "    journal_link='https://ieeexplore.ieee.org'+bs_driver.find('strong', text='Published in: ').find_next_sibling().get('href')\n",
    "    print(journal_link)\n",
    "\n",
    "    driver = webdriver.Chrome(executable_path=\".\\\\chromedriver.exe\")\n",
    "    driver.get(journal_link)\n",
    "    time.sleep(5)\n",
    "    journal_html = driver.page_source\n",
    "    driver.quit()\n",
    "\n",
    "    f=open(\".\\\\html\\\\get detail test3.html\",\"w\")\n",
    "    f.write(journal_html)\n",
    "    f.close()\n",
    "\n",
    "    bs_temp=BeautifulSoup(journal_html)\n",
    "    impact_factor=bs_temp.find('a',{'class':'stats-jhp-impact-factor'}).find('span',{'class':'text-md-md-lh'}).get_text()\n",
    "    \n",
    "else :\n",
    "    impact_factor=''\n",
    "\n",
    "print(impact_factor)"
   ]
  },
  {
   "attachments": {},
   "cell_type": "markdown",
   "metadata": {},
   "source": [
    "获取日期"
   ]
  },
  {
   "cell_type": "code",
   "execution_count": 59,
   "metadata": {},
   "outputs": [
    {
     "name": "stdout",
     "output_type": "stream",
     "text": [
      " 21 July 2009 \n"
     ]
    }
   ],
   "source": [
    "if not Journal_index:\n",
    "    Date=str(bs_driver.find('strong', text='Date of Conference: ').next_sibling) # type: ignore\n",
    "else:\n",
    "    Date=str(bs_driver.find('strong', text='Date of Publication:').next_sibling) # type: ignore\n",
    "\n",
    "print(Date)\n"
   ]
  },
  {
   "attachments": {},
   "cell_type": "markdown",
   "metadata": {},
   "source": [
    "获取标题"
   ]
  },
  {
   "cell_type": "code",
   "execution_count": 33,
   "metadata": {},
   "outputs": [
    {
     "name": "stdout",
     "output_type": "stream",
     "text": [
      "A new compact multichannel receiver for underwater wireless communication networks\n"
     ]
    }
   ],
   "source": [
    "print(bs.find('title').find_next_sibling().get('content')) # type: ignore #这里用.next_sibling会出错,因为两个元素间有空格"
   ]
  },
  {
   "attachments": {},
   "cell_type": "markdown",
   "metadata": {},
   "source": [
    "获取文档PDF"
   ]
  },
  {
   "cell_type": "code",
   "execution_count": 4,
   "metadata": {},
   "outputs": [],
   "source": [
    "doi='10.1109/TWC.2009.070566'\n",
    "scihub_link='https://sci-hub.se/'+doi\n",
    "pdf_html=urlopen(scihub_link).read()\n",
    "bs_pdf=BeautifulSoup(pdf_html)"
   ]
  },
  {
   "cell_type": "code",
   "execution_count": 8,
   "metadata": {},
   "outputs": [],
   "source": [
    "f=open('pdf.html','wb')\n",
    "f.write(pdf_html)\n",
    "f.close()"
   ]
  },
  {
   "cell_type": "code",
   "execution_count": 5,
   "metadata": {},
   "outputs": [
    {
     "name": "stdout",
     "output_type": "stream",
     "text": [
      "https://zero.sci-hub.se/3452/c5f527d3fa8cc050a5e45aa2735b02ba/abdi2009.pdf#navpanes=0&view=FitH\n"
     ]
    }
   ],
   "source": [
    "pdf_link='https:'+bs_pdf.find('embed',{'type':\"application/pdf\"}).get('src')\n",
    "print(pdf_link)"
   ]
  },
  {
   "cell_type": "code",
   "execution_count": 7,
   "metadata": {},
   "outputs": [],
   "source": [
    "import requests\n",
    "import os\n",
    "\n",
    "response = requests.get(pdf_link)"
   ]
  },
  {
   "cell_type": "code",
   "execution_count": 10,
   "metadata": {},
   "outputs": [],
   "source": [
    "file_name = os.path.basename(pdf_link)+'.pdf'\n",
    "with open('.\\\\pdf\\\\'+file_name, 'wb') as f:\n",
    "    f.write(response.content)"
   ]
  }
 ],
 "metadata": {
  "kernelspec": {
   "display_name": "spider",
   "language": "python",
   "name": "python3"
  },
  "language_info": {
   "codemirror_mode": {
    "name": "ipython",
    "version": 3
   },
   "file_extension": ".py",
   "mimetype": "text/x-python",
   "name": "python",
   "nbconvert_exporter": "python",
   "pygments_lexer": "ipython3",
   "version": "3.11.0"
  },
  "orig_nbformat": 4
 },
 "nbformat": 4,
 "nbformat_minor": 2
}
