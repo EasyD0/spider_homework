{
 "cells": [
  {
   "cell_type": "code",
   "execution_count": 28,
   "metadata": {},
   "outputs": [],
   "source": [
    "import time\n",
    "from selenium import webdriver\n",
    "#from selenium.webdriver.support.ui import WebDriverWait\n",
    "from bs4 import BeautifulSoup\n",
    "from urllib.request import urlopen\n",
    "import re\n",
    "#import translators as ts\n",
    "#import json\n",
    "#from article import Article\n",
    "#from get_link import get_Link_of_kwds\n",
    "#import pandas as pd\n",
    "import requests\n",
    "from article import Article\n",
    "from selenium.webdriver.chrome.options import Options"
   ]
  },
  {
   "cell_type": "code",
   "execution_count": 29,
   "metadata": {},
   "outputs": [],
   "source": [
    "def input_info(target_url='',\n",
    "               excel_path='.\\\\output.xlsx',\n",
    "               main_name=''):\n",
    "\n",
    "    target_url =input(\"输入主要链接:\") \n",
    "    print(\"正在检测链接是否有效\")\n",
    "    article=Article(target_url,True)\n",
    "\n",
    "    #if urlopen(target_url):\n",
    "    if article.Title:\n",
    "        print('链接有效')\n",
    "    else:\n",
    "        print('链接无效')\n",
    "        Main_Name =input(\"输入主要文章名:\") \n",
    "        if not Main_Name:\n",
    "            print('未输入有效信息,将重新开始')\n",
    "            input_info()\n",
    "        else:\n",
    "            url=(\"https://ieeexplore.ieee.org/search/searchresult.jsp?newsearch=true&queryText=\"+Main_Name).replace(' ','%20')\n",
    "            \n",
    "            #注意驱动的位置\n",
    "            driver = webdriver.Chrome(executable_path=\".\\\\chromedriver.exe\")\n",
    "            driver.get(url)\n",
    "            time.sleep(5)\n",
    "            html_driver= driver.page_source\n",
    "            driver.quit()\n",
    "            bs=BeautifulSoup(html_driver,'lxml')\n",
    "            target_url='https://ieeexplore.ieee.org'+bs.find('h3',{'class':\"text-md-md-lh\"}).find('a').get('href') \n",
    "            \n",
    "    excel_path=input('输入保存的位置和名称(默认为当前目录):')\n",
    "    print(target_url)\n",
    "    return target_url,excel_path,main_name,article"
   ]
  },
  {
   "cell_type": "code",
   "execution_count": 30,
   "metadata": {},
   "outputs": [
    {
     "name": "stdout",
     "output_type": "stream",
     "text": [
      "正在检测链接是否有效\n",
      "链接有效\n",
      "https://ieeexplore.ieee.org/document/5407524/\n"
     ]
    }
   ],
   "source": [
    "Target_Url,Excel_Path,Main_Name,Main_Article=input_info()"
   ]
  }
 ],
 "metadata": {
  "kernelspec": {
   "display_name": "spider",
   "language": "python",
   "name": "python3"
  },
  "language_info": {
   "codemirror_mode": {
    "name": "ipython",
    "version": 3
   },
   "file_extension": ".py",
   "mimetype": "text/x-python",
   "name": "python",
   "nbconvert_exporter": "python",
   "pygments_lexer": "ipython3",
   "version": "3.11.0"
  },
  "orig_nbformat": 4
 },
 "nbformat": 4,
 "nbformat_minor": 2
}
