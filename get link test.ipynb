{
 "cells": [
  {
   "cell_type": "code",
   "execution_count": 2,
   "metadata": {},
   "outputs": [],
   "source": [
    "import time\n",
    "from selenium import webdriver\n",
    "from selenium.webdriver.support.ui import WebDriverWait\n",
    "from bs4 import BeautifulSoup\n",
    "from urllib.request import urlopen\n",
    "from selenium.webdriver.chrome.options import Options"
   ]
  },
  {
   "cell_type": "code",
   "execution_count": 3,
   "metadata": {},
   "outputs": [
    {
     "name": "stderr",
     "output_type": "stream",
     "text": [
      "C:\\Users\\Anable\\AppData\\Local\\Temp\\ipykernel_28660\\4063664397.py:2: DeprecationWarning: executable_path has been deprecated, please pass in a Service object\n",
      "  driver = webdriver.Chrome(executable_path=\".\\\\chromedriver.exe\")\n"
     ]
    }
   ],
   "source": [
    "URL=\"https://ieeexplore.ieee.org/search/searchresult.jsp?newsearch=true&queryText=security\"\n",
    "driver = driver = webdriver.Chrome(executable_path=\".\\\\chromedriver.exe\",options=Options().add_argument(\"--headless\"))\n",
    "driver.get(URL)\n",
    "time.sleep(10)\n",
    "html_driver = driver.page_source\n",
    "driver.quit()\n",
    "\n",
    "html_byte=urlopen(URL).read() "
   ]
  },
  {
   "cell_type": "code",
   "execution_count": 7,
   "metadata": {},
   "outputs": [],
   "source": [
    "f=open('.\\\\html\\\\get link test.html','w')\n",
    "f.write(html_driver)\n",
    "f.close()\n",
    "\n",
    "f=open('.\\\\html\\\\get link test2.html','wb')\n",
    "f.write(html_byte)\n",
    "f.close()"
   ]
  },
  {
   "cell_type": "code",
   "execution_count": 8,
   "metadata": {},
   "outputs": [
    {
     "name": "stdout",
     "output_type": "stream",
     "text": [
      "/document/6826003/\n",
      "/document/6826003/\n",
      "/document/9955602/\n",
      "/document/9955602/\n",
      "/document/766908/\n",
      "/document/766908/\n",
      "/document/7016972/\n",
      "/document/7016972/\n",
      "/document/5010550/\n",
      "/document/5010550/\n",
      "/document/8228696/\n",
      "/document/8228696/\n",
      "/document/9345085/\n",
      "/document/9345085/\n",
      "/document/9642824/\n",
      "/document/9642824/\n",
      "/document/5066571/\n",
      "/document/5066571/\n",
      "/document/4281849/\n",
      "/document/4281849/\n",
      "/document/6717789/\n",
      "/document/6717789/\n",
      "/document/7011330/\n",
      "/document/7011330/\n",
      "/document/8367761/\n",
      "/document/8367761/\n",
      "/document/8564344/\n",
      "/document/8564344/\n",
      "/document/7412064/\n",
      "/document/7412064/\n",
      "/document/8453754/\n",
      "/document/8453754/\n",
      "/document/5612012/\n",
      "/document/5612012/\n",
      "/document/8455963/\n",
      "/document/8455963/\n",
      "/document/9717388/\n",
      "/document/9717388/\n",
      "/document/10090092/\n",
      "/document/10090092/\n",
      "/document/81044/\n",
      "/document/81044/\n",
      "/document/797930/\n",
      "/document/797930/\n",
      "/document/6717892/\n",
      "/document/6717892/\n",
      "/document/143766/\n",
      "/document/143766/\n",
      "/document/7784610/\n",
      "/document/7784610/\n",
      "['/document/6826003/', '/document/6826003/', '/document/9955602/', '/document/9955602/', '/document/766908/', '/document/766908/', '/document/7016972/', '/document/7016972/', '/document/5010550/', '/document/5010550/', '/document/8228696/', '/document/8228696/', '/document/9345085/', '/document/9345085/', '/document/9642824/', '/document/9642824/', '/document/5066571/', '/document/5066571/', '/document/4281849/', '/document/4281849/', '/document/6717789/', '/document/6717789/', '/document/7011330/', '/document/7011330/', '/document/8367761/', '/document/8367761/', '/document/8564344/', '/document/8564344/', '/document/7412064/', '/document/7412064/', '/document/8453754/', '/document/8453754/', '/document/5612012/', '/document/5612012/', '/document/8455963/', '/document/8455963/', '/document/9717388/', '/document/9717388/', '/document/10090092/', '/document/10090092/', '/document/81044/', '/document/81044/', '/document/797930/', '/document/797930/', '/document/6717892/', '/document/6717892/', '/document/143766/', '/document/143766/', '/document/7784610/', '/document/7784610/']\n"
     ]
    }
   ],
   "source": [
    "soup = BeautifulSoup(html_driver,\"lxml\") #必须使用html_driver 网页需要加载才有数据\n",
    "\n",
    "results = soup.find_all(\"h3\")\n",
    "link_list=[]\n",
    "for results_i in results:\n",
    "    if results_i.find(\"a\"):\n",
    "        href=results_i.find(\"a\").get(\"href\")\n",
    "        print(href)\n",
    "        link_list.append(href)\n",
    "\n",
    "print(link_list)"
   ]
  },
  {
   "cell_type": "code",
   "execution_count": 9,
   "metadata": {},
   "outputs": [
    {
     "name": "stdout",
     "output_type": "stream",
     "text": [
      "['https://ieeexplore.ieee.org/document/6826003/', 'https://ieeexplore.ieee.org/document/9955602/', 'https://ieeexplore.ieee.org/document/766908/', 'https://ieeexplore.ieee.org/document/7016972/', 'https://ieeexplore.ieee.org/document/5010550/', 'https://ieeexplore.ieee.org/document/8228696/', 'https://ieeexplore.ieee.org/document/9345085/', 'https://ieeexplore.ieee.org/document/9642824/', 'https://ieeexplore.ieee.org/document/5066571/', 'https://ieeexplore.ieee.org/document/4281849/', 'https://ieeexplore.ieee.org/document/6717789/', 'https://ieeexplore.ieee.org/document/7011330/', 'https://ieeexplore.ieee.org/document/8367761/', 'https://ieeexplore.ieee.org/document/8564344/', 'https://ieeexplore.ieee.org/document/7412064/', 'https://ieeexplore.ieee.org/document/8453754/', 'https://ieeexplore.ieee.org/document/5612012/', 'https://ieeexplore.ieee.org/document/8455963/', 'https://ieeexplore.ieee.org/document/9717388/', 'https://ieeexplore.ieee.org/document/10090092/', 'https://ieeexplore.ieee.org/document/81044/', 'https://ieeexplore.ieee.org/document/797930/', 'https://ieeexplore.ieee.org/document/6717892/', 'https://ieeexplore.ieee.org/document/143766/', 'https://ieeexplore.ieee.org/document/7784610/']\n"
     ]
    },
    {
     "data": {
      "text/plain": [
       "25"
      ]
     },
     "execution_count": 9,
     "metadata": {},
     "output_type": "execute_result"
    }
   ],
   "source": [
    "link_list=sorted(set(link_list),key=link_list.index)\n",
    "link_list=['https://ieeexplore.ieee.org'+link for link in link_list]\n",
    "print(link_list)\n",
    "len(link_list)"
   ]
  }
 ],
 "metadata": {
  "kernelspec": {
   "display_name": "spider",
   "language": "python",
   "name": "python3"
  },
  "language_info": {
   "codemirror_mode": {
    "name": "ipython",
    "version": 3
   },
   "file_extension": ".py",
   "mimetype": "text/x-python",
   "name": "python",
   "nbconvert_exporter": "python",
   "pygments_lexer": "ipython3",
   "version": "3.11.0"
  },
  "orig_nbformat": 4
 },
 "nbformat": 4,
 "nbformat_minor": 2
}
