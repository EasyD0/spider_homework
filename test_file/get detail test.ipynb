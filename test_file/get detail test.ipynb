{
 "cells": [
  {
   "cell_type": "code",
   "execution_count": 1,
   "metadata": {},
   "outputs": [
    {
     "name": "stderr",
     "output_type": "stream",
     "text": [
      "Using South Korea server backend.\n"
     ]
    }
   ],
   "source": [
    "import time\n",
    "from selenium import webdriver\n",
    "from selenium.webdriver.support.wait import WebDriverWait\n",
    "from bs4 import BeautifulSoup\n",
    "from urllib.request import urlopen\n",
    "import re\n",
    "import translators as ts\n",
    "import json\n",
    "from selenium.webdriver.chrome.service import Service as ChromeService\n",
    "from selenium.webdriver.support import expected_conditions as EC\n",
    "from selenium.webdriver.common.by import By"
   ]
  },
  {
   "cell_type": "code",
   "execution_count": 2,
   "metadata": {},
   "outputs": [],
   "source": [
    "url=\"https://ieeexplore.ieee.org/document/9411225\"\n",
    "url=\"https://ieeexplore.ieee.org/document/7809977\" #会议\n",
    "url=\"https://ieeexplore.ieee.org/document/5165285\" #TWC\n",
    "url='https://ieeexplore.ieee.org/document/4343975'\n",
    "url='https://ieeexplore.ieee.org/document/4347633'\n",
    "#url='https://ieeexplore.ieee.org/document/8524609'  #没有IEE参考文献的文章\n",
    "#url='https://ieeexplore.ieee.org/document/10018916/' #该文章只有两列关键词 且没有参考文献\n",
    "url=url+'references#references' if url[-1]=='/' else url+'/references#references'\n",
    "html=urlopen(url)\n",
    "html_byte=html.read()\n",
    "\n",
    "service = ChromeService(executable_path='./chromedriver.exe')\n",
    "options = webdriver.ChromeOptions()\n",
    "options.add_argument('--headless=new')\n",
    "driver = webdriver.Chrome(\n",
    "    options=options,\n",
    "    service=service\n",
    "                          )\n",
    "#driver = webdriver.Chrome(executable_path=\".\\\\chromedriver.exe\",options=webdriver.ChromeOptions().add_argument(\"--headless\"))# type: ignore\n",
    "driver.get(url)\n",
    "wait = WebDriverWait(driver, 20) \n",
    "wait.until(lambda driver: driver.execute_script(\"return document.readyState\") == \"complete\")\n",
    "\n",
    "'''wait = WebDriverWait(driver, 20) # 设置最多等待10秒\n",
    "wait.until(EC.presence_of_element_located((By.CLASS_NAME, \"stats-reference-link-viewArticle\"))) # 等待id为some_id的元素出现\n",
    "'''\n",
    "html_driver = driver.page_source\n",
    "driver.quit()\n",
    "\n",
    "bs=BeautifulSoup(html_byte)\n",
    "bs_driver=BeautifulSoup(html_driver,'lxml' )"
   ]
  },
  {
   "cell_type": "code",
   "execution_count": 3,
   "metadata": {},
   "outputs": [],
   "source": [
    "f=open(\".\\\\html\\\\get detail test.html_driver\",\"wb\")\n",
    "f.write(html_byte)\n",
    "f.close()"
   ]
  },
  {
   "cell_type": "code",
   "execution_count": 4,
   "metadata": {},
   "outputs": [],
   "source": [
    "f=open(\".\\\\html\\\\get detail test2.html\",\"w\")\n",
    "f.write(html_driver)\n",
    "f.close()\n"
   ]
  },
  {
   "attachments": {},
   "cell_type": "markdown",
   "metadata": {},
   "source": [
    "获取摘要和翻译"
   ]
  },
  {
   "cell_type": "code",
   "execution_count": 5,
   "metadata": {},
   "outputs": [
    {
     "name": "stdout",
     "output_type": "stream",
     "text": [
      "Multi-station passive localization algorithms based on hybrid Time Difference of Arrival (TDOA) and Angle of Arrival (AOA) have been thoroughly studied. But it usually requires each station to obtain the AOA of the source and relies on the precise station position. These conditions are generally not satisfied in practical applications. In addition, the geometry between the source and these stations also affects the localization accuracy. This paper studies the passive source localization problem based on multi-station TDOA and single-station AOA measurements. First, we propose a closed-form solution source localization method based on multi-station TDOA and single-station AOA measurements, which requires only the reference station used to calculate TDOA to be able to observe the AOA measurements of the source. It solves the problem of hybrid localization of different numbers of TDOA and AOA measurements. Theoretical analysis proves that the performance of the proposed method can reach the Cramer-Rao Lower Bound (CRLB) under small noise conditions. Then, we model the relationship between the position of each station relative to the source and the localization accuracy. Through the D-optimality criterion, we obtain the optimal geometry between multiple stations and the source Simulation results confirm the validity of these theories.\n",
      "多站被动定位算法基于到达的混合时间差（TDOA）和到达角度（AOA）已进行了彻底研究。但这通常需要每个站以获取源的AOA，并依赖于精确的站点位置。这些条件通常在实际应用中不满足。另外，源和这些站点之间的几何形状也会影响定位准确性。本文研究了基于多站TDOA和单站AOA测量的被动源定位问题。首先，我们提出了一种基于多站TDOA和单站AOA测量值的封闭形式的解决方案源定位方法，该方法仅需要用于计算TDOA的参考站以能够观察源的AOA测量值。它解决了不同数量的TDOA和AOA测量的混合定位问题。理论分析证明，在较小的噪声条件下，所提出的方法的性能可以到达CRAMER-RAO下限（CRLB）。然后，我们建模每个站点相对于源的位置与本地化精度之间的关系。通过D-急需标准，我们获得了多个站点之间的最佳几何形状，并确认了这些理论的有效性。\n"
     ]
    }
   ],
   "source": [
    "abstract = bs.find('meta', {'property': 'twitter:description'})['content']#.replace('n','') # type: ignore\n",
    "print(abstract)\n",
    "\n",
    "abstract_translation=ts.google(abstract,from_language=\"en\",to_language='zh', host_url=\"https://translate.google.com/\")\n",
    "print(abstract_translation)"
   ]
  },
  {
   "attachments": {},
   "cell_type": "markdown",
   "metadata": {},
   "source": [
    "获取关键词"
   ]
  },
  {
   "cell_type": "code",
   "execution_count": 13,
   "metadata": {},
   "outputs": [
    {
     "name": "stdout",
     "output_type": "stream",
     "text": [
      "['Localization', 'Time Difference of Arrival', 'Angle of Arrival', 'closed-form solution', 'Cramer-Rao Lower Bound', 'station position error', 'optimal geometry']\n"
     ]
    }
   ],
   "source": [
    "match=re.search(r'\"Author Keywords\\s*\",\"kwd\":\\[.*?\\]',html_byte.decode(),re.DOTALL)\n",
    "match=re.search(r'\\[.*\\]',match.group(),re.DOTALL)\n",
    "if match:\n",
    "    list=json.loads(match.group())\n",
    "print(list)\n"
   ]
  },
  {
   "attachments": {},
   "cell_type": "markdown",
   "metadata": {},
   "source": [
    "获取参考文献"
   ]
  },
  {
   "cell_type": "code",
   "execution_count": 26,
   "metadata": {},
   "outputs": [
    {
     "name": "stdout",
     "output_type": "stream",
     "text": [
      "['https://ieeexplore.ieee.org/document/4449191', 'https://ieeexplore.ieee.org/document/1637927', 'https://ieeexplore.ieee.org/document/4610779'] ['https://doi.org/10.1121/1.1914426', 'https://doi.org/10.1007/978-3-662-11761-3']\n"
     ]
    }
   ],
   "source": [
    "View_Article=bs_driver.find_all(\"a\",{\"class\":'stats-reference-link-viewArticle'})\n",
    "CrossRef=bs_driver.find_all(\"a\",{\"class\":'stats-reference-link-crossRef'})\n",
    "View_Article_list=[]\n",
    "CrossRef_list=[]\n",
    "\n",
    "for article in View_Article:\n",
    "    if article:\n",
    "        View_Article_list.append(article.get(\"href\"))\n",
    "        \n",
    "View_Article_list=['https://ieeexplore.ieee.org'+link for link in View_Article_list]\n",
    "\n",
    "for article in CrossRef:\n",
    "    if article:\n",
    "        CrossRef_list.append(article.get(\"href\"))\n",
    "\n",
    "print(View_Article_list,CrossRef_list)"
   ]
  },
  {
   "attachments": {},
   "cell_type": "markdown",
   "metadata": {},
   "source": [
    "获取期刊名"
   ]
  },
  {
   "cell_type": "code",
   "execution_count": 46,
   "metadata": {},
   "outputs": [
    {
     "name": "stdout",
     "output_type": "stream",
     "text": [
      "2016 Fourth International Conference on Ubiquitous Positioning, Indoor Navigation and Location Based Services (UPINLBS)\n"
     ]
    },
    {
     "data": {
      "text/plain": [
       "\"impact_factor_list={'IEEE Transactions on Wireless Communications':10}\\nif Journal_Title in impact_factor_list:\\n    impact_factor=str(impact_factor_list[Journal_Title])\\nelse:\\n    impact_factor='null'\\n\\nprint(impact_factor)\""
      ]
     },
     "execution_count": 46,
     "metadata": {},
     "output_type": "execute_result"
    }
   ],
   "source": [
    "Journal_Title=bs_driver.find('strong', text='Published in: ').find_next_sibling().get_text()\n",
    "print(Journal_Title)\n",
    "\n",
    "'''impact_factor_list={'IEEE Transactions on Wireless Communications':10}\n",
    "if Journal_Title in impact_factor_list:\n",
    "    impact_factor=str(impact_factor_list[Journal_Title])\n",
    "else:\n",
    "    impact_factor='null'\n",
    "\n",
    "print(impact_factor)'''"
   ]
  },
  {
   "attachments": {},
   "cell_type": "markdown",
   "metadata": {},
   "source": [
    "获取DOI"
   ]
  },
  {
   "cell_type": "code",
   "execution_count": 35,
   "metadata": {},
   "outputs": [
    {
     "name": "stdout",
     "output_type": "stream",
     "text": [
      "https://doi.org/10.1109/TWC.2009.070566\n"
     ]
    }
   ],
   "source": [
    "doi=bs_driver.find('strong', text='DOI: ').find_next_sibling().get_text()\n",
    "Doi_link='https://doi.org/'+doi\n",
    "print(Doi_link)"
   ]
  },
  {
   "attachments": {},
   "cell_type": "markdown",
   "metadata": {},
   "source": [
    "获取影响因子"
   ]
  },
  {
   "cell_type": "code",
   "execution_count": 30,
   "metadata": {},
   "outputs": [
    {
     "name": "stdout",
     "output_type": "stream",
     "text": [
      "None\n",
      "None\n",
      "<a _ngcontent-ijv-c160=\"\" href=\"/browse/periodicals/title/\">Journals &amp; Magazines</a>\n"
     ]
    }
   ],
   "source": [
    "print(bs_driver.find(href='/browse/conferences/title/')) #会议 \n",
    "print(bs_driver.find({'href':'/browse/conferences/title/'}))   #TODO 为什么和上面输出不一样\n",
    "print(bs_driver.find(href=\"/browse/periodicals/title/\")) #期刊和杂志\n",
    "\n",
    "#print(bs_driver.find(text='Journals & Magazines').parent) #这是不行的,他们都有这个,无法区分\n"
   ]
  },
  {
   "cell_type": "code",
   "execution_count": 31,
   "metadata": {},
   "outputs": [
    {
     "name": "stdout",
     "output_type": "stream",
     "text": [
      "this is a Journals or Magazines paper\n",
      "https://ieeexplore.ieee.org/xpl/RecentIssue.jsp?punumber=7693\n"
     ]
    },
    {
     "name": "stderr",
     "output_type": "stream",
     "text": [
      "C:\\Users\\Anable\\AppData\\Local\\Temp\\ipykernel_3992\\1482078678.py:12: DeprecationWarning: executable_path has been deprecated, please pass in a Service object\n",
      "  driver = webdriver.Chrome(executable_path=\".\\\\chromedriver.exe\")\n"
     ]
    },
    {
     "name": "stdout",
     "output_type": "stream",
     "text": [
      "8.346\n"
     ]
    }
   ],
   "source": [
    "Journal_index=False\n",
    "\n",
    "if bs_driver.find(href=\"/browse/periodicals/title/\"):\n",
    "    \n",
    "    Journal_index=True \n",
    "    print('this is a Journals or Magazines paper')\n",
    "\n",
    "    journal_link='https://ieeexplore.ieee.org'+bs_driver.find('strong', text='Published in: ').find_next_sibling().get('href')\n",
    "    print(journal_link)\n",
    "\n",
    "    driver = webdriver.Chrome(executable_path=\".\\\\chromedriver.exe\")\n",
    "    driver.get(journal_link)\n",
    "    time.sleep(5)\n",
    "    journal_html = driver.page_source\n",
    "    driver.quit()\n",
    "\n",
    "    f=open(\".\\\\html\\\\get detail test3.html\",\"w\")\n",
    "    f.write(journal_html)\n",
    "    f.close()\n",
    "\n",
    "    bs_temp=BeautifulSoup(journal_html)\n",
    "    impact_factor=bs_temp.find('a',{'class':'stats-jhp-impact-factor'}).find('span',{'class':'text-md-md-lh'}).get_text()\n",
    "    \n",
    "else :\n",
    "    impact_factor=''\n",
    "\n",
    "print(impact_factor)"
   ]
  },
  {
   "attachments": {},
   "cell_type": "markdown",
   "metadata": {},
   "source": [
    "获取日期"
   ]
  },
  {
   "cell_type": "code",
   "execution_count": 4,
   "metadata": {},
   "outputs": [
    {
     "name": "stdout",
     "output_type": "stream",
     "text": [
      " 26-31 July 2007 \n"
     ]
    }
   ],
   "source": [
    "\n",
    "if not Journal_index:\n",
    "    Date=str(bs_driver.find('strong', text='Date of Conference: ').next_sibling) # type: ignore\n",
    "else:\n",
    "    Date=str(bs_driver.find('strong', text='Date of Publication:').next_sibling) # type: ignore\n",
    "\n",
    "print(Date)\n"
   ]
  },
  {
   "attachments": {},
   "cell_type": "markdown",
   "metadata": {},
   "source": [
    "获取标题"
   ]
  },
  {
   "cell_type": "code",
   "execution_count": 33,
   "metadata": {},
   "outputs": [
    {
     "name": "stdout",
     "output_type": "stream",
     "text": [
      "A new compact multichannel receiver for underwater wireless communication networks\n"
     ]
    }
   ],
   "source": [
    "print(bs.find('title').find_next_sibling().get('content')) # type: ignore #这里用.next_sibling会出错,因为两个元素间有空格"
   ]
  },
  {
   "attachments": {},
   "cell_type": "markdown",
   "metadata": {},
   "source": [
    "获取文档PDF"
   ]
  },
  {
   "cell_type": "code",
   "execution_count": 4,
   "metadata": {},
   "outputs": [],
   "source": [
    "doi='10.1109/TWC.2009.070566'\n",
    "scihub_link='https://sci-hub.se/'+doi\n",
    "pdf_html=urlopen(scihub_link).read()\n",
    "bs_pdf=BeautifulSoup(pdf_html)"
   ]
  },
  {
   "cell_type": "code",
   "execution_count": 8,
   "metadata": {},
   "outputs": [],
   "source": [
    "f=open('pdf.html','wb')\n",
    "f.write(pdf_html)\n",
    "f.close()"
   ]
  },
  {
   "cell_type": "code",
   "execution_count": 5,
   "metadata": {},
   "outputs": [
    {
     "name": "stdout",
     "output_type": "stream",
     "text": [
      "https://zero.sci-hub.se/3452/c5f527d3fa8cc050a5e45aa2735b02ba/abdi2009.pdf#navpanes=0&view=FitH\n"
     ]
    }
   ],
   "source": [
    "pdf_link='https:'+bs_pdf.find('embed',{'type':\"application/pdf\"}).get('src')\n",
    "print(pdf_link)"
   ]
  },
  {
   "cell_type": "code",
   "execution_count": 7,
   "metadata": {},
   "outputs": [],
   "source": [
    "import requests\n",
    "import os\n",
    "\n",
    "response = requests.get(pdf_link)"
   ]
  },
  {
   "cell_type": "code",
   "execution_count": 10,
   "metadata": {},
   "outputs": [],
   "source": [
    "file_name = os.path.basename(pdf_link)+'.pdf'\n",
    "with open('.\\\\pdf\\\\'+file_name, 'wb') as f:\n",
    "    f.write(response.content)"
   ]
  }
 ],
 "metadata": {
  "kernelspec": {
   "display_name": "spider",
   "language": "python",
   "name": "python3"
  },
  "language_info": {
   "codemirror_mode": {
    "name": "ipython",
    "version": 3
   },
   "file_extension": ".py",
   "mimetype": "text/x-python",
   "name": "python",
   "nbconvert_exporter": "python",
   "pygments_lexer": "ipython3",
   "version": "3.11.0"
  },
  "orig_nbformat": 4
 },
 "nbformat": 4,
 "nbformat_minor": 2
}
