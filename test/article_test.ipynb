{
 "cells": [
  {
   "cell_type": "code",
   "execution_count": null,
   "metadata": {},
   "outputs": [],
   "source": [
    "from article import Article\n",
    "url='https://ieeexplore.ieee.org/document/9870672'\n",
    "a=Article(url)"
   ]
  },
  {
   "cell_type": "code",
   "execution_count": null,
   "metadata": {},
   "outputs": [],
   "source": [
    "a.get_reference_link()\n",
    "a.get_similar_link()\n",
    "a.get_all()\n",
    "print(a)"
   ]
  },
  {
   "cell_type": "code",
   "execution_count": null,
   "metadata": {},
   "outputs": [],
   "source": [
    "import matplotlib.pyplot as plt\n",
    "import numpy as np\n",
    "\n",
    "orig=np.array([i+1 for i in range(25)])\n",
    "after=np.array([1 ,12, 4 ,6 ,11, 9, 2, 23, 22, 10 ,14, 5 ,13, 19 ,16 ,15 ,24, 20 ,18, 3 ,25 ,7 ,21, 8 ,17])\n",
    "plt.plot(orig,orig, c = 'b',label='Relevance given by IEEE')\n",
    "plt.plot(orig,after, c='r',label='文本分析的相关性顺序')\n",
    "plt.savefig('a.svg')\n",
    "plt.show()"
   ]
  }
 ],
 "metadata": {
  "kernelspec": {
   "display_name": "spider",
   "language": "python",
   "name": "python3"
  },
  "language_info": {
   "codemirror_mode": {
    "name": "ipython",
    "version": 3
   },
   "file_extension": ".py",
   "mimetype": "text/x-python",
   "name": "python",
   "nbconvert_exporter": "python",
   "pygments_lexer": "ipython3",
   "version": "3.9.16"
  },
  "orig_nbformat": 4
 },
 "nbformat": 4,
 "nbformat_minor": 2
}
