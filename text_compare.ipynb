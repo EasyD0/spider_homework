{
 "cells": [
  {
   "cell_type": "code",
   "execution_count": 3,
   "metadata": {},
   "outputs": [],
   "source": [
    "import nltk\n",
    "from sklearn.feature_extraction.text import TfidfVectorizer\n",
    "from sklearn.metrics.pairwise import cosine_similarity\n",
    "import re\n",
    "text1='The GPS system is one of the widely used methods to determine the real-time position in navigation applications. Using this system requires error compensation which effectively improves the positioning accuracy. One of the errors that needs to be compensated is the tropospheric signal transmission delay from the satellite to the GPS receiver. Tropospheric delay appears as bias in measuring pseudo-range by the GPS receiver and results in a constant deviation in determining final position of the user receiver. Several tropospheric models have been developed and employed to compensate and correct tropospheric delay. In this paper, some of the conventional tropospheric delay models and a combination of several models have been investigated and employed to determine the real-time position. These models are applied to the real-time positioning algorithm of the single frequency GPS receiver and have been compared to each other. This comparison is based on a reduction in the error in estimating the final position of the receiver, and a decrease in the computation time of the real-time positioning. Real-time positioning tests are performed in 6 iterations throughout six days. Positioning results are compared with the triple frequency GPS receiver GINTEC -G10. Comparison results show that real-time positioning of single frequency GPS receiver has sufficient and better accuracy using \"Modified Saastamoinen\" model and \"Modified Hopfield\" model have enough accuracy for low cost real-time positioning in most iterations of the experiment, and \"Modified Hopfield\" model is more suitable for low-cost real-time positioning, because its computation time is shorter.'\n",
    "text2='Ensuring the accurate positioning of the vehicle at any time is the key to navigation and path planning in unmanned driving vehicle. Due to the changes and signal attenuation of vehicle-mounted GPS signals when they pass through electric clouds, and the reflection of GPS signals when they encounter glass curtain wall, and under underground garages, tunnels and overpasses, for example, GPS satellite signals cannot be received by vehicle-mounted GPS locator due to the obstruction of buildings. The above-mentioned situations will cause the vehicle GPS positioning signal to be unstable or even missing. And the current positioning method based on lidar has become the mainstream positioning method for unmanned vehicles. However, under bad weather conditions, the detection capability of infrared waves will be greatly attenuated, and the stability of lidar positioning will also be affected. Therefore, this paper introduces an unmanned driving vehicle positioning method based on GPS/lidar/derivative data fusion when the environment map is known. That is, when the GPS signal is good and the lidar is in good weather conditions, the vehicle can be accurately positioned by GPS/lidar/derivation fusion. While the GPS positioning signal or lidar positioning is unstable and in the event of a short absence, it is still can achieve accurate positioning of intelligent vehicles through a derivation-based approach. The experimental data and MATLAB software simulation results show that the horizontal error of vehicle positioning is within the range of 14.3cm and the longitudinal error is within the range of 8.8cm, within 5 seconds after the lidar and GPS signals are lost simultaneously.'\n",
    "text3='In this paper, we present an indoor positioning system based on GPS repeaters. Each repeater consists of a directional antenna for receiving a non-overlapping set of GPS satellites, a LNA and a power amplifier for compensating the antenna and cable losses, and a transmitting antenna for re-radiating the amplified GPS signals. The proposed system has been shown to be very successful for 1D positioning using a set of two repeaters. Similarly, successful results have been obtained for 2D positioning using three repeaters.'\n",
    "text4='The effect of radio frequency interference (RFI) on Global Positioning System (GPS) signals needs to be investigated because of the increasing demand for accuracy and precision in positioning, navigation, and timing (PNT) applications. In order to investigate the effect of RFI on the high precision GPS applications (e.g., surveying works), this study was conducted on single- and dual-frequency GPS receivers in differential GPS (DGPS) mode via static observations. All the tests were focused on in-band interference at the GPS L1 and L2 frequency bands with the interference signal power levels being increased from -140 dB until the accuracy of GPS was affected. The use of dilution of precision (DOP) alone to quantify the quality of GPS was found to be insufficient, and hence, residual positions have been used to study this effect. The findings from all the tests show that RFI can degrade the accuracy of GPS measurement, and, in some cases, completely disrupt GPS signals (e.g., loss of tracking of GPS signals). Hence, the presence of RFI sources, both intentional and unintentional, should be an important consideration in planning high precision GPS application.'\n",
    "text_list=[text1,text2,text3,text4]"
   ]
  },
  {
   "attachments": {},
   "cell_type": "markdown",
   "metadata": {},
   "source": [
    " 快速法"
   ]
  },
  {
   "cell_type": "code",
   "execution_count": 2,
   "metadata": {},
   "outputs": [
    {
     "name": "stdout",
     "output_type": "stream",
     "text": [
      "[[1. 1.]]\n",
      "[[1.         0.56355776]]\n",
      "[[1.         0.35546192]]\n",
      "[[1.         0.54234845]]\n"
     ]
    }
   ],
   "source": [
    "# 创建一个TfidfVectorizer对象\n",
    "tfidf = TfidfVectorizer()\n",
    "for text in text_list:\n",
    "    # 将文本转换为TF-IDF矩阵\n",
    "    matrix = tfidf.fit_transform([text1, text])\n",
    "\n",
    "    # 计算两个文本之间的余弦相似度\n",
    "    similarity = cosine_similarity(matrix[0:1], matrix)\n",
    "\n",
    "    # 打印结果\n",
    "    print(similarity)"
   ]
  },
  {
   "cell_type": "code",
   "execution_count": 4,
   "metadata": {},
   "outputs": [],
   "source": [
    "text_no_symbol=[re.sub('[^A-Za-z ]+', '', text) for text in text_list]\n",
    "print(text_no_symbol[1])"
   ]
  },
  {
   "attachments": {},
   "cell_type": "markdown",
   "metadata": {},
   "source": [
    "去除标点和数字"
   ]
  },
  {
   "cell_type": "code",
   "execution_count": 6,
   "metadata": {},
   "outputs": [
    {
     "name": "stdout",
     "output_type": "stream",
     "text": [
      "[[1. 1.]]\n",
      "[[1.        0.5917363]]\n",
      "[[1.         0.38365099]]\n",
      "[[1.         0.56824488]]\n"
     ]
    }
   ],
   "source": [
    "tfidf = TfidfVectorizer()\n",
    "for text in text_no_symbol:\n",
    "    # 将文本转换为TF-IDF矩阵\n",
    "    matrix = tfidf.fit_transform([text_no_symbol[0], text])\n",
    "\n",
    "    # 计算两个文本之间的余弦相似度\n",
    "    similarity = cosine_similarity(matrix[0:1], matrix)\n",
    "\n",
    "    # 打印结果\n",
    "    print(similarity)"
   ]
  },
  {
   "cell_type": "code",
   "execution_count": 10,
   "metadata": {},
   "outputs": [
    {
     "name": "stdout",
     "output_type": "stream",
     "text": [
      "['grow', 'leav', 'fairli']\n"
     ]
    }
   ],
   "source": [
    "from nltk.stem import PorterStemmer\n",
    "\n",
    "stemmer = PorterStemmer()\n",
    "words = ['grows', 'leaves', 'fairly']\n",
    "stemmed_words = [stemmer.stem(word) for word in words]\n",
    "\n",
    "print(stemmed_words)"
   ]
  },
  {
   "cell_type": "code",
   "execution_count": 21,
   "metadata": {},
   "outputs": [
    {
     "name": "stdout",
     "output_type": "stream",
     "text": [
      "['The', 'GPS', 'system', 'is', 'one', 'of', 'the', 'widely', 'used', 'methods', 'to', 'determine', 'the', 'realtime', 'position', 'in', 'navigation', 'applications', 'Using', 'this', 'system', 'requires', 'error', 'compensation', 'which', 'effectively', 'improves', 'the', 'positioning', 'accuracy', 'One', 'of', 'the', 'errors', 'that', 'needs', 'to', 'be', 'compensated', 'is', 'the', 'tropospheric', 'signal', 'transmission', 'delay', 'from', 'the', 'satellite', 'to', 'the', 'GPS', 'receiver', 'Tropospheric', 'delay', 'appears', 'as', 'bias', 'in', 'measuring', 'pseudorange', 'by', 'the', 'GPS', 'receiver', 'and', 'results', 'in', 'a', 'constant', 'deviation', 'in', 'determining', 'final', 'position', 'of', 'the', 'user', 'receiver', 'Several', 'tropospheric', 'models', 'have', 'been', 'developed', 'and', 'employed', 'to', 'compensate', 'and', 'correct', 'tropospheric', 'delay', 'In', 'this', 'paper', 'some', 'of', 'the', 'conventional', 'tropospheric', 'delay', 'models', 'and', 'a', 'combination', 'of', 'several', 'models', 'have', 'been', 'investigated', 'and', 'employed', 'to', 'determine', 'the', 'realtime', 'position', 'These', 'models', 'are', 'applied', 'to', 'the', 'realtime', 'positioning', 'algorithm', 'of', 'the', 'single', 'frequency', 'GPS', 'receiver', 'and', 'have', 'been', 'compared', 'to', 'each', 'other', 'This', 'comparison', 'is', 'based', 'on', 'a', 'reduction', 'in', 'the', 'error', 'in', 'estimating', 'the', 'final', 'position', 'of', 'the', 'receiver', 'and', 'a', 'decrease', 'in', 'the', 'computation', 'time', 'of', 'the', 'realtime', 'positioning', 'Realtime', 'positioning', 'tests', 'are', 'performed', 'in', 'iterations', 'throughout', 'six', 'days', 'Positioning', 'results', 'are', 'compared', 'with', 'the', 'triple', 'frequency', 'GPS', 'receiver', 'GINTEC', 'G', 'Comparison', 'results', 'show', 'that', 'realtime', 'positioning', 'of', 'single', 'frequency', 'GPS', 'receiver', 'has', 'sufficient', 'and', 'better', 'accuracy', 'using', 'Modified', 'Saastamoinen', 'model', 'and', 'Modified', 'Hopfield', 'model', 'have', 'enough', 'accuracy', 'for', 'low', 'cost', 'realtime', 'positioning', 'in', 'most', 'iterations', 'of', 'the', 'experiment', 'and', 'Modified', 'Hopfield', 'model', 'is', 'more', 'suitable', 'for', 'lowcost', 'realtime', 'positioning', 'because', 'its', 'computation', 'time', 'is', 'shorter']\n",
      "['the', 'gp', 'system', 'is', 'one', 'of', 'the', 'wide', 'use', 'method', 'to', 'determin', 'the', 'realtim', 'posit', 'in', 'navig', 'applic', 'use', 'thi', 'system', 'requir', 'error', 'compens', 'which', 'effect', 'improv', 'the', 'posit', 'accuraci', 'one', 'of', 'the', 'error', 'that', 'need', 'to', 'be', 'compens', 'is', 'the', 'tropospher', 'signal', 'transmiss', 'delay', 'from', 'the', 'satellit', 'to', 'the', 'gp', 'receiv', 'tropospher', 'delay', 'appear', 'as', 'bia', 'in', 'measur', 'pseudorang', 'by', 'the', 'gp', 'receiv', 'and', 'result', 'in', 'a', 'constant', 'deviat', 'in', 'determin', 'final', 'posit', 'of', 'the', 'user', 'receiv', 'sever', 'tropospher', 'model', 'have', 'been', 'develop', 'and', 'employ', 'to', 'compens', 'and', 'correct', 'tropospher', 'delay', 'in', 'thi', 'paper', 'some', 'of', 'the', 'convent', 'tropospher', 'delay', 'model', 'and', 'a', 'combin', 'of', 'sever', 'model', 'have', 'been', 'investig', 'and', 'employ', 'to', 'determin', 'the', 'realtim', 'posit', 'these', 'model', 'are', 'appli', 'to', 'the', 'realtim', 'posit', 'algorithm', 'of', 'the', 'singl', 'frequenc', 'gp', 'receiv', 'and', 'have', 'been', 'compar', 'to', 'each', 'other', 'thi', 'comparison', 'is', 'base', 'on', 'a', 'reduct', 'in', 'the', 'error', 'in', 'estim', 'the', 'final', 'posit', 'of', 'the', 'receiv', 'and', 'a', 'decreas', 'in', 'the', 'comput', 'time', 'of', 'the', 'realtim', 'posit', 'realtim', 'posit', 'test', 'are', 'perform', 'in', 'iter', 'throughout', 'six', 'day', 'posit', 'result', 'are', 'compar', 'with', 'the', 'tripl', 'frequenc', 'gp', 'receiv', 'gintec', 'g', 'comparison', 'result', 'show', 'that', 'realtim', 'posit', 'of', 'singl', 'frequenc', 'gp', 'receiv', 'ha', 'suffici', 'and', 'better', 'accuraci', 'use', 'modifi', 'saastamoinen', 'model', 'and', 'modifi', 'hopfield', 'model', 'have', 'enough', 'accuraci', 'for', 'low', 'cost', 'realtim', 'posit', 'in', 'most', 'iter', 'of', 'the', 'experi', 'and', 'modifi', 'hopfield', 'model', 'is', 'more', 'suitabl', 'for', 'lowcost', 'realtim', 'posit', 'becaus', 'it', 'comput', 'time', 'is', 'shorter']\n"
     ]
    }
   ],
   "source": [
    "from nltk.stem import PorterStemmer\n",
    "\n",
    "stemmer = PorterStemmer()\n",
    "text_no_symbol_splite=[text.split() for text in text_no_symbol]\n",
    "print(text_no_symbol_splite[0])\n",
    "stemmed_word_list=[[stemmer.stem(word) for word in text] for text in text_no_symbol_splite ]\n",
    "print(stemmed_word_list[0])"
   ]
  },
  {
   "cell_type": "code",
   "execution_count": null,
   "metadata": {},
   "outputs": [],
   "source": [
    "from nltk.stem import WordNetLemmatizer\n",
    "from nltk.tokenize import word_tokenize\n",
    "from nltk.corpus import wordnet\n",
    "import nltk\n",
    "nltk.download('punkt')\n",
    "nltk.download('averaged_perceptron_tagger')\n",
    "nltk.download('wordnet')\n",
    "\n",
    "lemmatizer = WordNetLemmatizer()\n",
    "\n",
    "tokens = word_tokenize(text1) #列表\n",
    "\n",
    "# Convert POS tag to a format that can be used by WordNetLemmatizer\n",
    "def get_wordnet_pos(treebank_tag): #词性标注并转换\n",
    "    if treebank_tag.startswith('J'):\n",
    "        return wordnet.ADJ\n",
    "    elif treebank_tag.startswith('V'):\n",
    "        return wordnet.VERB\n",
    "    elif treebank_tag.startswith('N'):\n",
    "        return wordnet.NOUN\n",
    "    elif treebank_tag.startswith('R'):\n",
    "        return wordnet.ADV\n",
    "    else:\n",
    "        return wordnet.NOUN\n",
    "\n",
    "tagged_tokens = nltk.pos_tag(tokens)\n",
    "lemmatized_words = [lemmatizer.lemmatize(token, get_wordnet_pos(tag)) for token, tag in tagged_tokens if tag != 'NNP']\n",
    "\n",
    "print(lemmatized_words)"
   ]
  },
  {
   "cell_type": "code",
   "execution_count": 30,
   "metadata": {},
   "outputs": [
    {
     "name": "stdout",
     "output_type": "stream",
     "text": [
      "['John', 'and', 'Jane', 'went', 'to', 'New', 'York', 'to', 'visit', 'the', 'Statue', 'of', 'Liberty']\n"
     ]
    }
   ],
   "source": [
    "tokens = word_tokenize(text)\n",
    "tagged_tokens = nltk.pos_tag(tokens)\n",
    "\n",
    "# Remove tokens that are tagged as \"NNP\"\n",
    "filtered_tokens = [token for token, tag in tagged_tokens]\n",
    "\n",
    "print(filtered_tokens)"
   ]
  }
 ],
 "metadata": {
  "kernelspec": {
   "display_name": "spider",
   "language": "python",
   "name": "python3"
  },
  "language_info": {
   "codemirror_mode": {
    "name": "ipython",
    "version": 3
   },
   "file_extension": ".py",
   "mimetype": "text/x-python",
   "name": "python",
   "nbconvert_exporter": "python",
   "pygments_lexer": "ipython3",
   "version": "3.11.0"
  },
  "orig_nbformat": 4
 },
 "nbformat": 4,
 "nbformat_minor": 2
}
