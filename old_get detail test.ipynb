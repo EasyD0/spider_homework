{
 "cells": [
  {
   "cell_type": "code",
   "execution_count": 2,
   "metadata": {},
   "outputs": [
    {
     "name": "stderr",
     "output_type": "stream",
     "text": [
      "d:\\Anaconda3\\envs\\spider\\Lib\\site-packages\\translators\\apis.py:162: UserWarning: Unable to find server backend.\n",
      "\n",
      "  warnings.warn('Unable to find server backend.\\n')\n",
      "Using  server backend.\n"
     ]
    }
   ],
   "source": [
    "import time\n",
    "from selenium import webdriver\n",
    "from selenium.webdriver.support.ui import WebDriverWait\n",
    "from bs4 import BeautifulSoup\n",
    "from urllib.request import urlopen\n",
    "import re\n",
    "import translators as ts\n",
    "import json\n",
    "from selenium.webdriver.chrome.options import Options"
   ]
  },
  {
   "attachments": {},
   "cell_type": "markdown",
   "metadata": {},
   "source": [
    "获取摘要和翻译,关键词"
   ]
  },
  {
   "cell_type": "code",
   "execution_count": 3,
   "metadata": {},
   "outputs": [],
   "source": [
    "url=\"https://ieeexplore.ieee.org/document/9411225\"\n",
    "url=\"https://ieeexplore.ieee.org/document/7809977\" #会议\n",
    "url=\"https://ieeexplore.ieee.org/document/5165285\" #TWC\n",
    "html=urlopen(url)\n",
    "html_byte=html.read()"
   ]
  },
  {
   "cell_type": "code",
   "execution_count": 4,
   "metadata": {},
   "outputs": [],
   "source": [
    "f=open(\".\\\\html\\\\get detail test.html\",\"wb\")\n",
    "f.write(html_byte)\n",
    "f.close()"
   ]
  },
  {
   "cell_type": "code",
   "execution_count": 5,
   "metadata": {},
   "outputs": [
    {
     "name": "stdout",
     "output_type": "stream",
     "text": [
      "In this letter it is shown that by taking advantage of the particle velocity, in addition to the pressure, multichannel reception can be accomplished in underwater acoustic wireless channels. Theoretical formulation and Monte Carlo simulations are provided for a vector sensor equalizer that measures the pressure and the velocity at a single point in space. These results demonstrate the usefulness of small-size vector sensors as multichannel equalizers for underwater acoustic wireless systems and sensor networks.\n",
      "在这封信中，表明，通过利用粒子速度，除了压力外，多通道接收可以在水下声学无线通道中完成。为矢量传感器均衡器提供了理论公式和蒙特卡洛模拟，该矢量传感器均衡器测量了空间中一个点的压力和速度。这些结果证明了小型矢量传感器作为水下声学无线系统和传感器网络的多通道均衡器的有用性。\n"
     ]
    }
   ],
   "source": [
    "bs=BeautifulSoup(html_byte)\n",
    "abstract = bs.find('meta', {'property': 'twitter:description'})['content']\n",
    "print(abstract)\n",
    "\n",
    "abstract_translation=ts.google(abstract,from_language=\"en\",to_language='zh', host_url=\"https://translate.google.com/\")\n",
    "print(abstract_translation)"
   ]
  },
  {
   "attachments": {},
   "cell_type": "markdown",
   "metadata": {},
   "source": [
    "关键词获取 keywords"
   ]
  },
  {
   "cell_type": "code",
   "execution_count": 6,
   "metadata": {},
   "outputs": [
    {
     "name": "stdout",
     "output_type": "stream",
     "text": [
      "xplGlobal.document.metadata={\"userInfo\":{\"customerNameRaw\":\"SHENZHEN UNIVERSITY\",\"institutionName\":\"SHENZHEN UNIVERSITY\",\"institute\":true,\"member\":false,\"individual\":false,\"guest\":false,\"subscribedContent\":false,\"fileCabinetContent\":false,\"fileCabinetUser\":false,\"institutionalFileCabinetUser\":false,\"products\":\"IEL|VDE|NOKIA BELL LABS|\",\"instType\":\"Academic\",\"userIds\":[12631],\"showPatentCitations\":true,\"showGet802Link\":true,\"openUrlImgLoc\":\"/assets/img/btn.find-in-library.png\",\"openUrlLink\":\"NA\",\"showOpenUrlLink\":false,\"marketingInfoCaptured\":false,\"tracked\":false,\"ringGoldId\":\"47890\",\"delegatedAdmin\":false,\"desktop\":false,\"isInstitutionDashboardEnabled\":false,\"isInstitutionProfileEnabled\":false,\"isRoamingEnabled\":true,\"isDelegatedAdmin\":false,\"isMdl\":false,\"isCwg\":false,\"isIel\":true,\"isAcademic\":true},\"authors\":[{\"name\":\"Ali Abdi\",\"affiliation\":[\"Center for Wireless Communications and Signal Processing Research, Department of Electrical and Computer Engineering, New Jersey Institute of Technology, Newark, NJ, USA\"],\"firstName\":\"Ali\",\"lastName\":\"Abdi\",\"id\":\"37270167000\"},{\"name\":\"Huaihai Guo\",\"affiliation\":[\"Center for Wireless Communications and Signal Processing Research, Department of Electrical and Computer Engineering, New Jersey Institute of Technology, Newark, NJ, USA\"],\"firstName\":\"Huaihai\",\"lastName\":\"Guo\",\"id\":\"37308433300\"}],\"issn\":[{\"format\":\"Print ISSN\",\"value\":\"1536-1276\"},{\"format\":\"Electronic ISSN\",\"value\":\"1558-2248\"}],\"articleNumber\":\"5165285\",\"dbTime\":\"2 ms\",\"metrics\":{\"citationCountPaper\":49,\"citationCountPatent\":0,\"totalDownloads\":1675},\"sponsors\":[{\"packageNumber\":0,\"name\":\"IEEE Communications Society\",\"url\":\"http://www.comsoc.org/\"},{\"packageNumber\":0,\"name\":\"IEEE Signal Processing Society\",\"url\":\"http://www.ieee.org/organizations/society/sp/index.html#pub\"}],\"purchaseOptions\":{\"showOtherFormatPricingTab\":false,\"showPdfFormatPricingTab\":true,\"pdfPricingInfoAvailable\":true,\"otherPricingInfoAvailable\":false,\"mandatoryBundle\":false,\"optionalBundle\":false,\"displayTextWhenOtherFormatPricingNotAvailable\":\"The purchase and pricing options for this item are unavailable. Select items are only available as part of a subscription package. You may try again later or <a href='https://ieeexplore.ieee.org/xpl/contact' target='_blank'>contact us</a> for more information.\",\"pdfPricingInfo\":[{\"memberPrice\":\"$14.95\",\"nonMemberPrice\":\"$33.00\",\"partNumber\":\"5165285\",\"type\":\"PDF/HTML\"}]},\"getProgramTermsAccepted\":false,\"sections\":{\"abstract\":\"true\",\"authors\":\"true\",\"figures\":\"true\",\"multimedia\":\"false\",\"references\":\"true\",\"citedby\":\"true\",\"keywords\":\"true\",\"definitions\":\"false\",\"algorithm\":\"false\",\"dataset\":\"false\",\"cadmore\":\"false\",\"footnotes\":\"false\",\"disclaimer\":\"false\",\"relatedContent\":\"false\",\"metrics\":\"true\"},\"pdfUrl\":\"/stamp/stamp.jsp?tp=&arnumber=5165285\",\"keywords\":[{\"type\":\"IEEE Keywords\",\"kwd\":[\"Wireless communication\",\"Wireless sensor networks\",\"Acoustic sensors\",\"Underwater acoustics\",\"Equalizers\",\"Sensor systems\",\"Acoustic measurements\",\"Velocity measurement\",\"Pressure measurement\",\"Extraterrestrial measurements\"]},{\"type\":\"INSPEC: Controlled Indexing\",\"kwd\":[\"Monte Carlo methods\",\"radio networks\",\"radio receivers\",\"underwater acoustic communication\",\"wireless channels\",\"wireless sensor networks\"]},{\"type\":\"INSPEC: Non-Controlled Indexing\",\"kwd\":[\"compact multichannel receiver\",\"underwater wireless communication networks\",\"particle velocity\",\"multichannel reception\",\"underwater acoustic wireless channels\",\"Monte Carlo simulations\",\"vector sensor equalizer\",\"multichannel equalizers\",\"sensor networks\"]},{\"type\":\"Author Keywords \",\"kwd\":[\"Multichannel equalization, particle velocity, underwater communication, vector sensors.\"]}],\"articleCopyRight\":\"2009 IEEE\",\"formulaStrippedArticleTitle\":\"A new compact multichannel receiver for underwater wireless communication networks\",\"allowComments\":false,\"publicationYear\":\"2009\",\"doi\":\"10.1109/TWC.2009.070566\",\"issueLink\":\"/xpl/tocresult.jsp?isnumber=5165281&punumber=7693\",\"publicationTitle\":\"IEEE Transactions on Wireless Communications\",\"publicationDate\":\"July 2009\",\"displayPublicationTitle\":\"IEEE Transactions on Wireless Communications\",\"startPage\":\"3326\",\"endPage\":\"3329\",\"dateOfInsertion\":\"21 July 2009\",\"pdfPath\":\"/iel5/7693/5165281/05165285.pdf\",\"rightsLink\":\"http://s100.copyright.com/AppDispatchServlet?publisherName=ieee&publication=7693&title=A+new+compact+multichannel+receiver+for+underwater+wireless+communication+networks&isbn=&publicationDate=July+2009&author=Ali+Abdi&ContentID=10.1109/TWC.2009.070566&orderBeanReset=true&startPage=3326&endPage=3329&volumeNum=8&issueNum=7\",\"doiLink\":\"https://doi.org/10.1109/TWC.2009.070566\",\"displayPublicationDate\":\"21 July 2009\",\"pubLink\":\"/xpl/RecentIssue.jsp?punumber=7693\",\"abstract\":\"In this letter it is shown that by taking advantage of the particle velocity, in addition to the pressure, multichannel reception can be accomplished in underwater acoustic wireless channels. Theoretical formulation and Monte Carlo simulations are provided for a vector sensor equalizer that measures the pressure and the velocity at a single point in space. These results demonstrate the usefulness of small-size vector sensors as multichannel equalizers for underwater acoustic wireless systems and sensor networks.\",\"isReadingRoomArticle\":false,\"isGetArticle\":false,\"isGetAddressInfoCaptured\":false,\"isMarketingOptIn\":false,\"pubTopics\":[{\"name\":\"Communication, Networking and Broadcast Technologies\"},{\"name\":\"Computing and Processing\"},{\"name\":\"Signal Processing and Analysis\"}],\"publisher\":\"IEEE\",\"isFreeDocument\":false,\"isNow\":false,\"xploreDocumentType\":\"Journals & Magazine\",\"isSMPTE\":false,\"isNotDynamicOrStatic\":false,\"isStandard\":false,\"isOUP\":false,\"isConference\":false,\"volume\":\"8\",\"issue\":\"7\",\"isProduct\":false,\"isSpringer\":false,\"isOpenAccess\":false,\"isBookWithoutChapters\":false,\"isChapter\":false,\"isStaticHtml\":true,\"persistentLink\":\"https://ieeexplore.ieee.org/servlet/opac?punumber=7693\",\"isEarlyAccess\":false,\"isJournal\":true,\"isBook\":false,\"htmlLink\":\"/document/5165285/\",\"isEphemera\":false,\"accessionNumber\":\"10792347\",\"htmlAbstractLink\":\"/document/5165285/\",\"isDynamicHtml\":true,\"isCustomDenial\":false,\"isPromo\":false,\"isSAE\":false,\"displayDocTitle\":\"A new compact multichannel receiver for underwater wireless communication networks\",\"startPage\":\"3326\",\"articleCopyRight\":\"2009 IEEE\",\"openAccessFlag\":\"F\",\"insertDate\":\"21 July 2009\",\"ephemeraFlag\":\"false\",\"title\":\"A new compact multichannel receiver for underwater wireless communication networks\",\"accessionNumber\":\"10792347\",\"html_flag\":\"true\",\"ml_html_flag\":\"true\",\"sourcePdf\":\"3326-tw0907-abdi.pdf\",\"displayPublicationDate\":\"21 July 2009\",\"mlTime\":\"PT0.041738S\",\"xplore-pub-id\":\"7693\",\"pdfPath\":\"/iel5/7693/5165281/05165285.pdf\",\"isNumber\":\"5165281\",\"rightsLinkFlag\":\"1\",\"contentType\":\"periodicals\",\"publicationDate\":\"July 2009\",\"publicationNumber\":\"7693\",\"citationCount\":\"49\",\"xplore-issue\":\"5165281\",\"issue\":\"7\",\"articleId\":\"5165285\",\"publicationTitle\":\"IEEE Transactions on Wireless Communications\",\"sections\":{\"abstract\":\"true\",\"authors\":\"true\",\"figures\":\"true\",\"multimedia\":\"false\",\"references\":\"true\",\"citedby\":\"true\",\"keywords\":\"true\",\"definitions\":\"false\",\"algorithm\":\"false\",\"dataset\":\"false\",\"cadmore\":\"false\",\"footnotes\":\"false\",\"disclaimer\":\"false\",\"relatedContent\":\"false\",\"metrics\":\"true\"},\"volume\":\"8\",\"contentTypeDisplay\":\"Journals\",\"publicationYear\":\"2009\",\"subType\":\"IEEE Transaction\",\"_value\":\"IEEE\",\"lastupdate\":\"2023-05-13\",\"mediaPath\":\"/mediastore_new/IEEE/content/media/7693/5165281/5165285\",\"endPage\":\"3329\",\"displayPublicationTitle\":\"IEEE Transactions on Wireless Communications\",\"doi\":\"10.1109/TWC.2009.070566\"};\n"
     ]
    }
   ],
   "source": [
    "temp=bs.find(\"body\",{\"class\",\"body-resp\"}).find('div', id=\"LayoutWrapper\").find('div', {\"class\",'col'}).find_all(\"script\", type=\"text/javascript\")\n",
    "\n",
    "for script_tag in temp:\n",
    "    if script_tag:\n",
    "        script_text=script_tag.string\n",
    "        if script_text:\n",
    "            match = re.search(r'xplGlobal\\.document\\.metadata\\s*=\\s*(\\{.*?\\};)', script_text, re.DOTALL) #正则表达式匹配\n",
    "            if match:\n",
    "                metadata_text = match.group()\n",
    "                print(metadata_text)\n",
    "                break\n",
    "        else:\n",
    "            continue\n",
    "    else:\n",
    "        continue"
   ]
  },
  {
   "cell_type": "code",
   "execution_count": 7,
   "metadata": {},
   "outputs": [
    {
     "name": "stdout",
     "output_type": "stream",
     "text": [
      "['Multichannel equalization, particle velocity, underwater communication, vector sensors.']\n"
     ]
    }
   ],
   "source": [
    "keywords_string=re.search(r'\"keywords\":\\s*\\[.*?\\],\"', metadata_text, re.DOTALL).group()\n",
    "\n",
    "All_Keywords_list_string=re.search(r'\\[.*\\]', keywords_string, re.DOTALL)\n",
    "\n",
    "keywords_list=json.loads(All_Keywords_list_string.group())[3]['kwd']\n",
    "print(keywords_list)"
   ]
  },
  {
   "attachments": {},
   "cell_type": "markdown",
   "metadata": {},
   "source": [
    "寻找参考文献的链接, 依赖html_driver"
   ]
  },
  {
   "cell_type": "code",
   "execution_count": 8,
   "metadata": {},
   "outputs": [
    {
     "name": "stderr",
     "output_type": "stream",
     "text": [
      "C:\\Users\\Anable\\AppData\\Local\\Temp\\ipykernel_9380\\1474514747.py:1: DeprecationWarning: executable_path has been deprecated, please pass in a Service object\n",
      "  driver = webdriver.Chrome(executable_path=\".\\\\chromedriver.exe\")\n"
     ]
    }
   ],
   "source": [
    "driver = webdriver.Chrome(executable_path=\".\\\\chromedriver.exe\")\n",
    "driver.get(url)\n",
    "time.sleep(10)\n",
    "html = driver.page_source\n",
    "driver.quit()"
   ]
  },
  {
   "cell_type": "code",
   "execution_count": 9,
   "metadata": {},
   "outputs": [],
   "source": [
    "f=open(\".\\\\html\\\\get detail test2.html\",\"w\")\n",
    "f.write(html)\n",
    "f.close()"
   ]
  },
  {
   "cell_type": "code",
   "execution_count": 10,
   "metadata": {},
   "outputs": [
    {
     "name": "stdout",
     "output_type": "stream",
     "text": [
      "['https://ieeexplore.ieee.org/document/4449191', 'https://ieeexplore.ieee.org/document/1637927', 'https://ieeexplore.ieee.org/document/4610779'] ['https://doi.org/10.1121/1.1914426', 'https://doi.org/10.1007/978-3-662-11761-3']\n"
     ]
    }
   ],
   "source": [
    "bs_driver=BeautifulSoup(html)\n",
    "View_Article=bs_driver.find_all(\"a\",{\"class\":'stats-reference-link-viewArticle'})\n",
    "CrossRef=bs_driver.find_all(\"a\",{\"class\":'stats-reference-link-crossRef'})\n",
    "View_Article_list=[]\n",
    "CrossRef_list=[]\n",
    "\n",
    "for article in View_Article:\n",
    "    if article:\n",
    "        View_Article_list.append(article.get(\"href\"))\n",
    "        \n",
    "View_Article_list=['https://ieeexplore.ieee.org'+link for link in View_Article_list]\n",
    "\n",
    "for article in CrossRef:\n",
    "    if article:\n",
    "        CrossRef_list.append(article.get(\"href\"))\n",
    "\n",
    "print(View_Article_list,CrossRef_list)"
   ]
  },
  {
   "attachments": {},
   "cell_type": "markdown",
   "metadata": {},
   "source": [
    "获取所在的期刊名"
   ]
  },
  {
   "cell_type": "code",
   "execution_count": 11,
   "metadata": {},
   "outputs": [
    {
     "name": "stdout",
     "output_type": "stream",
     "text": [
      "IEEE Transactions on Wireless Communications\n"
     ]
    },
    {
     "data": {
      "text/plain": [
       "\"impact_factor_list={'IEEE Transactions on Wireless Communications':10}\\nif Journal_Title in impact_factor_list:\\n    impact_factor=str(impact_factor_list[Journal_Title])\\nelse:\\n    impact_factor='null'\\n\\nprint(impact_factor)\""
      ]
     },
     "execution_count": 11,
     "metadata": {},
     "output_type": "execute_result"
    }
   ],
   "source": [
    "Journal_Title=bs_driver.find('strong', text='Published in: ').next_sibling.get_text()\n",
    "print(Journal_Title)\n",
    "\n",
    "'''impact_factor_list={'IEEE Transactions on Wireless Communications':10}\n",
    "if Journal_Title in impact_factor_list:\n",
    "    impact_factor=str(impact_factor_list[Journal_Title])\n",
    "else:\n",
    "    impact_factor='null'\n",
    "\n",
    "print(impact_factor)'''\n"
   ]
  },
  {
   "attachments": {},
   "cell_type": "markdown",
   "metadata": {},
   "source": [
    "获取DOI"
   ]
  },
  {
   "cell_type": "code",
   "execution_count": 12,
   "metadata": {},
   "outputs": [
    {
     "name": "stdout",
     "output_type": "stream",
     "text": [
      "https://doi.org/10.1109/TWC.2009.070566\n"
     ]
    }
   ],
   "source": [
    "DOI='https://doi.org/'+bs_driver.find('strong', text='DOI: ').next_sibling.get_text()\n",
    "print(DOI)"
   ]
  },
  {
   "attachments": {},
   "cell_type": "markdown",
   "metadata": {},
   "source": [
    "获取影响因子 只在期刊和杂志中才有"
   ]
  },
  {
   "cell_type": "code",
   "execution_count": 13,
   "metadata": {},
   "outputs": [
    {
     "name": "stdout",
     "output_type": "stream",
     "text": [
      "this is a Journals or Magazines paper\n",
      "https://ieeexplore.ieee.org/xpl/RecentIssue.jsp?punumber=7693\n"
     ]
    },
    {
     "name": "stderr",
     "output_type": "stream",
     "text": [
      "C:\\Users\\Anable\\AppData\\Local\\Temp\\ipykernel_9380\\3533504792.py:11: DeprecationWarning: executable_path has been deprecated, please pass in a Service object\n",
      "  driver = webdriver.Chrome(executable_path=\".\\\\chromedriver.exe\")\n"
     ]
    },
    {
     "name": "stdout",
     "output_type": "stream",
     "text": [
      "8.346\n"
     ]
    }
   ],
   "source": [
    "Journal_index=False\n",
    "\n",
    "if bs_driver.find(text='Journals & Magazines'):\n",
    "\n",
    "    Journal_index=True \n",
    "    print('this is a Journals or Magazines paper')\n",
    "\n",
    "    journal_link='https://ieeexplore.ieee.org'+bs_driver.find('strong', text='Published in: ').next_sibling.get('href')\n",
    "    print(journal_link)\n",
    "\n",
    "    driver = webdriver.Chrome(executable_path=\".\\\\chromedriver.exe\")\n",
    "    driver.get(journal_link)\n",
    "    time.sleep(5)\n",
    "    journal_html = driver.page_source\n",
    "    driver.quit()\n",
    "\n",
    "    f=open(\".\\\\html\\\\get detail test3.html\",\"w\")\n",
    "    f.write(journal_html)\n",
    "    f.close()\n",
    "\n",
    "    bs_temp=BeautifulSoup(journal_html)\n",
    "    impact_factor=bs_temp.find('a',{'class':'stats-jhp-impact-factor'}).find('span',{'class':'text-md-md-lh'}).get_text()\n",
    "    \n",
    "else :\n",
    "    impact_factor='null'\n",
    "\n",
    "print(impact_factor)"
   ]
  },
  {
   "attachments": {},
   "cell_type": "markdown",
   "metadata": {},
   "source": [
    "获取标题 title"
   ]
  },
  {
   "cell_type": "code",
   "execution_count": 14,
   "metadata": {},
   "outputs": [
    {
     "name": "stdout",
     "output_type": "stream",
     "text": [
      "<title>A new compact multichannel receiver for underwater wireless communication networks | IEEE Journals &amp; Magazine | IEEE Xplore</title>\n"
     ]
    }
   ],
   "source": [
    "print(bs.find('title'))"
   ]
  },
  {
   "cell_type": "code",
   "execution_count": 15,
   "metadata": {},
   "outputs": [],
   "source": [
    "class Article:\n",
    "    #公共成员\n",
    "    Main_Index=False\n",
    "    Journal_Index=False\n",
    "\n",
    "    Html='' \n",
    "    Url=''\n",
    "    \n",
    "    Title='' #依赖html?\n",
    "    Date='' #依赖html?\n",
    "    Abstract=''  #依赖 Html\n",
    "    Abstract_Translation=''\n",
    "\n",
    "    #主要成员\n",
    "    Keywords=[]    #依赖html\n",
    "    References_Link=[] #依赖html_driver\n",
    "\n",
    "    #参考成员\n",
    "    Journal_Name='' #依赖html?\n",
    "    Html_Driver=''\n",
    "    Impact_Factor='' #依赖html_driver\n",
    "    Doi=''\n",
    "\n",
    "    def __init__(self, url='', main_index=False, **kwargs):\n",
    "\n",
    "        self.Url=url\n",
    "        self.Main_Index=main_index\n",
    "        \n",
    "        '''        \n",
    "        for key, wd in kwargs:\n",
    "            \n",
    "            if key =='Title' or 'title':\n",
    "                self.Title=wd\n",
    "            if key =='Keywords' or 'Keyword':\n",
    "                self.Keywords=wd\n",
    "            if key =='Abstract' or 'abstract':\n",
    "                self.Abstract=wd\n",
    "        '''\n",
    "\n",
    "        if url:\n",
    "            '''            \n",
    "            self.get_html()\n",
    "            if not self.Main_Index:\n",
    "                self.get_html_driver()\n",
    "            '''\n",
    "\n",
    "            self.get_html()\n",
    "            self.get_html_driver()\n",
    "\n",
    "            if self.Main_Index:\n",
    "\n",
    "                self.get_title()\n",
    "                self.get_date()\n",
    "                self.get_abstract()\n",
    "                self.get_keywords()\n",
    "                self.get_references()\n",
    "                Keywords=[]    #依赖html\n",
    "                References_Link=[] #依赖html_driver\n",
    "\n",
    "            \n",
    "        '''\n",
    "        if self.Html:\n",
    "            self.get_abstract()\n",
    "            self.get_title()\n",
    "            self.get_date()\n",
    "\n",
    "        if self.Html_driver:\n",
    "            self.get_journal_name()\n",
    "            self.get_abstract()\n",
    "            self.get_title()\n",
    "        '''\n",
    "\n",
    "    def get_html(self):\n",
    "        self.Html=urlopen(url).read().decode('utf-8')\n",
    "        return 0\n",
    "    \n",
    "    def get_html_driver(self):\n",
    "        driver = webdriver.Chrome(executable_path=\".\\\\chromedriver.exe\")\n",
    "        driver.get(url)\n",
    "        time.sleep(10)\n",
    "        self.Html_driver = driver.page_source\n",
    "        driver.quit()\n",
    "\n",
    "    def get_abstract(self):\n",
    "        #如果发生异常,需要修改包'translators'的源码,将链接translate.google.cn改为.com\n",
    "        if self.Abstract:\n",
    "            return 0\n",
    "        \n",
    "        if self.Html:\n",
    "            bs=BeautifulSoup(html_byte)\n",
    "            self.Abstract = bs.find('meta', {'property': 'twitter:description'})['content']\n",
    "            self.Abstract_Translation=ts.google(self.Abstract,from_language=\"en\",to_language='zh', host_url=\"https://translate.google.com/\")\n",
    "        else:\n",
    "            if self.Url:\n",
    "                self.get_html()\n",
    "                self.get_abstract()\n",
    "                return 0\n",
    "            else:\n",
    "                print('获取摘要失败,未提供链接')\n",
    "        return 0\n",
    "\n",
    "    def get_date(self):\n",
    "        if self.Date or (not self.Journal_Index): #非杂志或期刊不用获取日期\n",
    "            return 0\n",
    "        \n",
    "        if self.Html_Driver:\n",
    "            #TODO: 获取日期代码\n",
    "            return 0\n",
    "        \n",
    "        else:\n",
    "            if self.Url:\n",
    "                self.get_html()\n",
    "                self.get_date()\n",
    "                return 0\n",
    "            else:\n",
    "                print('获取日期失败,未提供链接')\n",
    "\n",
    "    def get_title(self):\n",
    "        if self.Title:\n",
    "            return 0\n",
    "        \n",
    "        if self.Html_Driver:\n",
    "            #TODO: 获取标题代码\n",
    "            return 0\n",
    "        else:\n",
    "            if self.Url:\n",
    "                self.get_html()\n",
    "                self.get_title()\n",
    "                return 0\n",
    "\n",
    "    def get_doi(self):\n",
    "        if self.Doi or self.Main_Index: #主期刊不获取doi\n",
    "            return 0\n",
    "        \n",
    "        if self.Html_Driver:\n",
    "            #TODO: 获取日期代码\n",
    "            return 0\n",
    "        \n",
    "        else:\n",
    "            if self.Url:\n",
    "                self.get_html()\n",
    "                self.get_date()\n",
    "                return 0\n",
    "            else:\n",
    "                print('获取日期失败,未提供链接')\n",
    "    def get_journal_name(self):\n",
    "        ok= False\n",
    "        if ok:\n",
    "            self.Journal_Index=True\n",
    "        return 0\n",
    "    \n",
    "    def get_keywords(self):\n",
    "\n",
    "        bs=BeautifulSoup(self.Html)\n",
    "        temp=bs.find(\"body\",{\"class\",\"body-resp\"}).find('div', id=\"LayoutWrapper\").find('div', {\"class\",'col'}).find_all(\"script\", type=\"text/javascript\")\n",
    "\n",
    "        for script_tag in temp:\n",
    "            if script_tag:\n",
    "                script_text=script_tag.string\n",
    "                if script_text:\n",
    "                    match = re.search(r'xplGlobal\\.document\\.metadata\\s*=\\s*(\\{.*?\\};)', script_text, re.DOTALL) #正则表达式匹配\n",
    "                    if match:\n",
    "                        metadata_text = match.group()\n",
    "                        break\n",
    "                else:\n",
    "                    continue\n",
    "            else:\n",
    "                continue\n",
    "        \n",
    "        keywords_string=re.search(r'\"keywords\":\\s*\\[.*?\\],\"', metadata_text, re.DOTALL).group()\n",
    "        All_Keywords_list_string=re.search(r'\\[.*\\]', keywords_string, re.DOTALL)\n",
    "        self.Keywords=json.loads(All_Keywords_list_string.group())[3]['kwd']\n",
    "\n",
    "        return 0\n",
    "\n",
    "    def get_references(self):\n",
    "        return 0        \n",
    "    \n",
    "    def get_pdf(self,save_path='.\\\\download Pdf'):\n",
    "        urlopen('https://scihub.se/'+self.Doi)\n",
    "\n",
    "    "
   ]
  }
 ],
 "metadata": {
  "kernelspec": {
   "display_name": "spider",
   "language": "python",
   "name": "python3"
  },
  "language_info": {
   "codemirror_mode": {
    "name": "ipython",
    "version": 3
   },
   "file_extension": ".py",
   "mimetype": "text/x-python",
   "name": "python",
   "nbconvert_exporter": "python",
   "pygments_lexer": "ipython3",
   "version": "3.11.0"
  },
  "orig_nbformat": 4
 },
 "nbformat": 4,
 "nbformat_minor": 2
}
