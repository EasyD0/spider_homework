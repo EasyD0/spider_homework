{
 "cells": [
  {
   "cell_type": "code",
   "execution_count": null,
   "metadata": {},
   "outputs": [],
   "source": [
    "import time\n",
    "from selenium import webdriver\n",
    "from selenium.webdriver.support.ui import WebDriverWait\n",
    "from bs4 import BeautifulSoup\n",
    "from selenium.webdriver.chrome.options import Options\n",
    "url1=\"https://www.baidu.com\"\n",
    "url2=\"https://www.zhihu.com\"\n",
    "url3=\"https://image.baidu.com\""
   ]
  },
  {
   "cell_type": "code",
   "execution_count": null,
   "metadata": {},
   "outputs": [],
   "source": [
    "#打开一个窗口,并打开网页1\n",
    "MyDriver = webdriver.Chrome(executable_path=\".\\chromedriver.exe\") #指定驱动程序所在的目录,驱动程序版本要和chrome大版本一致\n",
    "MyDriver.get(url1) #打开网页1\n",
    "\n",
    "\n",
    "print(MyDriver.window_handles) #查看当前所有网页句柄\n",
    "#window_handles是MyDriver的成员,是一个列表\n",
    "print(MyDriver.current_window_handle) #查看当前句柄\n"
   ]
  },
  {
   "attachments": {},
   "cell_type": "markdown",
   "metadata": {},
   "source": [
    "若想同时在一个窗口下,打开多个网页,不能直接用\n",
    "```python\n",
    "MyDriver.get(url2)\n",
    "```\n",
    "这样第二个网页会覆盖第一个,必须用脚本控制打开"
   ]
  },
  {
   "cell_type": "code",
   "execution_count": null,
   "metadata": {},
   "outputs": [],
   "source": [
    "#此时想同时打开网页2\n",
    "MyDriver.execute_script(\"window.open(url2);\")\n",
    "#直接这么做是不行的,因为脚本执行中,\"window.open(url2);\"只是脚本的文本,无法传入定义的url2"
   ]
  },
  {
   "cell_type": "code",
   "execution_count": null,
   "metadata": {},
   "outputs": [],
   "source": [
    "#但可以用format来传入\n",
    "MyDriver.execute_script(\"window.open('{}');\".format(url2)) #在同一个窗口下打开第二个标签页\n",
    "\n",
    "print(MyDriver.window_handles) #查看当前所有网页句柄\n",
    "print(MyDriver.current_window_handle) #查看当前句柄\n",
    "#会发现当前句柄没有改变"
   ]
  },
  {
   "cell_type": "code",
   "execution_count": null,
   "metadata": {},
   "outputs": [],
   "source": [
    "#还可以在不同的窗口中打开新的网页,并指定窗口大小\n",
    "MyDriver.execute_script(\"window.open('{}', '_blank', 'width=800,height=600');\".format(url3))\n",
    "#注意这里{} 外面必须加''\n",
    "\n",
    "print(MyDriver.window_handles)\n",
    "print(MyDriver.current_window_handle) #查看当前句柄\n",
    "#当前句柄依然没有改变"
   ]
  },
  {
   "cell_type": "code",
   "execution_count": null,
   "metadata": {},
   "outputs": [],
   "source": [
    "#切换句柄\n",
    "MyDriver.switch_to.window(MyDriver.window_handles[1])\n",
    "\n",
    "print(MyDriver.window_handles)\n",
    "print(MyDriver.current_window_handle)"
   ]
  },
  {
   "cell_type": "code",
   "execution_count": null,
   "metadata": {},
   "outputs": [],
   "source": [
    "#关闭当前句柄的网页\n",
    "MyDriver.switch_to.window(MyDriver.window_handles[1])\n",
    "MyDriver.close()\n",
    "\n",
    "print(MyDriver.window_handles)\n",
    "print(MyDriver.window_handles)"
   ]
  },
  {
   "cell_type": "code",
   "execution_count": null,
   "metadata": {},
   "outputs": [],
   "source": [
    "#关闭所有打开的窗口,并结束这个会话\n",
    "MyDriver.quit()\n",
    "\n",
    "#在关闭所有窗口后,整个MyDriver就被释放了,若要使用,必须重新MyDriver=webdriver.Chrome(executable_path=\".\\chromedriver.exe\")"
   ]
  }
 ],
 "metadata": {
  "kernelspec": {
   "display_name": "spider",
   "language": "python",
   "name": "python3"
  },
  "language_info": {
   "codemirror_mode": {
    "name": "ipython",
    "version": 3
   },
   "file_extension": ".py",
   "mimetype": "text/x-python",
   "name": "python",
   "nbconvert_exporter": "python",
   "pygments_lexer": "ipython3",
   "version": "3.11.0"
  },
  "orig_nbformat": 4
 },
 "nbformat": 4,
 "nbformat_minor": 2
}
