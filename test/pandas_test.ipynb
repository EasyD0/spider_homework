{
 "cells": [
  {
   "cell_type": "code",
   "execution_count": 7,
   "metadata": {},
   "outputs": [],
   "source": [
    "#由于总是无故出错 弃用pandas 改用别的xlsx写入器\n",
    "import pandas as pd\n",
    "\n",
    "alist=[1,2,3,4,5]\n",
    "text=\"a s d f s\".split()\n",
    "#print(text)\n",
    "\n",
    "Excel_Path='.\\\\output.xlsx'\n",
    "df_ref=pd.DataFrame({\"数字\":alist})\n",
    "df_similar=pd.DataFrame({\"字母\":text})\n",
    "\n",
    "with pd.ExcelWriter(Excel_Path) as writer:\n",
    "    df_ref.to_excel(writer, sheet_name='数字')\n",
    "    df_similar.to_excel(writer, sheet_name='字母')"
   ]
  },
  {
   "cell_type": "code",
   "execution_count": 15,
   "metadata": {},
   "outputs": [],
   "source": [
    "dict={'标题': ['Development of GUI for Text-to-Speech Recognition using Natural Language Processing', 'Outlier detection using k-nearest neighbour graph'], '摘要': ['Natural language processing is a widely used technique by which systems can understand the instructions for manipulating text or speech. In the present paper, a Text-to-speech synthesizer is developed that converts text into spoken word, by analysing and processing it using Natural Language Processing (NLP) and then using Digital Signal Processing (DSP) technology to convert this processed text into synthesized speech representation of the text. Here we developed a useful text-to-speech synthesizer in the form of a simple application that converts inputted text into synthesized speech and reads out to the user which can then be saved as an mp3 file.', 'We present an outlier detection using indegree number (ODIN) algorithm that utilizes k-nearest neighbour graph. Improvements to existing kNN distance-based method are also proposed. We compare the methods with real and synthetic datasets. The results show that the proposed method achieves reasonable results with synthetic data and outperforms compared methods with real data sets with small number of observations.'], '摘要 翻译': ['自然语言处理是一种广泛使用的技术，系统可以理解操纵文本或语音的说明。在本文中，开发了文本到语音合成器，通过使用自然语言处理（NLP）分析和处理它，然后使用数字信号处理（DSP）技术将文本转换为口语，然后将其转换为合成的文本文本的语音表示。在这里，我们以简单应用程序的形式开发了有用的文本到语音合成器，该应用程 序将输入的文本转换为综合语音，并将其读取给用户，然后可以将其保存为MP3文件。', '我们使用使用K-Nearest邻居图的indegree编号（ODIN）算法提出异常检测。还提出了对现有基于KNN距离的方法的改进。我们将方法与真实和合成数据集进行了比较。结果表明，所提出的方法通过合成数据和表现优于实际数据集的方法与少量观测值获得了合理的结 果。'], '日期': [' 04-05 May 2018 ', ' 26-26 August 2004 '], '期刊名/会议名': ['2018 2nd International Conference on Electronics, Materials Engineering & Nano-Technology (IEMENTech)', 'Proceedings of the 17th International Conference on Pattern Recognition, 2004. ICPR 2004.'], '影响因子': ['', ''], 'doi': ['10.1109/IEMENTECH.2018.8465238', '10.1109/ICPR.2004.1334558']}\n"
   ]
  },
  {
   "cell_type": "code",
   "execution_count": null,
   "metadata": {},
   "outputs": [],
   "source": [
    "dict={\n",
    "'摘要翻译': ['聊天机器人在当前十年开始时大量出现。交互式技术通常与人工智能相结合，已迅速入侵并占据了在线聊天的世界。聊天机器人不仅是虚拟助手的要素，而且在网站，应用程序和即时消息平台上的组织和政府使用以促进产品，想法或服务。在本文中，作者首先提出了理论和历史背景，然后讨论使用聊天机器人作为教育助手的问题，最后描述了编程机器人的基本步骤和挑战。', \n",
    "         '接受一般DNN训练的多演讲者TTS优于单独建模的基线[1]。多扬声器DNN从多个扬声器中获得了更多培训数据的优势，以在隐藏层中找到强大的转换，并涵盖输出回归层中更多的扬声器变异性。在本文中，我们提出了一种新的方法，可以通过多演讲者DNN进行无监督的扬声器改编。它利用共享的隐藏转换来搜索未标记的声学框架的标签，并且发现的标签用于扬声器 适应。实验结果表明，无监督适应的新方法可以在客观和主观上以监督适应性来实现可比的性能。我们将其进一步扩展到跨语言适应。它可以消除非本地口音并改善自然性，同时保持相同的说话者的特征。', '文本转录本与音轨的同步通常是通过语音级别的强制对齐来解决的。但是，当处理非常长的音轨或声学上不准确的文本笔录时，通常需要更复杂的方法，通常基于繁重且昂贵的ASR系统。在先前的工作中，我们表明，基于语音信号的自由语音解码以及自由语音和参考语音序列 的对齐，可以有效地应用一种简单且轻巧。该方法在HUB4-97数据集上产生了竞争结果，目前用于同步巴斯克议会全体会议的视频和会议记录。在本文中，基于以 下假设，即从大量的语音语料库中计算出的混乱矩阵传达了有关语音解码器行为的关键信息，并且该信息的概率解释可能有助于设计设计，则应用了概率内核（相似性函数）。信息内核，导致对齐度得到改善。在HUB4-97数据集的实验中，本工作中提出的概率内核优于我们的基线内核和其他替代方案，包括基于参考的ASR方法和基于知识的内核。', '自然语言处理是一种广泛使用的技术，系统可以理解操纵文本或语音的说明。在本文中，开发了文本到语音合成器，通过使用自然语言处理（NLP）分析和处理它，然后使用数字信号处理（DSP）技术将文本转换为口语，然后将其转换为合成的文本文本的语音表示。在这里，我们以简单应用程序的形式开发了有用的文本到语音合成器，该应用程序将输入的文本转换为综合语音，并将其读取给用户，然后可以将其保存为MP3文件。', '我们使用使用K-Nearest邻居图的indegree编号（ODIN）算法提出异常检测。还提出了对现有基于KNN距离的方法的改进。我们将方法与真实和合成数据集进行了比较。结果表明，所提出 的方法通过合成数据和表现优于实际数据集的方法与少量观测值获得了合理的结果。'], '日期': [' 13-15 September 2018 ', ' 20-25 March 2016 ', ' 03 December 2015 ', ' 04-05 May 2018 ', ' 26-26 August 2004 '], '期刊名/会议名': ['2018 IEEE 16th International Symposium on Intelligent Systems and Informatics (SISY)', '2016 IEEE International Conference on Acoustics, Speech and Signal Processing (ICASSP)', 'IEEE Signal Processing Letters', '2018 2nd International Conference on Electronics, Materials Engineering & Nano-Technology (IEMENTech)', 'Proceedings of the 17th International Conference on Pattern Recognition, 2004. ICPR 2004.'], '影响因子': ['', '', '3.201', '', ''], 'doi': ['10.1109/SISY.2018.8524609', '10.1109/ICASSP.2016.7472656', '10.1109/LSP.2015.2505140', '10.1109/IEMENTECH.2018.8465238', '10.1109/ICPR.2004.1334558']}"
   ]
  },
  {
   "cell_type": "code",
   "execution_count": 18,
   "metadata": {},
   "outputs": [],
   "source": [
    "dict={'标题': ['The Role of Chatbots in Formal Education', 'Unsupervised speaker adaptation for DNN-based TTS synthesis', 'Probabilistic Kernels for Improved Text-to-Speech Alignment in Long Audio Tracks', 'Development of GUI for Text-to-Speech Recognition using Natural Language Processing', 'Outlier detection using k-nearest neighbour graph'], '摘要': ['Chatbots appeared in large numbers at the beginning of the current decade. Interactive technology, often combined with artificial intelligence, has rapidly invaded and occupied the world of online chat. Chatbots are not just elements of virtual assistants, but are used by organizations and governments on websites, in applications, and instant messaging platforms to promote products, ideas or services. In this paper, the authors firstly present a theoretical and historical background, then discuss the issues of using chatbots as educational assistants, and finally describe the basic steps and challenges of programming a bot.', \"Multi-speaker TTS trained with a general DNN has outperformed individually modelled baseline [1]. Multi-speaker DNN takes advantages of larger amount of training data from multiple speakers to find robust transformations in the hidden layers and covers more speaker variability in the output regression layer. In this paper, we propose a new approach to unsupervised speaker adaptation with multi-speaker DNN. It takes advantage of shared hidden transformation to search for the labels of unlabelled acoustic frames and the found labels are used for speaker adaption. Experimental results show that the new approach of unsupervised adaptation can achieve comparable performance with supervised adaptation both objectively and subjectively. We further extend it to cross-lingual adaptation. It can remove non-native accent and improve the naturalness while keep the same speaker's characteristics.\", 'The synchronization of text transcripts with audio tracks is typically solved by forced alignment at the phonetic level. However, when dealing with either very long audio tracks or acoustically inaccurate text transcripts, more complex methods are needed, usually based on heavy and costly ASR systems. In a previous work, we showed that a simple and lightweight method could be effectively applied, based on a free phonetic decoding of the speech signal and the alignment of the free and reference phonetic sequences, allowing the transfer of timestamps from the former to the latter. This method has yielded competitive results on the Hub4-97 dataset and is currently applied to synchronize the videos and minutes of the Basque Parliament plenary sessions. In this paper, probabilistic kernels (similarity functions) are applied, based on the hypothesis that a confusion matrix computed from a large corpus of speech conveys key information about the behavior of the phonetic decoder, and that the probabilistic interpretation of this information may help design informative kernels leading to improved alignments. The probabilistic kernels proposed in this work outperform our baseline kernels and other alternatives, including a reference ASR-based approach and a knowledge-based kernel, in experiments on the Hub4-97 dataset.', 'Natural language processing is a widely used technique by which systems can understand the instructions for manipulating text or speech. In the present paper, a Text-to-speech synthesizer is developed that converts text into spoken word, by analysing and processing it using Natural Language Processing (NLP) and then using Digital Signal Processing (DSP) technology to convert this processed text into synthesized speech representation of the text. Here we developed a useful text-to-speech synthesizer in the form of a simple application that converts inputted text into synthesized speech and reads out to the user which can then be saved as an mp3 file.', 'We present an outlier detection using indegree number (ODIN) algorithm that utilizes k-nearest neighbour graph. Improvements to existing kNN distance-based method are also proposed. We compare the methods with real and synthetic datasets. The results show that the proposed method achieves reasonable results with synthetic data and outperforms compared methods with real data sets with small number of observations.'], '摘要翻译': ['聊天机器人在当前十年开始时大量出现。交互式技术通常与人工智能相结合，已迅速入侵并占据了在线聊天的世界。聊天机器人不仅是虚拟助手的要素，而且在网站，应用程序和即时消息平台上的组织和政府使用以促进产品，想法或服务。在本文中，作者首先提出了理论和历史背景，然后讨论使用聊天机器人作为教育助手的问题，最后描述了编程机器人的基本步骤和挑战。', '接受一般DNN训练的多演讲者TTS优于单独建模的基线[1]。多扬声器DNN从多个扬声器中获得了更多培训数据的优势，以在隐藏层中找到强大的转换，并涵盖输出回归层中更多的扬声器变异性。在本文中，我们提出了一种新的方法，可以通过多演讲者DNN进行无监督的扬声器改编。它利用共享的隐藏转换来搜索未标记的声学框架的标签，并且发现的标签用于扬声器适应。实验结果表明，无 监督适应的新方法可以在客观和主观上以监督适应性来实现可比的性能。我们将其进一步扩展到跨语言适应。它可以消除非本地口音并改善自然性，同时保持相同的说话者的特征。', '文本转录本与音轨的同步通常是通过语音级别的强制对齐来解决的。但是，当处理非常长的音轨或声学上不准确的文本笔录时，通常需要更复杂的方法，通常基于繁重且昂贵的ASR系统。在先前的工作中，我们表明，基于语音信号的自由语音解码以及自由语音和参考语音序列的对齐，可以有效地应用一种简单且轻巧。该方法在HUB4-97数据集上产生了竞争结果，目前用于同步巴斯克议会全体会议的视频和会议记录。在本文中，基于以下假设，即从大量的语音语料库中计算出的混乱矩阵传达了有关语音解码器行为的关键信息，并且该信息的概率解释可能有助于设计设计，则应用了概率内核（相似性函数）。信息内核，导致对齐度得到改善。在HUB4-97数据集的实验中，本工作中提出的概率内核优于 我们的基线内核和其他替代方案，包括基于参考的ASR方法和基于知识的内核。', '自然语言处理是一种广泛使用的技术，系统可以理解操纵文本或语音的说明。在本文中，开发 了文本到语音合成器，通过使用自然语言处理（NLP）分析和处理它，然后使用数字信号处理（DSP）技术将文本转换为口语，然后将其转换为合成的文本文本的语音表示。在这里，我们以简单应用程序的形式开发了有用的文本到语音合成器，该应用程序将输入的文本转换为综合语音，并将其读取给用户，然后可以将其保存为MP3文件。', '我们使用使用K-Nearest邻居图的indegree编号（ODIN）算法提出异常检测。还提出了对现有基于KNN距离的方法的改进。我们将方法与真实和合成数据集进行了比较。结果表明，所提出的方法 通过合成数据和表现优于实际数据集的方法与少量观测值获得了合理的结果。'], '日期': [' 13-15 September 2018 ', ' 20-25 March 2016 ', ' 03 December 2015 ', ' 04-05 May 2018 ', ' 26-26 August 2004 '], '期刊名/会议名': ['2018 IEEE 16th International Symposium on Intelligent Systems and Informatics (SISY)', '2016 IEEE International Conference on Acoustics, Speech and Signal Processing (ICASSP)', 'IEEE Signal Processing Letters', '2018 2nd International Conference on Electronics, Materials Engineering & Nano-Technology (IEMENTech)', 'Proceedings of the 17th International Conference on Pattern Recognition, 2004. ICPR 2004.'], '影响因子': ['', '', '3.201', '', ''], 'doi': ['10.1109/SISY.2018.8524609', '10.1109/ICASSP.2016.7472656', '10.1109/LSP.2015.2505140', '10.1109/IEMENTECH.2018.8465238', '10.1109/ICPR.2004.1334558']}"
   ]
  },
  {
   "cell_type": "code",
   "execution_count": 19,
   "metadata": {},
   "outputs": [],
   "source": [
    "exx=pd.DataFrame(dict)\n",
    "with pd.ExcelWriter('.\\\\output.xlsx') as writer:\n",
    "    exx.to_excel(writer, sheet_name='数字')"
   ]
  },
  {
   "cell_type": "code",
   "execution_count": 5,
   "metadata": {},
   "outputs": [],
   "source": [
    "import xlsxwriter\n",
    "\n",
    "workbook = xlsxwriter.Workbook('.\\\\data.xlsx')\n",
    "worksheet1 = workbook.add_worksheet('Sheet1')\n",
    "worksheet2 = workbook.add_worksheet('Sheet2')\n",
    "\n",
    "data1 = [1, 2, 3, 4, 5]\n",
    "data2 = [6, 7, 8, 9, 10]\n",
    "\n",
    "worksheet1.write_column(0, 0, data1)\n",
    "worksheet1.write_column(0, 1, data2)\n",
    "\n",
    "worksheet2.write_column(0, 0, data2)\n",
    "worksheet2.write_column(0, 1, data1)\n",
    "workbook.close()"
   ]
  }
 ],
 "metadata": {
  "kernelspec": {
   "display_name": "spider",
   "language": "python",
   "name": "python3"
  },
  "language_info": {
   "codemirror_mode": {
    "name": "ipython",
    "version": 3
   },
   "file_extension": ".py",
   "mimetype": "text/x-python",
   "name": "python",
   "nbconvert_exporter": "python",
   "pygments_lexer": "ipython3",
   "version": "3.11.0"
  },
  "orig_nbformat": 4
 },
 "nbformat": 4,
 "nbformat_minor": 2
}
