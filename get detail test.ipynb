{
 "cells": [
  {
   "cell_type": "code",
   "execution_count": 3,
   "metadata": {},
   "outputs": [
    {
     "name": "stderr",
     "output_type": "stream",
     "text": [
      "Using United States server backend.\n"
     ]
    }
   ],
   "source": [
    "import time\n",
    "from selenium import webdriver\n",
    "#from selenium.webdriver.support.ui import WebDriverWait\n",
    "from bs4 import BeautifulSoup\n",
    "from urllib.request import urlopen\n",
    "import re\n",
    "import translators as ts\n",
    "import json\n",
    "from selenium.webdriver.chrome.service import Service as ChromeService"
   ]
  },
  {
   "cell_type": "code",
   "execution_count": 4,
   "metadata": {},
   "outputs": [
    {
     "name": "stderr",
     "output_type": "stream",
     "text": [
      "C:\\Users\\Anable\\AppData\\Local\\Temp\\ipykernel_9396\\2958509911.py:9: DeprecationWarning: executable_path has been deprecated, please pass in a Service object\n",
      "  driver = driver = webdriver.Chrome(executable_path=\".\\\\chromedriver.exe\",options=webdriver.ChromeOptions().add_argument(\"--headless\"))# type: ignore\n"
     ]
    }
   ],
   "source": [
    "url=\"https://ieeexplore.ieee.org/document/9411225\"\n",
    "url=\"https://ieeexplore.ieee.org/document/7809977\" #会议\n",
    "url=\"https://ieeexplore.ieee.org/document/5165285\" #TWC\n",
    "url='https://ieeexplore.ieee.org/document/8524609'\n",
    "url='https://ieeexplore.ieee.org/document/10018916/' #该文章只有两列关键词\n",
    "html=urlopen(url)\n",
    "html_byte=html.read()\n",
    "\n",
    "service = ChromeService(executable_path='./chromedriver.exe')\n",
    "options = webdriver.ChromeOptions()\n",
    "options.add_argument('--headless=new')\n",
    "driver = webdriver.Chrome(options=options, service=service)\n",
    "#driver = webdriver.Chrome(executable_path=\".\\\\chromedriver.exe\",options=webdriver.ChromeOptions().add_argument(\"--headless\"))# type: ignore\n",
    "driver.get(url)\n",
    "time.sleep(5)\n",
    "html_driver = driver.page_source\n",
    "driver.quit()\n",
    "\n",
    "bs=BeautifulSoup(html_byte)\n",
    "bs_driver=BeautifulSoup(html_driver,'lxml' )"
   ]
  },
  {
   "cell_type": "code",
   "execution_count": 3,
   "metadata": {},
   "outputs": [],
   "source": [
    "f=open(\".\\\\html_driver\\\\get detail test.html_driver\",\"wb\")\n",
    "f.write(html_byte)\n",
    "f.close()"
   ]
  },
  {
   "cell_type": "code",
   "execution_count": 4,
   "metadata": {},
   "outputs": [],
   "source": [
    "f=open(\".\\\\html\\\\get detail test2.html\",\"w\")\n",
    "f.write(html_driver)\n",
    "f.close()\n"
   ]
  },
  {
   "attachments": {},
   "cell_type": "markdown",
   "metadata": {},
   "source": [
    "获取摘要和翻译"
   ]
  },
  {
   "cell_type": "code",
   "execution_count": 3,
   "metadata": {},
   "outputs": [
    {
     "name": "stdout",
     "output_type": "stream",
     "text": [
      "Chatbots appeared in large numbers at the beginning of the current decade. Interactive technology, often combined with artificial intelligence, has rapidly invaded and occupied the world of online chat. Chatbots are not just elements of virtual assistants, but are used by organizations and governments on websites, in applications, and instant messaging platforms to promote products, ideas or services. In this paper, the authors firstly present a theoretical and historical background, then discuss the issues of using chatbots as educational assistants, and finally describe the basic steps and challenges of programming a bot.\n",
      "聊天机器人在当前十年开始时大量出现。交互式技术通常与人工智能相结合，已迅速入侵并占据了在线聊天的世界。聊天机器人不仅是虚拟助手的要素，而且在网站，应用程序和即时消息平台上的组织和政府使用以促进产品，想法或服务。在本文中，作者首先提出了理论和历史背景，然后讨论使用聊天机器人作为教育助手的问题，最后描述了编程机器人的基本步骤和挑战。\n"
     ]
    }
   ],
   "source": [
    "abstract = bs.find('meta', {'property': 'twitter:description'})['content']#.replace('n','') # type: ignore\n",
    "print(abstract)\n",
    "\n",
    "abstract_translation=ts.google(abstract,from_language=\"en\",to_language='zh', host_url=\"https://translate.google.com/\")\n",
    "print(abstract_translation)"
   ]
  },
  {
   "attachments": {},
   "cell_type": "markdown",
   "metadata": {},
   "source": [
    "获取关键词"
   ]
  },
  {
   "cell_type": "code",
   "execution_count": 7,
   "metadata": {},
   "outputs": [
    {
     "name": "stdout",
     "output_type": "stream",
     "text": [
      "['Localization', 'Time Difference of Arrival', 'Angle of Arrival', 'closed-form solution', 'Cramer-Rao Lower Bound', 'station position error', 'optimal geometry']\n"
     ]
    },
    {
     "data": {
      "text/plain": [
       "list"
      ]
     },
     "execution_count": 7,
     "metadata": {},
     "output_type": "execute_result"
    }
   ],
   "source": [
    "match=re.search(r'\"Author Keywords\\s*\",\"kwd\":\\[.*?\\]',html_byte.decode(),re.DOTALL)\n",
    "match=re.search(r'\\[.*\\]',match.group(),re.DOTALL)\n",
    "if match:\n",
    "    list=json.loads(match.group())\n",
    "print(list)\n"
   ]
  },
  {
   "cell_type": "code",
   "execution_count": 5,
   "metadata": {},
   "outputs": [
    {
     "name": "stdout",
     "output_type": "stream",
     "text": [
      "xplGlobal.document.metadata={\"userInfo\":{\"institute\":false,\"member\":false,\"individual\":false,\"guest\":false,\"subscribedContent\":false,\"fileCabinetContent\":false,\"fileCabinetUser\":false,\"institutionalFileCabinetUser\":false,\"showPatentCitations\":true,\"showGet802Link\":false,\"showOpenUrlLink\":false,\"tracked\":false,\"desktop\":false,\"delegatedAdmin\":false,\"isInstitutionDashboardEnabled\":false,\"isInstitutionProfileEnabled\":false,\"isRoamingEnabled\":false,\"isDelegatedAdmin\":false,\"isMdl\":false,\"isCwg\":false,\"isIel\":false,\"isAcademic\":false},\"authors\":[{\"name\":\"Xu Kang\",\"affiliation\":[\"Changchun Institute of Optics, Fine Mechanics and Physics, Chinese Academy of Sciences, Changchun, China\"],\"firstName\":\"Xu\",\"lastName\":\"Kang\",\"orcid\":\"0000-0001-8386-1145\"},{\"name\":\"Dejiang Wang\",\"affiliation\":[\"Changchun Institute of Optics, Fine Mechanics and Physics, Chinese Academy of Sciences, Changchun, China\"],\"firstName\":\"Dejiang\",\"lastName\":\"Wang\"},{\"name\":\"Yu Shao\",\"affiliation\":[\"Changchun Institute of Optics, Fine Mechanics and Physics, Chinese Academy of Sciences, Changchun, China\"],\"firstName\":\"Yu\",\"lastName\":\"Shao\"},{\"name\":\"Mingyang Ma\",\"affiliation\":[\"Changchun Institute of Optics, Fine Mechanics and Physics, Chinese Academy of Sciences, Changchun, China\"],\"firstName\":\"Mingyang\",\"lastName\":\"Ma\"},{\"name\":\"Tao Zhang\",\"affiliation\":[\"Changchun Institute of Optics, Fine Mechanics and Physics, Chinese Academy of Sciences, Changchun, China\"],\"firstName\":\"Tao\",\"lastName\":\"Zhang\"}],\"issn\":[{\"format\":\"Print ISSN\",\"value\":\"1536-1276\"},{\"format\":\"Electronic ISSN\",\"value\":\"1558-2248\"}],\"articleNumber\":\"10018916\",\"dbTime\":\"2 ms\",\"metrics\":{\"citationCountPaper\":0,\"citationCountPatent\":0,\"totalDownloads\":125},\"sponsors\":[{\"packageNumber\":0,\"name\":\"IEEE Communications Society\",\"url\":\"http://www.comsoc.org/\"},{\"packageNumber\":0,\"name\":\"IEEE Signal Processing Society\",\"url\":\"http://www.ieee.org/organizations/society/sp/index.html#pub\"}],\"purchaseOptions\":{\"showOtherFormatPricingTab\":false,\"showPdfFormatPricingTab\":true,\"pdfPricingInfoAvailable\":true,\"otherPricingInfoAvailable\":false,\"mandatoryBundle\":false,\"optionalBundle\":false,\"displayTextWhenOtherFormatPricingNotAvailable\":\"The purchase and pricing options for this item are unavailable. Select items are only available as part of a subscription package. You may try again later or <a href='https://ieeexplore.ieee.org/xpl/contact' target='_blank'>contact us</a> for more information.\",\"pdfPricingInfo\":[{\"memberPrice\":\"$14.95\",\"nonMemberPrice\":\"$33.00\",\"partNumber\":\"10018916\",\"type\":\"PDF\"}]},\"getProgramTermsAccepted\":false,\"sections\":{\"abstract\":\"true\",\"authors\":\"true\",\"figures\":\"false\",\"multimedia\":\"false\",\"references\":\"false\",\"citedby\":\"false\",\"keywords\":\"true\",\"definitions\":\"false\",\"algorithm\":\"false\",\"dataset\":\"false\",\"cadmore\":\"false\",\"footnotes\":\"false\",\"disclaimer\":\"false\",\"relatedContent\":\"false\",\"metrics\":\"true\"},\"articleCopyRight\":\"2023 IEEE\",\"keywords\":[{\"type\":\"IEEE Keywords\",\"kwd\":[\"Location awareness\",\"Position measurement\",\"Geometry\",\"Closed-form solutions\",\"Wireless communication\",\"Maximum likelihood estimation\",\"Antenna arrays\"]},{\"type\":\"Author Keywords \",\"kwd\":[\"Localization\",\"Time Difference of Arrival\",\"Angle of Arrival\",\"closed-form solution\",\"Cramer-Rao Lower Bound\",\"station position error\",\"optimal geometry\"]}],\"abstract\":\"Multi-station passive localization algorithms based on hybrid Time Difference of Arrival (TDOA) and Angle of Arrival (AOA) have been thoroughly studied. But it usually requires each station to obtain the AOA of the source and relies on the precise station position. These conditions are generally not satisfied in practical applications. In addition, the geometry between the source and these stations also affects the localization accuracy. This paper studies the passive source localization problem based on multi-station TDOA and single-station AOA measurements. First, we propose a closed-form solution source localization method based on multi-station TDOA and single-station AOA measurements, which requires only the reference station used to calculate TDOA to be able to observe the AOA measurements of the source. It solves the problem of hybrid localization of different numbers of TDOA and AOA measurements. Theoretical analysis proves that the performance of the proposed method can reach the Cramer-Rao Lower Bound (CRLB) under small noise conditions. Then, we model the relationship between the position of each station relative to the source and the localization accuracy. Through the D-optimality criterion, we obtain the optimal geometry between multiple stations and the source Simulation results confirm the validity of these theories.\",\"displayPublicationDate\":\"17 January 2023\",\"pubLink\":\"/xpl/RecentIssue.jsp?punumber=7693\",\"allowComments\":false,\"publicationYear\":\"2023\",\"doi\":\"10.1109/TWC.2023.3235753\",\"publicationTitle\":\"IEEE Transactions on Wireless Communications\",\"startPage\":\"1\",\"endPage\":\"1\",\"pdfPath\":\"/iel7/7693/4656680/10018916.pdf\",\"displayPublicationTitle\":\"IEEE Transactions on Wireless Communications\",\"dateOfInsertion\":\"17 January 2023\",\"doiLink\":\"https://doi.org/10.1109/TWC.2023.3235753\",\"rightsLink\":\"http://s100.copyright.com/AppDispatchServlet?publisherName=ieee&publication=7693&title=An+Efficient+Hybrid+Multi-station+TDOA+and+Single-station+AOA+Localization+Method&isbn=&publicationDate=&author=Xu+Kang&ContentID=10.1109/TWC.2023.3235753&orderBeanReset=true&startPage=1&endPage=1&volumeNum=PP&issueNum=99\",\"issueLink\":\"/xpl/tocresult.jsp?isnumber=4656680&punumber=7693\",\"pdfUrl\":\"/stamp/stamp.jsp?tp=&arnumber=10018916\",\"formulaStrippedArticleTitle\":\"An Efficient Hybrid Multi-station TDOA and Single-station AOA Localization Method\",\"isReadingRoomArticle\":false,\"isGetArticle\":false,\"isGetAddressInfoCaptured\":false,\"isMarketingOptIn\":false,\"pubTopics\":[{\"name\":\"Communication, Networking and Broadcast Technologies\"},{\"name\":\"Computing and Processing\"},{\"name\":\"Signal Processing and Analysis\"}],\"publisher\":\"IEEE\",\"isSAE\":false,\"isStandard\":false,\"displayDocTitle\":\"An Efficient Hybrid Multi-station TDOA and Single-station AOA Localization Method\",\"isOUP\":false,\"isCustomDenial\":false,\"htmlAbstractLink\":\"/document/10018916/\",\"isNotDynamicOrStatic\":true,\"isPromo\":false,\"isSMPTE\":false,\"isNow\":false,\"isConference\":false,\"volume\":\"PP\",\"issue\":\"99\",\"isProduct\":false,\"isSpringer\":false,\"isBookWithoutChapters\":false,\"persistentLink\":\"https://ieeexplore.ieee.org/servlet/opac?punumber=7693\",\"isOpenAccess\":false,\"isChapter\":false,\"isStaticHtml\":false,\"isJournal\":true,\"isBook\":false,\"isEarlyAccess\":true,\"isEphemera\":false,\"isDynamicHtml\":false,\"isFreeDocument\":false,\"xploreDocumentType\":\"Journals & Magazine\",\"startPage\":\"1\",\"fundingAgencies\":{\"fundingAgency\":[{\"fundingId\":\"10.13039/501100001809\",\"fundingName\":\"National Natural Science Foundation of China\",\"grantNumber\":\"61905240\"}]},\"earlyAccessFlag\":\"yes\",\"articleCopyRight\":\"2023 IEEE\",\"openAccessFlag\":\"F\",\"insertDate\":\"17 January 2023\",\"ephemeraFlag\":\"false\",\"title\":\"An Efficient Hybrid Multi-station TDOA and Single-station AOA Localization Method\",\"html_flag\":\"false\",\"ml_html_flag\":\"false\",\"sourcePdf\":\"twc-3235753-pp.pdf\",\"displayPublicationDate\":\"17 January 2023\",\"mlTime\":\"PT0.023902S\",\"pdfPath\":\"/iel7/7693/4656680/10018916.pdf\",\"isNumber\":\"4656680\",\"rightsLinkFlag\":\"1\",\"contentType\":\"periodicals\",\"publicationNumber\":\"7693\",\"issue\":\"99\",\"articleId\":\"10018916\",\"publicationTitle\":\"IEEE Transactions on Wireless Communications\",\"sections\":{\"abstract\":\"true\",\"authors\":\"true\",\"figures\":\"false\",\"multimedia\":\"false\",\"references\":\"false\",\"citedby\":\"false\",\"keywords\":\"true\",\"definitions\":\"false\",\"algorithm\":\"false\",\"dataset\":\"false\",\"cadmore\":\"false\",\"footnotes\":\"false\",\"disclaimer\":\"false\",\"relatedContent\":\"false\",\"metrics\":\"true\"},\"volume\":\"PP\",\"contentTypeDisplay\":\"Early Access Articles\",\"publicationYear\":\"2023\",\"subType\":\"IEEE Transaction\",\"_value\":\"IEEE\",\"lastupdate\":\"2023-05-14\",\"mediaPath\":\"\",\"endPage\":\"1\",\"displayPublicationTitle\":\"IEEE Transactions on Wireless Communications\",\"doi\":\"10.1109/TWC.2023.3235753\"};\n"
     ]
    },
    {
     "ename": "IndexError",
     "evalue": "list index out of range",
     "output_type": "error",
     "traceback": [
      "\u001b[1;31m---------------------------------------------------------------------------\u001b[0m",
      "\u001b[1;31mIndexError\u001b[0m                                Traceback (most recent call last)",
      "Cell \u001b[1;32mIn[5], line 21\u001b[0m\n\u001b[0;32m     17\u001b[0m keywords_string\u001b[39m=\u001b[39mre\u001b[39m.\u001b[39msearch(\u001b[39mr\u001b[39m\u001b[39m'\u001b[39m\u001b[39m\"\u001b[39m\u001b[39mkeywords\u001b[39m\u001b[39m\"\u001b[39m\u001b[39m:\u001b[39m\u001b[39m\\\u001b[39m\u001b[39ms*\u001b[39m\u001b[39m\\\u001b[39m\u001b[39m[.*?\u001b[39m\u001b[39m\\\u001b[39m\u001b[39m],\u001b[39m\u001b[39m\"\u001b[39m\u001b[39m'\u001b[39m, metadata_text, re\u001b[39m.\u001b[39mDOTALL)\u001b[39m.\u001b[39mgroup()\n\u001b[0;32m     19\u001b[0m All_Keywords_list_string\u001b[39m=\u001b[39mre\u001b[39m.\u001b[39msearch(\u001b[39mr\u001b[39m\u001b[39m'\u001b[39m\u001b[39m\\\u001b[39m\u001b[39m[.*\u001b[39m\u001b[39m\\\u001b[39m\u001b[39m]\u001b[39m\u001b[39m'\u001b[39m, keywords_string, re\u001b[39m.\u001b[39mDOTALL)\n\u001b[1;32m---> 21\u001b[0m keywords_list\u001b[39m=\u001b[39mjson\u001b[39m.\u001b[39;49mloads(All_Keywords_list_string\u001b[39m.\u001b[39;49mgroup())[\u001b[39m3\u001b[39;49m][\u001b[39m'\u001b[39m\u001b[39mkwd\u001b[39m\u001b[39m'\u001b[39m]\n\u001b[0;32m     22\u001b[0m \u001b[39mprint\u001b[39m(keywords_list)\n",
      "\u001b[1;31mIndexError\u001b[0m: list index out of range"
     ]
    }
   ],
   "source": [
    "temp=bs.find(\"body\",{\"class\",\"body-resp\"}).find('div', id=\"LayoutWrapper\").find('div', {\"class\",'col'}).find_all(\"script\", type=\"text/javascript\")\n",
    "\n",
    "for script_tag in temp:\n",
    "    if script_tag:\n",
    "        script_text=script_tag.string\n",
    "        if script_text:\n",
    "            match = re.search(r'xplGlobal\\.document\\.metadata\\s*=\\s*(\\{.*?\\};)', script_text, re.DOTALL) #正则表达式匹配\n",
    "            if match:\n",
    "                metadata_text = match.group()\n",
    "                print(metadata_text)\n",
    "                break\n",
    "        else:\n",
    "            continue\n",
    "    else:\n",
    "        continue\n",
    "\n",
    "keywords_string=re.search(r'\"keywords\":\\s*\\[.*?\\],\"', metadata_text, re.DOTALL).group()\n",
    "\n",
    "All_Keywords_list_string=re.search(r'\\[.*\\]', keywords_string, re.DOTALL)\n",
    "\n",
    "keywords_list=json.loads(All_Keywords_list_string.group())[3]['kwd']\n",
    "print(keywords_list)"
   ]
  },
  {
   "attachments": {},
   "cell_type": "markdown",
   "metadata": {},
   "source": [
    "获取参考文献"
   ]
  },
  {
   "cell_type": "code",
   "execution_count": 6,
   "metadata": {},
   "outputs": [
    {
     "name": "stdout",
     "output_type": "stream",
     "text": [
      "['https://ieeexplore.ieee.org/document/526899', 'https://ieeexplore.ieee.org/document/6747980', 'https://ieeexplore.ieee.org/document/1143830', 'https://ieeexplore.ieee.org/document/1164935', 'https://ieeexplore.ieee.org/document/398717', 'https://ieeexplore.ieee.org/document/1164776', 'https://ieeexplore.ieee.org/document/1573', 'https://ieeexplore.ieee.org/document/80789', 'https://ieeexplore.ieee.org/document/928686', 'https://ieeexplore.ieee.org/document/782181', 'https://ieeexplore.ieee.org/document/4545252', 'https://ieeexplore.ieee.org/document/382403', 'https://ieeexplore.ieee.org/document/267001', 'https://ieeexplore.ieee.org/document/45540', 'https://ieeexplore.ieee.org/document/388855', 'https://ieeexplore.ieee.org/document/6559349'] ['https://doi.org/10.1049/ip-f-2.1993.0002', 'https://doi.org/10.1016/j.sigpro.2009.03.033', 'https://doi.org/10.1016/j.sigpro.2014.03.002', 'https://doi.org/10.1016/j.aeue.2012.08.006']\n"
     ]
    }
   ],
   "source": [
    "View_Article=bs_driver.find_all(\"a\",{\"class\":'stats-reference-link-viewArticle'})\n",
    "CrossRef=bs_driver.find_all(\"a\",{\"class\":'stats-reference-link-crossRef'})\n",
    "View_Article_list=[]\n",
    "CrossRef_list=[]\n",
    "\n",
    "for article in View_Article:\n",
    "    if article:\n",
    "        View_Article_list.append(article.get(\"href\"))\n",
    "        \n",
    "View_Article_list=['https://ieeexplore.ieee.org'+link for link in View_Article_list]\n",
    "\n",
    "for article in CrossRef:\n",
    "    if article:\n",
    "        CrossRef_list.append(article.get(\"href\"))\n",
    "\n",
    "print(View_Article_list,CrossRef_list)"
   ]
  },
  {
   "attachments": {},
   "cell_type": "markdown",
   "metadata": {},
   "source": [
    "获取期刊名"
   ]
  },
  {
   "cell_type": "code",
   "execution_count": 46,
   "metadata": {},
   "outputs": [
    {
     "name": "stdout",
     "output_type": "stream",
     "text": [
      "2016 Fourth International Conference on Ubiquitous Positioning, Indoor Navigation and Location Based Services (UPINLBS)\n"
     ]
    },
    {
     "data": {
      "text/plain": [
       "\"impact_factor_list={'IEEE Transactions on Wireless Communications':10}\\nif Journal_Title in impact_factor_list:\\n    impact_factor=str(impact_factor_list[Journal_Title])\\nelse:\\n    impact_factor='null'\\n\\nprint(impact_factor)\""
      ]
     },
     "execution_count": 46,
     "metadata": {},
     "output_type": "execute_result"
    }
   ],
   "source": [
    "Journal_Title=bs_driver.find('strong', text='Published in: ').find_next_sibling().get_text()\n",
    "print(Journal_Title)\n",
    "\n",
    "'''impact_factor_list={'IEEE Transactions on Wireless Communications':10}\n",
    "if Journal_Title in impact_factor_list:\n",
    "    impact_factor=str(impact_factor_list[Journal_Title])\n",
    "else:\n",
    "    impact_factor='null'\n",
    "\n",
    "print(impact_factor)'''"
   ]
  },
  {
   "attachments": {},
   "cell_type": "markdown",
   "metadata": {},
   "source": [
    "获取DOI"
   ]
  },
  {
   "cell_type": "code",
   "execution_count": 35,
   "metadata": {},
   "outputs": [
    {
     "name": "stdout",
     "output_type": "stream",
     "text": [
      "https://doi.org/10.1109/TWC.2009.070566\n"
     ]
    }
   ],
   "source": [
    "doi=bs_driver.find('strong', text='DOI: ').find_next_sibling().get_text()\n",
    "Doi_link='https://doi.org/'+doi\n",
    "print(Doi_link)"
   ]
  },
  {
   "attachments": {},
   "cell_type": "markdown",
   "metadata": {},
   "source": [
    "获取影响因子"
   ]
  },
  {
   "cell_type": "code",
   "execution_count": 30,
   "metadata": {},
   "outputs": [
    {
     "name": "stdout",
     "output_type": "stream",
     "text": [
      "None\n",
      "None\n",
      "<a _ngcontent-ijv-c160=\"\" href=\"/browse/periodicals/title/\">Journals &amp; Magazines</a>\n"
     ]
    }
   ],
   "source": [
    "print(bs_driver.find(href='/browse/conferences/title/')) #会议 \n",
    "print(bs_driver.find({'href':'/browse/conferences/title/'}))   #TODO 为什么和上面输出不一样\n",
    "print(bs_driver.find(href=\"/browse/periodicals/title/\")) #期刊和杂志\n",
    "\n",
    "#print(bs_driver.find(text='Journals & Magazines').parent) #这是不行的,他们都有这个,无法区分\n"
   ]
  },
  {
   "cell_type": "code",
   "execution_count": 31,
   "metadata": {},
   "outputs": [
    {
     "name": "stdout",
     "output_type": "stream",
     "text": [
      "this is a Journals or Magazines paper\n",
      "https://ieeexplore.ieee.org/xpl/RecentIssue.jsp?punumber=7693\n"
     ]
    },
    {
     "name": "stderr",
     "output_type": "stream",
     "text": [
      "C:\\Users\\Anable\\AppData\\Local\\Temp\\ipykernel_3992\\1482078678.py:12: DeprecationWarning: executable_path has been deprecated, please pass in a Service object\n",
      "  driver = webdriver.Chrome(executable_path=\".\\\\chromedriver.exe\")\n"
     ]
    },
    {
     "name": "stdout",
     "output_type": "stream",
     "text": [
      "8.346\n"
     ]
    }
   ],
   "source": [
    "Journal_index=False\n",
    "\n",
    "if bs_driver.find(href=\"/browse/periodicals/title/\"):\n",
    "    \n",
    "    Journal_index=True \n",
    "    print('this is a Journals or Magazines paper')\n",
    "\n",
    "    journal_link='https://ieeexplore.ieee.org'+bs_driver.find('strong', text='Published in: ').find_next_sibling().get('href')\n",
    "    print(journal_link)\n",
    "\n",
    "    driver = webdriver.Chrome(executable_path=\".\\\\chromedriver.exe\")\n",
    "    driver.get(journal_link)\n",
    "    time.sleep(5)\n",
    "    journal_html = driver.page_source\n",
    "    driver.quit()\n",
    "\n",
    "    f=open(\".\\\\html\\\\get detail test3.html\",\"w\")\n",
    "    f.write(journal_html)\n",
    "    f.close()\n",
    "\n",
    "    bs_temp=BeautifulSoup(journal_html)\n",
    "    impact_factor=bs_temp.find('a',{'class':'stats-jhp-impact-factor'}).find('span',{'class':'text-md-md-lh'}).get_text()\n",
    "    \n",
    "else :\n",
    "    impact_factor=''\n",
    "\n",
    "print(impact_factor)"
   ]
  },
  {
   "attachments": {},
   "cell_type": "markdown",
   "metadata": {},
   "source": [
    "获取日期"
   ]
  },
  {
   "cell_type": "code",
   "execution_count": 59,
   "metadata": {},
   "outputs": [
    {
     "name": "stdout",
     "output_type": "stream",
     "text": [
      " 21 July 2009 \n"
     ]
    }
   ],
   "source": [
    "if not Journal_index:\n",
    "    Date=str(bs_driver.find('strong', text='Date of Conference: ').next_sibling) # type: ignore\n",
    "else:\n",
    "    Date=str(bs_driver.find('strong', text='Date of Publication:').next_sibling) # type: ignore\n",
    "\n",
    "print(Date)\n"
   ]
  },
  {
   "attachments": {},
   "cell_type": "markdown",
   "metadata": {},
   "source": [
    "获取标题"
   ]
  },
  {
   "cell_type": "code",
   "execution_count": 33,
   "metadata": {},
   "outputs": [
    {
     "name": "stdout",
     "output_type": "stream",
     "text": [
      "A new compact multichannel receiver for underwater wireless communication networks\n"
     ]
    }
   ],
   "source": [
    "print(bs.find('title').find_next_sibling().get('content')) # type: ignore #这里用.next_sibling会出错,因为两个元素间有空格"
   ]
  },
  {
   "attachments": {},
   "cell_type": "markdown",
   "metadata": {},
   "source": [
    "获取文档PDF"
   ]
  },
  {
   "cell_type": "code",
   "execution_count": 4,
   "metadata": {},
   "outputs": [],
   "source": [
    "doi='10.1109/TWC.2009.070566'\n",
    "scihub_link='https://sci-hub.se/'+doi\n",
    "pdf_html=urlopen(scihub_link).read()\n",
    "bs_pdf=BeautifulSoup(pdf_html)"
   ]
  },
  {
   "cell_type": "code",
   "execution_count": 8,
   "metadata": {},
   "outputs": [],
   "source": [
    "f=open('pdf.html','wb')\n",
    "f.write(pdf_html)\n",
    "f.close()"
   ]
  },
  {
   "cell_type": "code",
   "execution_count": 5,
   "metadata": {},
   "outputs": [
    {
     "name": "stdout",
     "output_type": "stream",
     "text": [
      "https://zero.sci-hub.se/3452/c5f527d3fa8cc050a5e45aa2735b02ba/abdi2009.pdf#navpanes=0&view=FitH\n"
     ]
    }
   ],
   "source": [
    "pdf_link='https:'+bs_pdf.find('embed',{'type':\"application/pdf\"}).get('src')\n",
    "print(pdf_link)"
   ]
  },
  {
   "cell_type": "code",
   "execution_count": 7,
   "metadata": {},
   "outputs": [],
   "source": [
    "import requests\n",
    "import os\n",
    "\n",
    "response = requests.get(pdf_link)"
   ]
  },
  {
   "cell_type": "code",
   "execution_count": 10,
   "metadata": {},
   "outputs": [],
   "source": [
    "file_name = os.path.basename(pdf_link)+'.pdf'\n",
    "with open('.\\\\pdf\\\\'+file_name, 'wb') as f:\n",
    "    f.write(response.content)"
   ]
  }
 ],
 "metadata": {
  "kernelspec": {
   "display_name": "spider",
   "language": "python",
   "name": "python3"
  },
  "language_info": {
   "codemirror_mode": {
    "name": "ipython",
    "version": 3
   },
   "file_extension": ".py",
   "mimetype": "text/x-python",
   "name": "python",
   "nbconvert_exporter": "python",
   "pygments_lexer": "ipython3",
   "version": "3.11.0"
  },
  "orig_nbformat": 4
 },
 "nbformat": 4,
 "nbformat_minor": 2
}
