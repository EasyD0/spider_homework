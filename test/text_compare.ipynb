{
 "cells": [
  {
   "cell_type": "code",
   "execution_count": 9,
   "metadata": {},
   "outputs": [],
   "source": [
    "import nltk\n",
    "from sklearn.feature_extraction.text import TfidfVectorizer\n",
    "from sklearn.metrics.pairwise import cosine_similarity\n",
    "import re\n",
    "text1='The GPS system is one of the widely used methods to determine the real-time position in navigation applications. Using this system requires error compensation which effectively improves the positioning accuracy. One of the errors that needs to be compensated is the tropospheric signal transmission delay from the satellite to the GPS receiver. Tropospheric delay appears as bias in measuring pseudo-range by the GPS receiver and results in a constant deviation in determining final position of the user receiver. Several tropospheric models have been developed and employed to compensate and correct tropospheric delay. In this paper, some of the conventional tropospheric delay models and a combination of several models have been investigated and employed to determine the real-time position. These models are applied to the real-time positioning algorithm of the single frequency GPS receiver and have been compared to each other. This comparison is based on a reduction in the error in estimating the final position of the receiver, and a decrease in the computation time of the real-time positioning. Real-time positioning tests are performed in 6 iterations throughout six days. Positioning results are compared with the triple frequency GPS receiver GINTEC -G10. Comparison results show that real-time positioning of single frequency GPS receiver has sufficient and better accuracy using \"Modified Saastamoinen\" model and \"Modified Hopfield\" model have enough accuracy for low cost real-time positioning in most iterations of the experiment, and \"Modified Hopfield\" model is more suitable for low-cost real-time positioning, because its computation time is shorter.'\n",
    "text2='Ensuring the accurate positioning of the vehicle at any time is the key to navigation and path planning in unmanned driving vehicle. Due to the changes and signal attenuation of vehicle-mounted GPS signals when they pass through electric clouds, and the reflection of GPS signals when they encounter glass curtain wall, and under underground garages, tunnels and overpasses, for example, GPS satellite signals cannot be received by vehicle-mounted GPS locator due to the obstruction of buildings. The above-mentioned situations will cause the vehicle GPS positioning signal to be unstable or even missing. And the current positioning method based on lidar has become the mainstream positioning method for unmanned vehicles. However, under bad weather conditions, the detection capability of infrared waves will be greatly attenuated, and the stability of lidar positioning will also be affected. Therefore, this paper introduces an unmanned driving vehicle positioning method based on GPS/lidar/derivative data fusion when the environment map is known. That is, when the GPS signal is good and the lidar is in good weather conditions, the vehicle can be accurately positioned by GPS/lidar/derivation fusion. While the GPS positioning signal or lidar positioning is unstable and in the event of a short absence, it is still can achieve accurate positioning of intelligent vehicles through a derivation-based approach. The experimental data and MATLAB software simulation results show that the horizontal error of vehicle positioning is within the range of 14.3cm and the longitudinal error is within the range of 8.8cm, within 5 seconds after the lidar and GPS signals are lost simultaneously.'\n",
    "text3='In this paper, we present an indoor positioning system based on GPS repeaters. Each repeater consists of a directional antenna for receiving a non-overlapping set of GPS satellites, a LNA and a power amplifier for compensating the antenna and cable losses, and a transmitting antenna for re-radiating the amplified GPS signals. The proposed system has been shown to be very successful for 1D positioning using a set of two repeaters. Similarly, successful results have been obtained for 2D positioning using three repeaters.'\n",
    "text4='The effect of radio frequency interference (RFI) on Global Positioning System (GPS) signals needs to be investigated because of the increasing demand for accuracy and precision in positioning, navigation, and timing (PNT) applications. In order to investigate the effect of RFI on the high precision GPS applications (e.g., surveying works), this study was conducted on single- and dual-frequency GPS receivers in differential GPS (DGPS) mode via static observations. All the tests were focused on in-band interference at the GPS L1 and L2 frequency bands with the interference signal power levels being increased from -140 dB until the accuracy of GPS was affected. The use of dilution of precision (DOP) alone to quantify the quality of GPS was found to be insufficient, and hence, residual positions have been used to study this effect. The findings from all the tests show that RFI can degrade the accuracy of GPS measurement, and, in some cases, completely disrupt GPS signals (e.g., loss of tracking of GPS signals). Hence, the presence of RFI sources, both intentional and unintentional, should be an important consideration in planning high precision GPS application.'\n",
    "text_list=[text1,text2,text3,text4]\n",
    "\n",
    "\n",
    "text1='The GPS system is one of the widely used methods to determine the real-time position in navigation applications. Using this system requires error compensation which effectively improves the positioning accuracy. One of the errors that needs to be compensated is the tropospheric signal transmission delay from the satellite to the GPS receiver. Tropospheric delay appears as bias in measuring pseudo-range by the GPS receiver and results in a constant deviation in determining final position of the user receiver. Several tropospheric models have been developed and employed to compensate and correct tropospheric delay. In this paper, some of the conventional tropospheric delay models and a combination of several models have been investigated and employed to determine the real-time position. These models are applied to the real-time positioning algorithm of the single frequency GPS receiver and have been compared to each other. This comparison is based on a reduction in the error in estimating the final position of the receiver, and a decrease in the computation time of the real-time positioning. Real-time positioning tests are performed in 6 iterations throughout six days. Positioning results are compared with the triple frequency GPS receiver GINTEC -G10. Comparison results show that real-time positioning of single frequency GPS receiver has sufficient and better accuracy using \"Modified Saastamoinen\" model and \"Modified Hopfield\" model have enough accuracy for low cost real-time positioning in most iterations of the experiment, and \"Modified Hopfield\" model is more suitable for low-cost real-time positioning, because its computation time is shorter.'\n",
    "text2='Ensuring the accurate positioning of the vehicle at any time is the key to navigation and path planning in unmanned driving vehicle. Due to the changes and signal attenuation of vehicle-mounted GPS signals when they pass through electric clouds, and the reflection of GPS signals when they encounter glass curtain wall, and under underground garages, tunnels and overpasses, for example, GPS satellite signals cannot be received by vehicle-mounted GPS locator due to the obstruction of buildings. The above-mentioned situations will cause the vehicle GPS positioning signal to be unstable or even missing. And the current positioning method based on lidar has become the mainstream positioning method for unmanned vehicles. However, under bad weather conditions, the detection capability of infrared waves will be greatly attenuated, and the stability of lidar positioning will also be affected. Therefore, this paper introduces an unmanned driving vehicle positioning method based on GPS/lidar/derivative data fusion when the environment map is known. That is, when the GPS signal is good and the lidar is in good weather conditions, the vehicle can be accurately positioned by GPS/lidar/derivation fusion. While the GPS positioning signal or lidar positioning is unstable and in the event of a short absence, it is still can achieve accurate positioning of intelligent vehicles through a derivation-based approach. The experimental data and MATLAB software simulation results show that the horizontal error of vehicle positioning is within the range of 14.3cm and the longitudinal error is within the range of 8.8cm, within 5 seconds after the lidar and GPS signals are lost simultaneously.'\n",
    "text3='In this paper, we present an indoor positioning system based on GPS repeaters. Each repeater consists of a directional antenna for receiving a non-overlapping set of GPS satellites, a LNA and a power amplifier for compensating the antenna and cable losses, and a transmitting antenna for re-radiating the amplified GPS signals. The proposed system has been shown to be very successful for 1D positioning using a set of two repeaters. Similarly, successful results have been obtained for 2D positioning using three repeaters.'\n",
    "text4='The effect of radio frequency interference (RFI) on Global Positioning System (GPS) signals needs to be investigated because of the increasing demand for accuracy and precision in positioning, navigation, and timing (PNT) applications. In order to investigate the effect of RFI on the high precision GPS applications (e.g., surveying works), this study was conducted on single- and dual-frequency GPS receivers in differential GPS (DGPS) mode via static observations. All the tests were focused on in-band interference at the GPS L1 and L2 frequency bands with the interference signal power levels being increased from -140 dB until the accuracy of GPS was affected. The use of dilution of precision (DOP) alone to quantify the quality of GPS was found to be insufficient, and hence, residual positions have been used to study this effect. The findings from all the tests show that RFI can degrade the accuracy of GPS measurement, and, in some cases, completely disrupt GPS signals (e.g., loss of tracking of GPS signals). Hence, the presence of RFI sources, both intentional and unintentional, should be an important consideration in planning high precision GPS application.'\n",
    "text5='Generative Adversarial Networks (GANs) enable generating realistic synthetic images. However, majority of the research in this domain focus on image-to-image synthesis problem. The aim of this study is to develop a model that encodes high quality video frames, with true motion dynamics, using only a reference image frame and a skeleton sequence. In this context, Ankara University Turkish Sign Language dataset is used to synthesize new sign videos using a given signer frame as a reference and a skeleton stream. To solve this challenging problem, a conditional generative adversarial network (GAN) is designed, where skeletal data is used as a condition. Using the trained model, we are able to generate sign video streams with the given signer, where the motion dynamics are successfully and fluently encoded in the video. Moreover, we evaluated the quality of the generated images using Fréchet Inception Distance (FID) metric; the FID score is 26.'\n",
    "text6='The generative adversarial network (GAN) framework has emerged as a powerful tool for various image and video synthesis tasks, allowing the synthesis of visual content in an unconditional or input-conditional manner. It has enabled the generation of high-resolution photorealistic images and videos, a task that was challenging or impossible with prior methods. It has also led to the creation of many new applications in content creation. In this article, we provide an overview of GANs with a special focus on algorithms and applications for visual synthesis. We cover several important techniques to stabilize GAN training, which has a reputation for being notoriously difficult. We also discuss its applications to image translation, image processing, video synthesis, and neural rendering.'\n",
    "text7='Nowadays, the rapid development of film, television, animation and other multimedia industries requires more efficient video processing. Under the dual pressure of cost and time limitation, higher requirements are put forward for rapid video synthesis. Combining the commonly used RGB color space and HSV color space, a fast image segmentation method is proposed. Firstly, a Mask is calculated by using the threshold segmentation method. In order to reduce the influence of black on the final result, inrange used the second Mask to make the composition. The final result is multiplied by the original image, and the effect of black on threshold segmentation is effectively eliminated on the premise of not reducing efficiency and image quality, so as to achieve the most ideal effect. Compared with the previous real-time image segmentation processing, this method has been greatly improved in the degree of code simplicity, operation efficiency and cost. In the aspect of color extraction, as it is completed in the RGB color space domain, there is almost no color missing or redundant. The real-time segmentation and splicing of images can meet the basic needs of film and television shooting and greatly improve its efficiency.'\n",
    "text8='Information security contains many concepts and knowledge entities. As the development of information technology, the complexity of increasing information security knowledge need an overview representation and organization for security analysis and risk evaluation. Ontology as a formal and shareable semantic model, which is often used to define domain knowledge schema, can also be applied for information security knowledge base construction. In this paper, we propose ontology knowledge base construction method for information security, discuss the ontology construction processes, and design the knowledge schema. The ontology contains main concepts in information security and related properties and relations about these concepts with semantics. It supplies related information, such as assets and weakness, to security management and analysis applications. We introduce each step of the proposed method, and valid it using a practical information security knowledge base development.'\n",
    "main_abstract=text1\n",
    "sim_abstract_list=[text2,text3,text4,text5,text6,text7,text8]"
   ]
  },
  {
   "attachments": {},
   "cell_type": "markdown",
   "metadata": {},
   "source": [
    " 快速法"
   ]
  },
  {
   "cell_type": "code",
   "execution_count": 10,
   "metadata": {},
   "outputs": [
    {
     "name": "stdout",
     "output_type": "stream",
     "text": [
      "[[1.         0.56355776]]\n",
      "[[1.         0.35546192]]\n",
      "[[1.         0.54234845]]\n",
      "[[1.         0.38290462]]\n",
      "[[1.         0.28778348]]\n",
      "[[1.         0.55049143]]\n",
      "[[1.         0.26091226]]\n"
     ]
    }
   ],
   "source": [
    "# 创建一个TfidfVectorizer对象\n",
    "tfidf = TfidfVectorizer()\n",
    "for text in sim_abstract_list:\n",
    "    # 将文本转换为TF-IDF矩阵\n",
    "    matrix = tfidf.fit_transform([main_abstract, text])\n",
    "\n",
    "    # 计算两个文本之间的余弦相似度\n",
    "    similarity = cosine_similarity(matrix[0:1], matrix)\n",
    "\n",
    "    # 打印结果\n",
    "    print(similarity)"
   ]
  },
  {
   "attachments": {},
   "cell_type": "markdown",
   "metadata": {},
   "source": [
    "其余方法"
   ]
  },
  {
   "attachments": {},
   "cell_type": "markdown",
   "metadata": {},
   "source": [
    "去除标点和数字"
   ]
  },
  {
   "cell_type": "code",
   "execution_count": 11,
   "metadata": {},
   "outputs": [
    {
     "name": "stdout",
     "output_type": "stream",
     "text": [
      "The GPS system is one of the widely used methods to determine the realtime position in navigation applications Using this system requires error compensation which effectively improves the positioning accuracy One of the errors that needs to be compensated is the tropospheric signal transmission delay from the satellite to the GPS receiver Tropospheric delay appears as bias in measuring pseudorange by the GPS receiver and results in a constant deviation in determining final position of the user receiver Several tropospheric models have been developed and employed to compensate and correct tropospheric delay In this paper some of the conventional tropospheric delay models and a combination of several models have been investigated and employed to determine the realtime position These models are applied to the realtime positioning algorithm of the single frequency GPS receiver and have been compared to each other This comparison is based on a reduction in the error in estimating the final position of the receiver and a decrease in the computation time of the realtime positioning Realtime positioning tests are performed in  iterations throughout six days Positioning results are compared with the triple frequency GPS receiver GINTEC G Comparison results show that realtime positioning of single frequency GPS receiver has sufficient and better accuracy using Modified Saastamoinen model and Modified Hopfield model have enough accuracy for low cost realtime positioning in most iterations of the experiment and Modified Hopfield model is more suitable for lowcost realtime positioning because its computation time is shorter\n"
     ]
    }
   ],
   "source": [
    "text_no_symbol=[re.sub('[^A-Za-z ]+', '', text) for text in text_list]\n",
    "print(text_no_symbol[0])"
   ]
  },
  {
   "cell_type": "code",
   "execution_count": 12,
   "metadata": {},
   "outputs": [
    {
     "name": "stdout",
     "output_type": "stream",
     "text": [
      "[[1. 1.]]\n",
      "[[1.        0.5917363]]\n",
      "[[1.         0.38365099]]\n",
      "[[1.         0.56824488]]\n"
     ]
    }
   ],
   "source": [
    "tfidf = TfidfVectorizer()\n",
    "for text in text_no_symbol:\n",
    "    # 将文本转换为TF-IDF矩阵\n",
    "    matrix = tfidf.fit_transform([text_no_symbol[0], text])\n",
    "\n",
    "    # 计算两个文本之间的余弦相似度\n",
    "    similarity = cosine_similarity(matrix[0:1], matrix)\n",
    "\n",
    "    # 打印结果\n",
    "    print(similarity)"
   ]
  },
  {
   "cell_type": "code",
   "execution_count": 13,
   "metadata": {},
   "outputs": [
    {
     "name": "stdout",
     "output_type": "stream",
     "text": [
      "['grow', 'leav', 'fairli']\n"
     ]
    }
   ],
   "source": [
    "from nltk.stem import PorterStemmer\n",
    "\n",
    "stemmer = PorterStemmer()\n",
    "words = ['grows', 'leaves', 'fairly']\n",
    "stemmed_words = [stemmer.stem(word) for word in words]\n",
    "\n",
    "print(stemmed_words)   #nltk这个模块还是不太行,会将很多词汇变成不正常的词汇"
   ]
  },
  {
   "cell_type": "code",
   "execution_count": 14,
   "metadata": {},
   "outputs": [
    {
     "name": "stdout",
     "output_type": "stream",
     "text": [
      "['The', 'GPS', 'system', 'is', 'one', 'of', 'the', 'widely', 'used', 'methods', 'to', 'determine', 'the', 'realtime', 'position', 'in', 'navigation', 'applications', 'Using', 'this', 'system', 'requires', 'error', 'compensation', 'which', 'effectively', 'improves', 'the', 'positioning', 'accuracy', 'One', 'of', 'the', 'errors', 'that', 'needs', 'to', 'be', 'compensated', 'is', 'the', 'tropospheric', 'signal', 'transmission', 'delay', 'from', 'the', 'satellite', 'to', 'the', 'GPS', 'receiver', 'Tropospheric', 'delay', 'appears', 'as', 'bias', 'in', 'measuring', 'pseudorange', 'by', 'the', 'GPS', 'receiver', 'and', 'results', 'in', 'a', 'constant', 'deviation', 'in', 'determining', 'final', 'position', 'of', 'the', 'user', 'receiver', 'Several', 'tropospheric', 'models', 'have', 'been', 'developed', 'and', 'employed', 'to', 'compensate', 'and', 'correct', 'tropospheric', 'delay', 'In', 'this', 'paper', 'some', 'of', 'the', 'conventional', 'tropospheric', 'delay', 'models', 'and', 'a', 'combination', 'of', 'several', 'models', 'have', 'been', 'investigated', 'and', 'employed', 'to', 'determine', 'the', 'realtime', 'position', 'These', 'models', 'are', 'applied', 'to', 'the', 'realtime', 'positioning', 'algorithm', 'of', 'the', 'single', 'frequency', 'GPS', 'receiver', 'and', 'have', 'been', 'compared', 'to', 'each', 'other', 'This', 'comparison', 'is', 'based', 'on', 'a', 'reduction', 'in', 'the', 'error', 'in', 'estimating', 'the', 'final', 'position', 'of', 'the', 'receiver', 'and', 'a', 'decrease', 'in', 'the', 'computation', 'time', 'of', 'the', 'realtime', 'positioning', 'Realtime', 'positioning', 'tests', 'are', 'performed', 'in', 'iterations', 'throughout', 'six', 'days', 'Positioning', 'results', 'are', 'compared', 'with', 'the', 'triple', 'frequency', 'GPS', 'receiver', 'GINTEC', 'G', 'Comparison', 'results', 'show', 'that', 'realtime', 'positioning', 'of', 'single', 'frequency', 'GPS', 'receiver', 'has', 'sufficient', 'and', 'better', 'accuracy', 'using', 'Modified', 'Saastamoinen', 'model', 'and', 'Modified', 'Hopfield', 'model', 'have', 'enough', 'accuracy', 'for', 'low', 'cost', 'realtime', 'positioning', 'in', 'most', 'iterations', 'of', 'the', 'experiment', 'and', 'Modified', 'Hopfield', 'model', 'is', 'more', 'suitable', 'for', 'lowcost', 'realtime', 'positioning', 'because', 'its', 'computation', 'time', 'is', 'shorter']\n",
      "['the', 'gp', 'system', 'is', 'one', 'of', 'the', 'wide', 'use', 'method', 'to', 'determin', 'the', 'realtim', 'posit', 'in', 'navig', 'applic', 'use', 'thi', 'system', 'requir', 'error', 'compens', 'which', 'effect', 'improv', 'the', 'posit', 'accuraci', 'one', 'of', 'the', 'error', 'that', 'need', 'to', 'be', 'compens', 'is', 'the', 'tropospher', 'signal', 'transmiss', 'delay', 'from', 'the', 'satellit', 'to', 'the', 'gp', 'receiv', 'tropospher', 'delay', 'appear', 'as', 'bia', 'in', 'measur', 'pseudorang', 'by', 'the', 'gp', 'receiv', 'and', 'result', 'in', 'a', 'constant', 'deviat', 'in', 'determin', 'final', 'posit', 'of', 'the', 'user', 'receiv', 'sever', 'tropospher', 'model', 'have', 'been', 'develop', 'and', 'employ', 'to', 'compens', 'and', 'correct', 'tropospher', 'delay', 'in', 'thi', 'paper', 'some', 'of', 'the', 'convent', 'tropospher', 'delay', 'model', 'and', 'a', 'combin', 'of', 'sever', 'model', 'have', 'been', 'investig', 'and', 'employ', 'to', 'determin', 'the', 'realtim', 'posit', 'these', 'model', 'are', 'appli', 'to', 'the', 'realtim', 'posit', 'algorithm', 'of', 'the', 'singl', 'frequenc', 'gp', 'receiv', 'and', 'have', 'been', 'compar', 'to', 'each', 'other', 'thi', 'comparison', 'is', 'base', 'on', 'a', 'reduct', 'in', 'the', 'error', 'in', 'estim', 'the', 'final', 'posit', 'of', 'the', 'receiv', 'and', 'a', 'decreas', 'in', 'the', 'comput', 'time', 'of', 'the', 'realtim', 'posit', 'realtim', 'posit', 'test', 'are', 'perform', 'in', 'iter', 'throughout', 'six', 'day', 'posit', 'result', 'are', 'compar', 'with', 'the', 'tripl', 'frequenc', 'gp', 'receiv', 'gintec', 'g', 'comparison', 'result', 'show', 'that', 'realtim', 'posit', 'of', 'singl', 'frequenc', 'gp', 'receiv', 'ha', 'suffici', 'and', 'better', 'accuraci', 'use', 'modifi', 'saastamoinen', 'model', 'and', 'modifi', 'hopfield', 'model', 'have', 'enough', 'accuraci', 'for', 'low', 'cost', 'realtim', 'posit', 'in', 'most', 'iter', 'of', 'the', 'experi', 'and', 'modifi', 'hopfield', 'model', 'is', 'more', 'suitabl', 'for', 'lowcost', 'realtim', 'posit', 'becaus', 'it', 'comput', 'time', 'is', 'shorter']\n"
     ]
    }
   ],
   "source": [
    "from nltk.stem import PorterStemmer  #nltk这个模块还是不太行,会将很多词汇变成不正常的词汇\n",
    "\n",
    "stemmer = PorterStemmer()\n",
    "text_no_symbol_splite=[text.split() for text in text_no_symbol]\n",
    "print(text_no_symbol_splite[0])\n",
    "stemmed_word_list=[[stemmer.stem(word) for word in text] for text in text_no_symbol_splite ]\n",
    "print(stemmed_word_list[0])"
   ]
  },
  {
   "cell_type": "code",
   "execution_count": 15,
   "metadata": {},
   "outputs": [
    {
     "name": "stdout",
     "output_type": "stream",
     "text": [
      "['The', 'GPS', 'system', 'is', 'one', 'of', 'the', 'widely', 'used', 'methods', 'to', 'determine', 'the', 'realtime', 'position', 'in', 'navigation', 'applications', 'Using', 'this', 'system', 'requires', 'error', 'compensation', 'which', 'effectively', 'improves', 'the', 'positioning', 'accuracy', 'One', 'of', 'the', 'errors', 'that', 'needs', 'to', 'be', 'compensated', 'is', 'the', 'tropospheric', 'signal', 'transmission', 'delay', 'from', 'the', 'satellite', 'to', 'the', 'GPS', 'receiver', 'Tropospheric', 'delay', 'appears', 'as', 'bias', 'in', 'measuring', 'pseudorange', 'by', 'the', 'GPS', 'receiver', 'and', 'results', 'in', 'a', 'constant', 'deviation', 'in', 'determining', 'final', 'position', 'of', 'the', 'user', 'receiver', 'Several', 'tropospheric', 'models', 'have', 'been', 'developed', 'and', 'employed', 'to', 'compensate', 'and', 'correct', 'tropospheric', 'delay', 'In', 'this', 'paper', 'some', 'of', 'the', 'conventional', 'tropospheric', 'delay', 'models', 'and', 'a', 'combination', 'of', 'several', 'models', 'have', 'been', 'investigated', 'and', 'employed', 'to', 'determine', 'the', 'realtime', 'position', 'These', 'models', 'are', 'applied', 'to', 'the', 'realtime', 'positioning', 'algorithm', 'of', 'the', 'single', 'frequency', 'GPS', 'receiver', 'and', 'have', 'been', 'compared', 'to', 'each', 'other', 'This', 'comparison', 'is', 'based', 'on', 'a', 'reduction', 'in', 'the', 'error', 'in', 'estimating', 'the', 'final', 'position', 'of', 'the', 'receiver', 'and', 'a', 'decrease', 'in', 'the', 'computation', 'time', 'of', 'the', 'realtime', 'positioning', 'Realtime', 'positioning', 'tests', 'are', 'performed', 'in', 'iterations', 'throughout', 'six', 'days', 'Positioning', 'results', 'are', 'compared', 'with', 'the', 'triple', 'frequency', 'GPS', 'receiver', 'GINTEC', 'G', 'Comparison', 'results', 'show', 'that', 'realtime', 'positioning', 'of', 'single', 'frequency', 'GPS', 'receiver', 'has', 'sufficient', 'and', 'better', 'accuracy', 'using', 'Modified', 'Saastamoinen', 'model', 'and', 'Modified', 'Hopfield', 'model', 'have', 'enough', 'accuracy', 'for', 'low', 'cost', 'realtime', 'positioning', 'in', 'most', 'iterations', 'of', 'the', 'experiment', 'and', 'Modified', 'Hopfield', 'model', 'is', 'more', 'suitable', 'for', 'lowcost', 'realtime', 'positioning', 'because', 'its', 'computation', 'time', 'is', 'shorter']\n",
      "1 [('The', 'DT'), ('GPS', 'NNP'), ('system', 'NN'), ('is', 'VBZ'), ('one', 'CD'), ('of', 'IN'), ('the', 'DT'), ('widely', 'RB'), ('used', 'VBN'), ('methods', 'NNS'), ('to', 'TO'), ('determine', 'VB'), ('the', 'DT'), ('realtime', 'JJ'), ('position', 'NN'), ('in', 'IN'), ('navigation', 'NN'), ('applications', 'NNS'), ('Using', 'VBG'), ('this', 'DT'), ('system', 'NN'), ('requires', 'VBZ'), ('error', 'DT'), ('compensation', 'NN'), ('which', 'WDT'), ('effectively', 'RB'), ('improves', 'VBZ'), ('the', 'DT'), ('positioning', 'VBG'), ('accuracy', 'NN'), ('One', 'CD'), ('of', 'IN'), ('the', 'DT'), ('errors', 'NNS'), ('that', 'WDT'), ('needs', 'VBZ'), ('to', 'TO'), ('be', 'VB'), ('compensated', 'VBN'), ('is', 'VBZ'), ('the', 'DT'), ('tropospheric', 'JJ'), ('signal', 'NN'), ('transmission', 'NN'), ('delay', 'NN'), ('from', 'IN'), ('the', 'DT'), ('satellite', 'NN'), ('to', 'TO'), ('the', 'DT'), ('GPS', 'NNP'), ('receiver', 'NN'), ('Tropospheric', 'NNP'), ('delay', 'NN'), ('appears', 'VBZ'), ('as', 'IN'), ('bias', 'NN'), ('in', 'IN'), ('measuring', 'VBG'), ('pseudorange', 'NN'), ('by', 'IN'), ('the', 'DT'), ('GPS', 'NNP'), ('receiver', 'NN'), ('and', 'CC'), ('results', 'NNS'), ('in', 'IN'), ('a', 'DT'), ('constant', 'JJ'), ('deviation', 'NN'), ('in', 'IN'), ('determining', 'VBG'), ('final', 'JJ'), ('position', 'NN'), ('of', 'IN'), ('the', 'DT'), ('user', 'NN'), ('receiver', 'NN'), ('Several', 'NNP'), ('tropospheric', 'JJ'), ('models', 'NNS'), ('have', 'VBP'), ('been', 'VBN'), ('developed', 'VBN'), ('and', 'CC'), ('employed', 'VBN'), ('to', 'TO'), ('compensate', 'VB'), ('and', 'CC'), ('correct', 'VB'), ('tropospheric', 'JJ'), ('delay', 'NN'), ('In', 'IN'), ('this', 'DT'), ('paper', 'NN'), ('some', 'DT'), ('of', 'IN'), ('the', 'DT'), ('conventional', 'JJ'), ('tropospheric', 'JJ'), ('delay', 'NN'), ('models', 'NNS'), ('and', 'CC'), ('a', 'DT'), ('combination', 'NN'), ('of', 'IN'), ('several', 'JJ'), ('models', 'NNS'), ('have', 'VBP'), ('been', 'VBN'), ('investigated', 'VBN'), ('and', 'CC'), ('employed', 'VBN'), ('to', 'TO'), ('determine', 'VB'), ('the', 'DT'), ('realtime', 'JJ'), ('position', 'NN'), ('These', 'DT'), ('models', 'NNS'), ('are', 'VBP'), ('applied', 'VBN'), ('to', 'TO'), ('the', 'DT'), ('realtime', 'NN'), ('positioning', 'VBG'), ('algorithm', 'NN'), ('of', 'IN'), ('the', 'DT'), ('single', 'JJ'), ('frequency', 'NN'), ('GPS', 'NNP'), ('receiver', 'NN'), ('and', 'CC'), ('have', 'VBP'), ('been', 'VBN'), ('compared', 'VBN'), ('to', 'TO'), ('each', 'DT'), ('other', 'JJ'), ('This', 'DT'), ('comparison', 'NN'), ('is', 'VBZ'), ('based', 'VBN'), ('on', 'IN'), ('a', 'DT'), ('reduction', 'NN'), ('in', 'IN'), ('the', 'DT'), ('error', 'NN'), ('in', 'IN'), ('estimating', 'VBG'), ('the', 'DT'), ('final', 'JJ'), ('position', 'NN'), ('of', 'IN'), ('the', 'DT'), ('receiver', 'NN'), ('and', 'CC'), ('a', 'DT'), ('decrease', 'NN'), ('in', 'IN'), ('the', 'DT'), ('computation', 'NN'), ('time', 'NN'), ('of', 'IN'), ('the', 'DT'), ('realtime', 'NN'), ('positioning', 'VBG'), ('Realtime', 'NNP'), ('positioning', 'NN'), ('tests', 'NNS'), ('are', 'VBP'), ('performed', 'VBN'), ('in', 'IN'), ('iterations', 'NNS'), ('throughout', 'IN'), ('six', 'CD'), ('days', 'NNS'), ('Positioning', 'VBG'), ('results', 'NNS'), ('are', 'VBP'), ('compared', 'VBN'), ('with', 'IN'), ('the', 'DT'), ('triple', 'JJ'), ('frequency', 'NN'), ('GPS', 'NNP'), ('receiver', 'NN'), ('GINTEC', 'NNP'), ('G', 'NNP'), ('Comparison', 'NNP'), ('results', 'NNS'), ('show', 'VBP'), ('that', 'IN'), ('realtime', 'JJ'), ('positioning', 'NN'), ('of', 'IN'), ('single', 'JJ'), ('frequency', 'NN'), ('GPS', 'NNP'), ('receiver', 'NN'), ('has', 'VBZ'), ('sufficient', 'JJ'), ('and', 'CC'), ('better', 'JJR'), ('accuracy', 'NN'), ('using', 'VBG'), ('Modified', 'NNP'), ('Saastamoinen', 'NNP'), ('model', 'NN'), ('and', 'CC'), ('Modified', 'NNP'), ('Hopfield', 'NNP'), ('model', 'NN'), ('have', 'VBP'), ('enough', 'JJ'), ('accuracy', 'NN'), ('for', 'IN'), ('low', 'JJ'), ('cost', 'NN'), ('realtime', 'NN'), ('positioning', 'VBG'), ('in', 'IN'), ('most', 'JJS'), ('iterations', 'NNS'), ('of', 'IN'), ('the', 'DT'), ('experiment', 'NN'), ('and', 'CC'), ('Modified', 'NNP'), ('Hopfield', 'NNP'), ('model', 'NN'), ('is', 'VBZ'), ('more', 'RBR'), ('suitable', 'JJ'), ('for', 'IN'), ('lowcost', 'NN'), ('realtime', 'NN'), ('positioning', 'NN'), ('because', 'IN'), ('its', 'PRP$'), ('computation', 'NN'), ('time', 'NN'), ('is', 'VBZ'), ('shorter', 'JJR')]\n",
      "2 ['The', 'system', 'be', 'one', 'of', 'the', 'widely', 'use', 'method', 'to', 'determine', 'the', 'realtime', 'position', 'in', 'navigation', 'application', 'Using', 'this', 'system', 'require', 'error', 'compensation', 'which', 'effectively', 'improve', 'the', 'position', 'accuracy', 'One', 'of', 'the', 'error', 'that', 'need', 'to', 'be', 'compensate', 'be', 'the', 'tropospheric', 'signal', 'transmission', 'delay', 'from', 'the', 'satellite', 'to', 'the', 'receiver', 'delay', 'appear', 'a', 'bias', 'in', 'measure', 'pseudorange', 'by', 'the', 'receiver', 'and', 'result', 'in', 'a', 'constant', 'deviation', 'in', 'determine', 'final', 'position', 'of', 'the', 'user', 'receiver', 'tropospheric', 'model', 'have', 'be', 'develop', 'and', 'employ', 'to', 'compensate', 'and', 'correct', 'tropospheric', 'delay', 'In', 'this', 'paper', 'some', 'of', 'the', 'conventional', 'tropospheric', 'delay', 'model', 'and', 'a', 'combination', 'of', 'several', 'model', 'have', 'be', 'investigate', 'and', 'employ', 'to', 'determine', 'the', 'realtime', 'position', 'These', 'model', 'be', 'apply', 'to', 'the', 'realtime', 'position', 'algorithm', 'of', 'the', 'single', 'frequency', 'receiver', 'and', 'have', 'be', 'compare', 'to', 'each', 'other', 'This', 'comparison', 'be', 'base', 'on', 'a', 'reduction', 'in', 'the', 'error', 'in', 'estimate', 'the', 'final', 'position', 'of', 'the', 'receiver', 'and', 'a', 'decrease', 'in', 'the', 'computation', 'time', 'of', 'the', 'realtime', 'position', 'positioning', 'test', 'be', 'perform', 'in', 'iteration', 'throughout', 'six', 'day', 'Positioning', 'result', 'be', 'compare', 'with', 'the', 'triple', 'frequency', 'receiver', 'result', 'show', 'that', 'realtime', 'positioning', 'of', 'single', 'frequency', 'receiver', 'have', 'sufficient', 'and', 'good', 'accuracy', 'use', 'model', 'and', 'model', 'have', 'enough', 'accuracy', 'for', 'low', 'cost', 'realtime', 'position', 'in', 'most', 'iteration', 'of', 'the', 'experiment', 'and', 'model', 'be', 'more', 'suitable', 'for', 'lowcost', 'realtime', 'positioning', 'because', 'it', 'computation', 'time', 'be', 'short']\n",
      "3 ['GPS', 'system', 'method', 'realtime', 'position', 'navigation', 'application', 'system', 'compensation', 'accuracy', 'error', 'tropospheric', 'signal', 'transmission', 'delay', 'satellite', 'GPS', 'receiver', 'Tropospheric', 'delay', 'bias', 'pseudorange', 'GPS', 'receiver', 'result', 'constant', 'deviation', 'final', 'position', 'user', 'receiver', 'Several', 'tropospheric', 'model', 'tropospheric', 'delay', 'paper', 'conventional', 'tropospheric', 'delay', 'model', 'combination', 'several', 'model', 'realtime', 'position', 'model', 'realtime', 'algorithm', 'single', 'frequency', 'GPS', 'receiver', 'other', 'comparison', 'reduction', 'error', 'final', 'position', 'receiver', 'decrease', 'computation', 'time', 'realtime', 'Realtime', 'positioning', 'test', 'iteration', 'day', 'result', 'triple', 'frequency', 'GPS', 'receiver', 'GINTEC', 'G', 'Comparison', 'result', 'realtime', 'positioning', 'single', 'frequency', 'GPS', 'receiver', 'sufficient', 'good', 'accuracy', 'Modified', 'Saastamoinen', 'model', 'Modified', 'Hopfield', 'model', 'enough', 'accuracy', 'low', 'cost', 'realtime', 'most', 'iteration', 'experiment', 'Modified', 'Hopfield', 'model', 'suitable', 'lowcost', 'realtime', 'positioning', 'computation', 'time', 'short']\n"
     ]
    }
   ],
   "source": [
    "from nltk.stem import WordNetLemmatizer\n",
    "from nltk.tokenize import word_tokenize\n",
    "from nltk.corpus import wordnet\n",
    "import nltk\n",
    "'''\n",
    "nltk.download('punkt')\n",
    "nltk.download('averaged_perceptron_tagger')\n",
    "nltk.download('wordnet')\n",
    "'''\n",
    "\n",
    "lemmatizer = WordNetLemmatizer()\n",
    "\n",
    "tokens = word_tokenize(text_no_symbol[0]) #拆分为列表\n",
    "print(tokens)\n",
    "\n",
    "# Convert POS tag to a format that can be used by WordNetLemmatizer\n",
    "def get_wordnet_pos(treebank_tag): # 词性转化成 WordNetLemmatizer 可识别的\n",
    "    if treebank_tag.startswith('J'):\n",
    "        return wordnet.ADJ\n",
    "    elif treebank_tag.startswith('V'):\n",
    "        return wordnet.VERB\n",
    "    elif treebank_tag.startswith('N'):\n",
    "        return wordnet.NOUN\n",
    "    elif treebank_tag.startswith('R'):\n",
    "        return wordnet.ADV\n",
    "    else:\n",
    "        return wordnet.NOUN\n",
    "\n",
    "tagged_tokens = nltk.pos_tag(tokens) #标注词性\n",
    "print(1,tagged_tokens)\n",
    "\n",
    "lemmatized_words = [lemmatizer.lemmatize(token, get_wordnet_pos(tag)) for token, tag in tagged_tokens if tag != 'NNP'] # 去除‘NNP’类型的名词（专有名词）\n",
    "#lemmatizer.lemmatize(token, get_wordnet_pos(tag)) 将单词token 按照 词汇类型get_wordnet_pos(tag) 进行还原成原型\n",
    "print(2,lemmatized_words)\n",
    "\n",
    "#只保留名词形容词\n",
    "lemmatized_words2 = [lemmatizer.lemmatize(token, get_wordnet_pos(tag)) for token, tag in tagged_tokens if tag.startswith('N') or tag.startswith('J')]\n",
    "print(3,lemmatized_words2)"
   ]
  },
  {
   "cell_type": "code",
   "execution_count": 16,
   "metadata": {},
   "outputs": [
    {
     "name": "stdout",
     "output_type": "stream",
     "text": [
      "['The', 'effect', 'of', 'radio', 'frequency', 'interference', 'RFI', 'on', 'Global', 'Positioning', 'System', 'GPS', 'signals', 'needs', 'to', 'be', 'investigated', 'because', 'of', 'the', 'increasing', 'demand', 'for', 'accuracy', 'and', 'precision', 'in', 'positioning', 'navigation', 'and', 'timing', 'PNT', 'applications', 'In', 'order', 'to', 'investigate', 'the', 'effect', 'of', 'RFI', 'on', 'the', 'high', 'precision', 'GPS', 'applications', 'eg', 'surveying', 'works', 'this', 'study', 'was', 'conducted', 'on', 'single', 'and', 'dualfrequency', 'GPS', 'receivers', 'in', 'differential', 'GPS', 'DGPS', 'mode', 'via', 'static', 'observations', 'All', 'the', 'tests', 'were', 'focused', 'on', 'inband', 'interference', 'at', 'the', 'GPS', 'L', 'and', 'L', 'frequency', 'bands', 'with', 'the', 'interference', 'signal', 'power', 'levels', 'being', 'increased', 'from', 'dB', 'until', 'the', 'accuracy', 'of', 'GPS', 'was', 'affected', 'The', 'use', 'of', 'dilution', 'of', 'precision', 'DOP', 'alone', 'to', 'quantify', 'the', 'quality', 'of', 'GPS', 'was', 'found', 'to', 'be', 'insufficient', 'and', 'hence', 'residual', 'positions', 'have', 'been', 'used', 'to', 'study', 'this', 'effect', 'The', 'findings', 'from', 'all', 'the', 'tests', 'show', 'that', 'RFI', 'can', 'degrade', 'the', 'accuracy', 'of', 'GPS', 'measurement', 'and', 'in', 'some', 'cases', 'completely', 'disrupt', 'GPS', 'signals', 'eg', 'loss', 'of', 'tracking', 'of', 'GPS', 'signals', 'Hence', 'the', 'presence', 'of', 'RFI', 'sources', 'both', 'intentional', 'and', 'unintentional', 'should', 'be', 'an', 'important', 'consideration', 'in', 'planning', 'high', 'precision', 'GPS', 'application']\n"
     ]
    }
   ],
   "source": [
    "tokens = word_tokenize(text)\n",
    "tagged_tokens = nltk.pos_tag(tokens)\n",
    "\n",
    "# Remove tokens that are tagged as \"NNP\"\n",
    "filtered_tokens = [token for token, tag in tagged_tokens]\n",
    "\n",
    "print(filtered_tokens)"
   ]
  },
  {
   "cell_type": "code",
   "execution_count": 17,
   "metadata": {},
   "outputs": [
    {
     "name": "stdout",
     "output_type": "stream",
     "text": [
      "AlphaGo’s victory isn’t a defeat for humans it’s an opportunity\n"
     ]
    }
   ],
   "source": [
    "\n",
    "import re\n",
    "text = \"AlphaGo’s victory isn’t a defeat for humans it’s an opportunity\"\n",
    "result = re.sub(r\"[^\\w’]+\", ' ', text)\n",
    "print(result)"
   ]
  }
 ],
 "metadata": {
  "kernelspec": {
   "display_name": "spider",
   "language": "python",
   "name": "python3"
  },
  "language_info": {
   "codemirror_mode": {
    "name": "ipython",
    "version": 3
   },
   "file_extension": ".py",
   "mimetype": "text/x-python",
   "name": "python",
   "nbconvert_exporter": "python",
   "pygments_lexer": "ipython3",
   "version": "3.11.3"
  },
  "orig_nbformat": 4
 },
 "nbformat": 4,
 "nbformat_minor": 2
}
