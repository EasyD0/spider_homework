{
 "cells": [
  {
   "cell_type": "code",
   "execution_count": 8,
   "metadata": {},
   "outputs": [],
   "source": [
    "import json\n",
    "import re\n",
    "import time\n",
    "from urllib.request import urlopen\n",
    "\n",
    "import requests\n",
    "import translators as ts\n",
    "from bs4 import BeautifulSoup\n",
    "from selenium import webdriver\n",
    "from selenium.webdriver.chrome.service import Service as ChromeService\n",
    "from selenium.webdriver.common.by import By\n",
    "from selenium.webdriver.support import expected_conditions as EC\n",
    "from selenium.webdriver.support.wait import WebDriverWait"
   ]
  },
  {
   "attachments": {},
   "cell_type": "markdown",
   "metadata": {},
   "source": [
    "准备阶段"
   ]
  },
  {
   "cell_type": "code",
   "execution_count": 12,
   "metadata": {},
   "outputs": [],
   "source": [
    "url=\"https://ieeexplore.ieee.org/document/9411225\"\n",
    "url=\"https://ieeexplore.ieee.org/document/7809977\" #会议\n",
    "url=\"https://ieeexplore.ieee.org/document/5165285\" #TWC\n",
    "url='https://ieeexplore.ieee.org/document/4343975'\n",
    "url='https://ieeexplore.ieee.org/document/4347633'\n",
    "#url='https://ieeexplore.ieee.org/document/8524609'  #没有IEE参考文献的文章\n",
    "#url='https://ieeexplore.ieee.org/document/10018916/' #该文章只有两列关键词 且没有参考文献\n",
    "url='https://ieeexplore.ieee.org/document/9755887/' #无法获取因子\n",
    "url='https://ieeexplore.ieee.org/document/9870672'\n",
    "\n",
    "url=url+'references#references' if url[-1]=='/' else url+'/references#references'\n",
    "html=urlopen(url)\n",
    "html_byte=html.read()\n",
    "\n",
    "service = ChromeService(executable_path='./chromedriver.exe')\n",
    "options = webdriver.ChromeOptions()\n",
    "options.add_argument('--headless=new')\n",
    "driver = webdriver.Chrome(options=options,service=service)\n",
    "#driver = webdriver.Chrome(executable_path=\".\\\\chromedriver.exe\",options=webdriver.ChromeOptions().add_argument(\"--headless\"))# type: ignore\n",
    "driver.get(url)\n",
    "wait = WebDriverWait(driver, 20) \n",
    "wait.until(lambda driver: driver.execute_script(\"return document.readyState\") == \"complete\")\n",
    "\n",
    "'''wait = WebDriverWait(driver, 20) # 设置最多等待10秒\n",
    "wait.until(EC.presence_of_element_located((By.CLASS_NAME, \"stats-reference-link-viewArticle\"))) # 等待id为some_id的元素出现\n",
    "'''\n",
    "html_driver = driver.page_source\n",
    "driver.quit()\n",
    "\n",
    "bs=BeautifulSoup(html_byte)\n",
    "bs_driver=BeautifulSoup(html_driver,'lxml' )"
   ]
  },
  {
   "cell_type": "code",
   "execution_count": 10,
   "metadata": {},
   "outputs": [],
   "source": [
    "with open(\"../html/html.html\",\"wb\") as f:\n",
    "    f.write(html_byte)"
   ]
  },
  {
   "cell_type": "code",
   "execution_count": 11,
   "metadata": {},
   "outputs": [],
   "source": [
    "f=open(\"../html/html_driver.html\",\"w\")\n",
    "f.write(html_driver)\n",
    "f.close()\n"
   ]
  },
  {
   "attachments": {},
   "cell_type": "markdown",
   "metadata": {},
   "source": [
    "获取RSI"
   ]
  },
  {
   "cell_type": "code",
   "execution_count": null,
   "metadata": {},
   "outputs": [],
   "source": [
    "url='https://ieeexplore.ieee.org/document/8949737'\n",
    "service = ChromeService(executable_path='./chromedriver.exe')\n",
    "options = webdriver.ChromeOptions()\n",
    "options.add_argument('--headless=new')\n",
    "driver = webdriver.Chrome(options=options,service=service) # type: ignore\n",
    "driver.get(url)\n",
    "wait = WebDriverWait(driver, 20) \n",
    "wait.until(lambda driver: driver.execute_script(\"return document.readyState\") == \"complete\")\n",
    "html_driver = driver.page_source\n",
    "\n",
    "cite_this_button=driver.find_element(By.XPATH, '//button[text()=\"Cite This\"]')\n",
    "cite_this_button.click()\n",
    "\n",
    "ris_button = driver.find_element(By.XPATH, '//a[@class=\"document-tab-link\" and @title=\"RIS\"]')\n",
    "ris_button.click()\n",
    "\n",
    "wait.until(lambda driver: driver.execute_script(\"return document.readyState\") == \"complete\")\n",
    "element = wait.until(EC.presence_of_element_located((By.XPATH, '//pre[contains(concat(\" \", normalize-space(@class), \" \"), \"text ris-text\")]')))\n",
    "f=open('./a.ris','w')\n",
    "f.write(element.text)\n",
    "f.close()\n"
   ]
  },
  {
   "cell_type": "code",
   "execution_count": null,
   "metadata": {},
   "outputs": [],
   "source": [
    "# 初始化WebDriver\n",
    "driver = webdriver.Chrome()\n",
    "\n",
    "# 启动browsermob-proxy\n",
    "server = browsermobproxy.Server(\"./browsermob-proxy\")\n",
    "server.start()\n",
    "proxy = server.create_proxy()\n",
    "\n",
    "# 配置WebDriver使用代理\n",
    "chrome_options = webdriver.ChromeOptions()\n",
    "chrome_options.add_argument(\"--proxy-server={0}\".format(proxy.proxy))\n",
    "\n",
    "# 启动WebDriver\n",
    "driver = webdriver.Chrome(options=chrome_options)\n",
    "\n",
    "# 启动代理并打开网页\n",
    "proxy.new_har(\"example\")\n",
    "driver.get(\"https://example.com\")\n",
    "\n",
    "# 定位下载按钮\n",
    "down_button = driver.find_element_by_xpath(\"//a[@class='stats-download-citations-button-download']\")\n",
    "\n",
    "# 点击下载按钮\n",
    "down_button.click()\n",
    "\n",
    "# 等待一段时间，确保下载请求完成（根据实际情况调整等待时间）\n",
    "time.sleep(5)\n",
    "\n",
    "# 获取Har文件\n",
    "har = proxy.har\n",
    "\n",
    "# 查找下载链接\n",
    "download_link = None\n",
    "for entry in har['log']['entries']:\n",
    "    if entry['response']['content']['mimeType'] == 'application/octet-stream':\n",
    "        download_link = entry['response']['url']\n",
    "        break\n",
    "\n",
    "# 打印下载链接（用于调试）\n",
    "print(\"下载链接:\", download_link)"
   ]
  },
  {
   "attachments": {},
   "cell_type": "markdown",
   "metadata": {},
   "source": [
    "获取摘要和翻译"
   ]
  },
  {
   "cell_type": "code",
   "execution_count": null,
   "metadata": {},
   "outputs": [],
   "source": [
    "abstract = bs.find('meta', {'property': 'twitter:description'})['content']#.replace('n','') # type: ignore\n",
    "print(abstract)\n",
    "\n",
    "abstract_translation=ts.google(abstract,from_language=\"en\",to_language='zh', host_url=\"https://translate.google.com/\")\n",
    "print(abstract_translation)"
   ]
  },
  {
   "attachments": {},
   "cell_type": "markdown",
   "metadata": {},
   "source": [
    "获取关键词"
   ]
  },
  {
   "cell_type": "code",
   "execution_count": 7,
   "metadata": {},
   "outputs": [
    {
     "ename": "AttributeError",
     "evalue": "'NoneType' object has no attribute 'group'",
     "output_type": "error",
     "traceback": [
      "\u001b[1;31m---------------------------------------------------------------------------\u001b[0m",
      "\u001b[1;31mAttributeError\u001b[0m                            Traceback (most recent call last)",
      "Cell \u001b[1;32mIn[7], line 2\u001b[0m\n\u001b[0;32m      1\u001b[0m match\u001b[39m=\u001b[39mre\u001b[39m.\u001b[39msearch(\u001b[39mr\u001b[39m\u001b[39m'\u001b[39m\u001b[39m\"\u001b[39m\u001b[39mAuthor Keywords\u001b[39m\u001b[39m\\\u001b[39m\u001b[39ms*\u001b[39m\u001b[39m\"\u001b[39m\u001b[39m,\u001b[39m\u001b[39m\"\u001b[39m\u001b[39mkwd\u001b[39m\u001b[39m\"\u001b[39m\u001b[39m:\u001b[39m\u001b[39m\\\u001b[39m\u001b[39m[.*?\u001b[39m\u001b[39m\\\u001b[39m\u001b[39m]\u001b[39m\u001b[39m'\u001b[39m,html_byte\u001b[39m.\u001b[39mdecode(),re\u001b[39m.\u001b[39mDOTALL)\n\u001b[1;32m----> 2\u001b[0m match\u001b[39m=\u001b[39mre\u001b[39m.\u001b[39msearch(\u001b[39mr\u001b[39m\u001b[39m'\u001b[39m\u001b[39m\\\u001b[39m\u001b[39m[.*\u001b[39m\u001b[39m\\\u001b[39m\u001b[39m]\u001b[39m\u001b[39m'\u001b[39m,match\u001b[39m.\u001b[39;49mgroup(),re\u001b[39m.\u001b[39mDOTALL)\n\u001b[0;32m      3\u001b[0m \u001b[39mif\u001b[39;00m match:\n\u001b[0;32m      4\u001b[0m     \u001b[39mlist\u001b[39m\u001b[39m=\u001b[39mjson\u001b[39m.\u001b[39mloads(match\u001b[39m.\u001b[39mgroup())\n",
      "\u001b[1;31mAttributeError\u001b[0m: 'NoneType' object has no attribute 'group'"
     ]
    }
   ],
   "source": [
    "match=re.search(r'\"Author Keywords\\s*\",\"kwd\":\\[.*?\\]',html_byte.decode(),re.DOTALL)\n",
    "match=re.search(r'\\[.*\\]',match.group(),re.DOTALL)\n",
    "if match:\n",
    "    list=json.loads(match.group())\n",
    "print(list)\n"
   ]
  },
  {
   "attachments": {},
   "cell_type": "markdown",
   "metadata": {},
   "source": [
    "获取参考文献"
   ]
  },
  {
   "cell_type": "code",
   "execution_count": 13,
   "metadata": {},
   "outputs": [
    {
     "name": "stdout",
     "output_type": "stream",
     "text": [
      "['https://ieeexplore.ieee.org/document/8953886', 'https://ieeexplore.ieee.org/document/8954456', 'https://ieeexplore.ieee.org/document/8954257', 'https://ieeexplore.ieee.org/document/9010643', 'https://ieeexplore.ieee.org/document/8578717', 'https://ieeexplore.ieee.org/document/8578248', 'https://ieeexplore.ieee.org/document/8953907', 'https://ieeexplore.ieee.org/document/9156344', 'https://ieeexplore.ieee.org/document/7780820', 'https://ieeexplore.ieee.org/document/8578823', 'https://ieeexplore.ieee.org/document/8953846', 'https://ieeexplore.ieee.org/document/8648420', 'https://ieeexplore.ieee.org/document/9156737', 'https://ieeexplore.ieee.org/document/9009483', 'https://ieeexplore.ieee.org/document/8578886', 'https://ieeexplore.ieee.org/document/8099854', 'https://ieeexplore.ieee.org/document/9157700', 'https://ieeexplore.ieee.org/document/9009034', 'https://ieeexplore.ieee.org/document/8953775', 'https://ieeexplore.ieee.org/document/7780459', 'https://ieeexplore.ieee.org/document/8099589', 'https://ieeexplore.ieee.org/document/7410526', 'https://ieeexplore.ieee.org/document/8237586', 'https://ieeexplore.ieee.org/document/8978157', 'https://ieeexplore.ieee.org/document/7333942', 'https://ieeexplore.ieee.org/document/6891290', 'https://ieeexplore.ieee.org/document/7410480', 'https://ieeexplore.ieee.org/document/8953886', 'https://ieeexplore.ieee.org/document/8954456', 'https://ieeexplore.ieee.org/document/8954257', 'https://ieeexplore.ieee.org/document/9010643', 'https://ieeexplore.ieee.org/document/8578717', 'https://ieeexplore.ieee.org/document/8578248', 'https://ieeexplore.ieee.org/document/8953907', 'https://ieeexplore.ieee.org/document/9156344', 'https://ieeexplore.ieee.org/document/7780820', 'https://ieeexplore.ieee.org/document/8578823', 'https://ieeexplore.ieee.org/document/8953846', 'https://ieeexplore.ieee.org/document/8648420', 'https://ieeexplore.ieee.org/document/9156737', 'https://ieeexplore.ieee.org/document/9009483', 'https://ieeexplore.ieee.org/document/8578886', 'https://ieeexplore.ieee.org/document/8099854', 'https://ieeexplore.ieee.org/document/9157700', 'https://ieeexplore.ieee.org/document/9009034', 'https://ieeexplore.ieee.org/document/8953775', 'https://ieeexplore.ieee.org/document/7780459', 'https://ieeexplore.ieee.org/document/8099589', 'https://ieeexplore.ieee.org/document/7410526', 'https://ieeexplore.ieee.org/document/8237586', 'https://ieeexplore.ieee.org/document/8978157', 'https://ieeexplore.ieee.org/document/7333942', 'https://ieeexplore.ieee.org/document/6891290', 'https://ieeexplore.ieee.org/document/7410480'] \n",
      " ['https://doi.org/10.1145/3394171.3413819', 'https://doi.org/10.1609/aaai.v32i1.12269', 'https://doi.org/10.1145/3394171.3413565', 'https://doi.org/10.1145/3343031.3350988', 'https://doi.org/10.1016/j.patcog.2019.02.002', 'https://doi.org/10.1007/s11263-015-0816-y', 'https://doi.org/10.1609/aaai.v34i07.6812', 'https://doi.org/10.1145/3394171.3413819', 'https://doi.org/10.1609/aaai.v32i1.12269', 'https://doi.org/10.1145/3394171.3413565', 'https://doi.org/10.1145/3343031.3350988', 'https://doi.org/10.1016/j.patcog.2019.02.002', 'https://doi.org/10.1007/s11263-015-0816-y', 'https://doi.org/10.1609/aaai.v34i07.6812']\n"
     ]
    }
   ],
   "source": [
    "View_Article=bs_driver.find_all(\"a\",{\"class\":'stats-reference-link-viewArticle'})\n",
    "CrossRef=bs_driver.find_all(\"a\",{\"class\":'stats-reference-link-crossRef'})\n",
    "View_Article_list=[]\n",
    "CrossRef_list=[]\n",
    "\n",
    "for article in View_Article:\n",
    "    if article:\n",
    "        View_Article_list.append(article.get(\"href\"))\n",
    "        \n",
    "View_Article_list=['https://ieeexplore.ieee.org'+link for link in View_Article_list]\n",
    "\n",
    "for article in CrossRef:\n",
    "    if article:\n",
    "        CrossRef_list.append(article.get(\"href\"))\n",
    "\n",
    "print(View_Article_list,'\\n',CrossRef_list)"
   ]
  },
  {
   "attachments": {},
   "cell_type": "markdown",
   "metadata": {},
   "source": [
    "获取期刊名"
   ]
  },
  {
   "cell_type": "code",
   "execution_count": 14,
   "metadata": {},
   "outputs": [
    {
     "name": "stdout",
     "output_type": "stream",
     "text": [
      "IEEE Transactions on Image Processing\n"
     ]
    },
    {
     "data": {
      "text/plain": [
       "\"impact_factor_list={'IEEE Transactions on Wireless Communications':10}\\nif Journal_Title in impact_factor_list:\\n    impact_factor=str(impact_factor_list[Journal_Title])\\nelse:\\n    impact_factor='null'\\n\\nprint(impact_factor)\""
      ]
     },
     "execution_count": 14,
     "metadata": {},
     "output_type": "execute_result"
    }
   ],
   "source": [
    "Journal_Title=bs_driver.find('strong', text='Published in: ').find_next_sibling().get_text()\n",
    "print(Journal_Title)\n",
    "\n",
    "'''impact_factor_list={'IEEE Transactions on Wireless Communications':10}\n",
    "if Journal_Title in impact_factor_list:\n",
    "    impact_factor=str(impact_factor_list[Journal_Title])\n",
    "else:\n",
    "    impact_factor='null'\n",
    "\n",
    "print(impact_factor)'''"
   ]
  },
  {
   "attachments": {},
   "cell_type": "markdown",
   "metadata": {},
   "source": [
    "获取DOI"
   ]
  },
  {
   "cell_type": "code",
   "execution_count": null,
   "metadata": {},
   "outputs": [],
   "source": [
    "doi=bs_driver.find('strong', text='DOI: ').find_next_sibling().get_text()\n",
    "Doi_link='https://doi.org/'+doi\n",
    "print(Doi_link)"
   ]
  },
  {
   "attachments": {},
   "cell_type": "markdown",
   "metadata": {},
   "source": [
    "获取影响因子"
   ]
  },
  {
   "cell_type": "code",
   "execution_count": 15,
   "metadata": {},
   "outputs": [
    {
     "name": "stdout",
     "output_type": "stream",
     "text": [
      "None\n",
      "None\n",
      "<a _ngcontent-wdq-c160=\"\" href=\"/browse/periodicals/title/\">Journals &amp; Magazines</a>\n"
     ]
    }
   ],
   "source": [
    "print(bs_driver.find(href='/browse/conferences/title/')) #会议 \n",
    "print(bs_driver.find({'href':'/browse/conferences/title/'}))   #TODO 为什么和上面输出不一样\n",
    "print(bs_driver.find(href=\"/browse/periodicals/title/\")) #期刊和杂志\n",
    "\n",
    "#print(bs_driver.find(text='Journals & Magazines').parent) #这是不行的,他们都有这个,无法区分\n"
   ]
  },
  {
   "cell_type": "code",
   "execution_count": 20,
   "metadata": {},
   "outputs": [
    {
     "name": "stdout",
     "output_type": "stream",
     "text": [
      "this is a Journals or Magazines paper\n",
      "https://ieeexplore.ieee.org/xpl/RecentIssue.jsp?punumber=83\n",
      "11.041\n"
     ]
    }
   ],
   "source": [
    "Journal_index=True\n",
    "\n",
    "if bs_driver.find(href=\"/browse/periodicals/title/\"):\n",
    "    \n",
    "    Journal_index=True \n",
    "    print('this is a Journals or Magazines paper')\n",
    "\n",
    "    journal_link='https://ieeexplore.ieee.org'+bs_driver.find('strong', text='Published in: ').find_next_sibling().get('href')\n",
    "    print(journal_link)\n",
    "\n",
    "    service = ChromeService(executable_path='../chromedriver.exe')\n",
    "    options = webdriver.ChromeOptions()\n",
    "    #options.add_argument('--headless=new')\n",
    "    driver = webdriver.Chrome(options=options,service=service) # type: ignore\n",
    "    driver.get(journal_link)\n",
    "    wait = WebDriverWait(driver, 20) \n",
    "    #wait.until(lambda driver: driver.execute_script(\"return document.readyState\") == \"complete\")\n",
    "    wait.until(EC.presence_of_element_located((By.CLASS_NAME, 'text-md-md-lh')))\n",
    "    \n",
    "    journal_html = driver.page_source\n",
    "    driver.quit()\n",
    "\n",
    "\n",
    "    \n",
    "    ''' \n",
    "    driver = webdriver.Chrome(executable_path=\".\\\\chromedriver.exe\")\n",
    "    driver.get(journal_link)\n",
    "    time.sleep(5)\n",
    "    journal_html = driver.page_source\n",
    "    driver.quit()\n",
    "    '''\n",
    "\n",
    "    f=open(\"../html/get_detail_test3.html\",\"w\")\n",
    "    f.write(journal_html)\n",
    "    f.close()\n",
    "\n",
    "    bs_temp=BeautifulSoup(journal_html)\n",
    "    impact_factor=bs_temp.find('a',{'class':'stats-jhp-impact-factor'}).find('span',{'class':'text-md-md-lh'}).get_text()\n",
    "    \n",
    "else :\n",
    "    impact_factor=''\n",
    "\n",
    "print(impact_factor)"
   ]
  },
  {
   "attachments": {},
   "cell_type": "markdown",
   "metadata": {},
   "source": [
    "获取日期"
   ]
  },
  {
   "cell_type": "code",
   "execution_count": 21,
   "metadata": {},
   "outputs": [
    {
     "name": "stdout",
     "output_type": "stream",
     "text": [
      " 12 April 2022 \n"
     ]
    }
   ],
   "source": [
    "\n",
    "if not Journal_index:\n",
    "    Date=str(bs_driver.find('strong', text='Date of Conference: ').next_sibling) # type: ignore\n",
    "else:\n",
    "    Date=str(bs_driver.find('strong', text='Date of Publication:').next_sibling) # type: ignore\n",
    "\n",
    "print(Date)\n"
   ]
  },
  {
   "attachments": {},
   "cell_type": "markdown",
   "metadata": {},
   "source": [
    "获取标题"
   ]
  },
  {
   "cell_type": "code",
   "execution_count": 22,
   "metadata": {},
   "outputs": [
    {
     "name": "stdout",
     "output_type": "stream",
     "text": [
      "To Hide Anchor’s Position in Range-Based Wireless Localization via Secret Sharing\n"
     ]
    }
   ],
   "source": [
    "print(bs.find('title').find_next_sibling().get('content')) # type: ignore #这里用.next_sibling会出错,因为两个元素间有空格"
   ]
  },
  {
   "attachments": {},
   "cell_type": "markdown",
   "metadata": {},
   "source": [
    "获取文档PDF"
   ]
  },
  {
   "cell_type": "code",
   "execution_count": 23,
   "metadata": {},
   "outputs": [],
   "source": [
    "doi='10.1109/TWC.2009.070566'\n",
    "scihub_link='https://sci-hub.se/'+doi\n",
    "pdf_html=urlopen(scihub_link).read()\n",
    "bs_pdf=BeautifulSoup(pdf_html)"
   ]
  },
  {
   "cell_type": "code",
   "execution_count": 24,
   "metadata": {},
   "outputs": [],
   "source": [
    "f=open('pdf.html','wb')\n",
    "f.write(pdf_html)\n",
    "f.close()"
   ]
  },
  {
   "cell_type": "code",
   "execution_count": 25,
   "metadata": {},
   "outputs": [
    {
     "name": "stdout",
     "output_type": "stream",
     "text": [
      "https://zero.sci-hub.se/3452/c5f527d3fa8cc050a5e45aa2735b02ba/abdi2009.pdf#navpanes=0&view=FitH\n"
     ]
    }
   ],
   "source": [
    "pdf_link='https:'+bs_pdf.find('embed',{'type':\"application/pdf\"}).get('src')\n",
    "print(pdf_link)"
   ]
  },
  {
   "cell_type": "code",
   "execution_count": 26,
   "metadata": {},
   "outputs": [],
   "source": [
    "import requests\n",
    "import os\n",
    "\n",
    "response = requests.get(pdf_link)"
   ]
  },
  {
   "cell_type": "code",
   "execution_count": 28,
   "metadata": {},
   "outputs": [],
   "source": [
    "file_name = os.path.basename(pdf_link)+'.pdf'\n",
    "with open('..\\\\pdf\\\\'+file_name, 'wb') as f:\n",
    "    f.write(response.content)"
   ]
  }
 ],
 "metadata": {
  "kernelspec": {
   "display_name": "spider",
   "language": "python",
   "name": "python3"
  },
  "language_info": {
   "codemirror_mode": {
    "name": "ipython",
    "version": 3
   },
   "file_extension": ".py",
   "mimetype": "text/x-python",
   "name": "python",
   "nbconvert_exporter": "python",
   "pygments_lexer": "ipython3",
   "version": "3.11.3"
  },
  "orig_nbformat": 4
 },
 "nbformat": 4,
 "nbformat_minor": 2
}
