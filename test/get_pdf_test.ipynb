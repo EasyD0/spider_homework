{
 "cells": [
  {
   "cell_type": "code",
   "execution_count": 1,
   "metadata": {},
   "outputs": [],
   "source": [
    "from urllib.request import urlopen\n",
    "import requests\n",
    "from bs4 import BeautifulSoup\n",
    "import os"
   ]
  },
  {
   "cell_type": "code",
   "execution_count": 7,
   "metadata": {},
   "outputs": [
    {
     "name": "stdout",
     "output_type": "stream",
     "text": [
      "https://sci-hub.se/uptodate/S0048969721043928.pdf#navpanes=0&view=FitH\n"
     ]
    },
    {
     "ename": "NameError",
     "evalue": "name 'os' is not defined",
     "output_type": "error",
     "traceback": [
      "\u001b[1;31m---------------------------------------------------------------------------\u001b[0m",
      "\u001b[1;31mNameError\u001b[0m                                 Traceback (most recent call last)",
      "Cell \u001b[1;32mIn[7], line 16\u001b[0m\n\u001b[0;32m     14\u001b[0m \u001b[39mprint\u001b[39m(pdf_link)\n\u001b[0;32m     15\u001b[0m response \u001b[39m=\u001b[39m requests\u001b[39m.\u001b[39mget(pdf_link)\n\u001b[1;32m---> 16\u001b[0m file_name \u001b[39m=\u001b[39m os\u001b[39m.\u001b[39mpath\u001b[39m.\u001b[39mbasename(pdf_link)\u001b[39m+\u001b[39m\u001b[39m'\u001b[39m\u001b[39m.pdf\u001b[39m\u001b[39m'\u001b[39m \u001b[39m# type: ignore\u001b[39;00m\n\u001b[0;32m     18\u001b[0m \u001b[39mwith\u001b[39;00m \u001b[39mopen\u001b[39m(save_path\u001b[39m+\u001b[39mfile_name, \u001b[39m'\u001b[39m\u001b[39mwb\u001b[39m\u001b[39m'\u001b[39m) \u001b[39mas\u001b[39;00m f:\n\u001b[0;32m     19\u001b[0m     f\u001b[39m.\u001b[39mwrite(response\u001b[39m.\u001b[39mcontent)\n",
      "\u001b[1;31mNameError\u001b[0m: name 'os' is not defined"
     ]
    }
   ],
   "source": [
    "save_path='./'\n",
    "Doi= '10.1016/j.scitotenv.2021.149319'\n",
    "scihub_link='https://sci-hub.se/'+Doi\n",
    "scihub_html=urlopen(scihub_link).read()\n",
    "\n",
    "with open('./html/pdf.Html', 'wb') as f:\n",
    "    f.write(scihub_html)\n",
    "\n",
    "\n",
    "\n",
    "bs_pdf=BeautifulSoup(scihub_html,\"lxml\")\n",
    "\n",
    "pdf_link='https://sci-hub.se'+bs_pdf.find('embed',{'type':\"application/pdf\"}).get('src') # type: ignore\n",
    "print(pdf_link)\n",
    "response = requests.get(pdf_link)\n",
    "\n",
    "file_name = os.path.basename(pdf_link)+'.pdf' # type: ignore\n",
    "\n",
    "with open(save_path+file_name, 'wb') as f:\n",
    "    f.write(response.content)\n",
    "print(f'下载完成,文件在{save_path}{file_name}')\n",
    "\n",
    "\n",
    "\n",
    "#真正的链接 : https://sci-hub.se/uptodate/S0048969721043928.pdf?download=true\n"
   ]
  },
  {
   "cell_type": "code",
   "execution_count": 8,
   "metadata": {},
   "outputs": [
    {
     "name": "stdout",
     "output_type": "stream",
     "text": [
      "下载完成,文件在./S0048969721043928.pdf#navpanes=0&view=FitH.pdf\n"
     ]
    }
   ],
   "source": [
    "\n"
   ]
  }
 ],
 "metadata": {
  "kernelspec": {
   "display_name": "spider",
   "language": "python",
   "name": "python3"
  },
  "language_info": {
   "codemirror_mode": {
    "name": "ipython",
    "version": 3
   },
   "file_extension": ".py",
   "mimetype": "text/x-python",
   "name": "python",
   "nbconvert_exporter": "python",
   "pygments_lexer": "ipython3",
   "version": "3.11.3"
  },
  "orig_nbformat": 4
 },
 "nbformat": 4,
 "nbformat_minor": 2
}
